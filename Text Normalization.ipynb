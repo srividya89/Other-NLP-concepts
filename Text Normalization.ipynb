{
 "cells": [
  {
   "cell_type": "markdown",
   "id": "1e6d1e56-b5b7-4033-b5c9-a1959ed85669",
   "metadata": {},
   "source": [
    "In this, we can normalize the textual data using Python. Below is the complete python program:"
   ]
  },
  {
   "cell_type": "code",
   "execution_count": 1,
   "id": "9dceecb2-d14c-460f-8a57-fb1f02c9528c",
   "metadata": {},
   "outputs": [
    {
     "name": "stdout",
     "output_type": "stream",
     "text": [
      "['python', 'released', 'in', 'was', 'a', 'major', 'revision', 'of', 'the', 'language', 'that', 'is', 'not', 'completely', 'backward', 'compatible', 'and', 'much', 'python', 'code', 'does', 'not', 'run', 'unmodified', 'on', 'python', 'with', 'python', 's', 'endoflife', 'only', 'python', 'x', 'and', 'later', 'are', 'supported', 'with', 'older', 'versions', 'still', 'supporting', 'eg', 'windows', 'and', 'old', 'installers', 'not', 'restricted', 'to', 'bit', 'windows']\n",
      "python released major revision language completely backward compatible much python code run unmodified python python endoflife python x later supported older versions still supporting eg windows old installers restricted bit windows\n"
     ]
    },
    {
     "name": "stderr",
     "output_type": "stream",
     "text": [
      "[nltk_data] Downloading package stopwords to\n",
      "[nltk_data]     C:\\Users\\Welcome\\AppData\\Roaming\\nltk_data...\n",
      "[nltk_data]   Package stopwords is already up-to-date!\n"
     ]
    }
   ],
   "source": [
    "# import regex\n",
    "import re\n",
    "\n",
    "# download stopwords\n",
    "import nltk\n",
    "nltk.download('stopwords')\n",
    "\n",
    "# import nltk for stopwords\n",
    "from nltk.corpus import stopwords\n",
    "stop_words = set(stopwords.words('english'))\n",
    "\n",
    "\n",
    "# input string \n",
    "string = \"       Python 3.0, released in 2008, was a major revision of the language that is not completely backward compatible and much Python 2 code does not run unmodified on Python 3. With Python 2's end-of-life, only Python 3.6.x[30] and later are supported, with older versions still supporting e.g. Windows 7 (and old installers not restricted to 64-bit Windows).\"\n",
    "\n",
    "# convert to lower case\n",
    "lower_string = string.lower()\n",
    "\n",
    "# remove numbers\n",
    "no_number_string = re.sub(r'\\d+','',lower_string)\n",
    "\n",
    "# remove all punctuation except words and space\n",
    "no_punc_string = re.sub(r'[^\\w\\s]','', no_number_string) \n",
    "\n",
    "# remove white spaces\n",
    "no_wspace_string = no_punc_string.strip()\n",
    "no_wspace_string\n",
    "\n",
    "# convert string to list of words\n",
    "lst_string = [no_wspace_string][0].split()\n",
    "print(lst_string)\n",
    "\n",
    "# remove stopwords\n",
    "no_stpwords_string=\"\"\n",
    "for i in lst_string:\n",
    "    if not i in stop_words:\n",
    "        no_stpwords_string += i+' '\n",
    "        \n",
    "# removing last space\n",
    "no_stpwords_string = no_stpwords_string[:-1]\n",
    "\n",
    "# output\n",
    "print(no_stpwords_string)"
   ]
  },
  {
   "cell_type": "code",
   "execution_count": null,
   "id": "3fe4b74a-b0c5-4a61-bacb-dd994fb0cbfb",
   "metadata": {},
   "outputs": [],
   "source": []
  }
 ],
 "metadata": {
  "kernelspec": {
   "display_name": "Python [conda env:mycorrectenv]",
   "language": "python",
   "name": "conda-env-mycorrectenv-py"
  },
  "language_info": {
   "codemirror_mode": {
    "name": "ipython",
    "version": 3
   },
   "file_extension": ".py",
   "mimetype": "text/x-python",
   "name": "python",
   "nbconvert_exporter": "python",
   "pygments_lexer": "ipython3",
   "version": "3.10.18"
  }
 },
 "nbformat": 4,
 "nbformat_minor": 5
}
