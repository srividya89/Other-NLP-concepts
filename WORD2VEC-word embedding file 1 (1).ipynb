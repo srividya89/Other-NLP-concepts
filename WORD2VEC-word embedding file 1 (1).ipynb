{
 "cells": [
  {
   "cell_type": "markdown",
   "id": "420b1816-931f-43b3-81de-92737a3a00ac",
   "metadata": {},
   "source": [
    "WORD2VEC-wORD EMBEDDING.WORD2VEC IS PART OF WORDEMBEDDING.Word2Vec is more advanced than CountVectorizer and TfIDF vectorizer.word2vec gives precise vector.One hot encoder in ML will convert word Have=[1,0,0,0,0],a=[0,1,0,0,0] its like transpose.length of above one hot encoded vector is 5 .V=5.we should have a vector of zeros except for the element at the index reresenting the corresponding word in the vocblary.the corresponding element will be 1 .\n",
    "e.g have a goood day\n",
    "have a great day.\n",
    "great=[0,0,0,1,0]\n",
    "good=[0,0,1,0,0]\n",
    "here good and great word is only diff and all other words are same in the sentence i.e have,a,day.\n",
    "above it s not vector its encoder.one hot encoder.this is encoding technique.in visualize the above vector it will be 5 dimmensional becoz 5 data there.in visualize the encoding its 5 dimensional space where each word occupies one of the dimensions.good and great has diff meaning.so we will project the dimensions for good and great and will nothing to do with rest no projection along the other dimension.actuallly there is no relation between good and great.but word2vec tries to make good and great meanings are almost equal.but previously in one hot encoding echnique it treat as diff diff data for good and great.\n",
    "\n"
   ]
  },
  {
   "cell_type": "markdown",
   "id": "ff57f5a9-0035-401b-9153-e16205fd9ba9",
   "metadata": {},
   "source": [
    "word 2 vec has objectives to have words with similar context occupies close spatial positions.so good and great has same meaning they should occupy same spatial positions.cosine angle of those vectore is close to 0 and close to 1."
   ]
  },
  {
   "cell_type": "markdown",
   "id": "7bf50bae-1266-42db-8a20-8d21899af178",
   "metadata": {},
   "source": [
    "so word2vec is advanced than countvectorizer and tfidf vectorizer and word2vec will solve shortcomings of them."
   ]
  },
  {
   "cell_type": "markdown",
   "id": "a89a03ca-1049-4312-b0b3-b25451b84892",
   "metadata": {},
   "source": [
    "WORD2VEC"
   ]
  },
  {
   "cell_type": "code",
   "execution_count": 2,
   "id": "4626cdac-234a-468a-83d6-f8d1a43dbe15",
   "metadata": {},
   "outputs": [],
   "source": [
    "#regular expressions\n",
    "import re\n",
    "import nltk\n",
    "import string\n",
    "from gensim.models import Word2Vec #Word2Vec is available in gensim library\n",
    "from nltk.corpus import stopwords\n",
    "import matplotlib.pyplot as plt\n",
    "%matplotlib inline\n",
    "\n"
   ]
  },
  {
   "cell_type": "markdown",
   "id": "d7d5b7d3-3eee-4234-8e63-165e621eb520",
   "metadata": {},
   "source": [
    "word@vec generates many vectors in multiple dimensions."
   ]
  },
  {
   "cell_type": "code",
   "execution_count": 6,
   "id": "d4f5aa32-8491-4c43-8d71-30047b918996",
   "metadata": {},
   "outputs": [],
   "source": [
    "paragraph =\"In America, says the encyclopedia libertarian (from which most of these figures are taken), there were only five sadists of importance in 1913, and now (1930) there are thirty,India (Hindi:Bharat),officially the Republic of India,is a country in South Asia.It is the seventh-largest country,NLP is fun and Can deal with texts and sounds,but can't deal with images.We have session at 11AM!.We can earn lot of $\""
   ]
  },
  {
   "cell_type": "code",
   "execution_count": 7,
   "id": "d7e13221-4935-42c2-8ead-4e7d41a1e8a2",
   "metadata": {},
   "outputs": [],
   "source": [
    "paragraph=paragraph.translate(str.maketrans('','',string.punctuation))\n",
    "#we find punctuations and replace with spaces"
   ]
  },
  {
   "cell_type": "code",
   "execution_count": 8,
   "id": "bbc47d73-14ad-4d24-ad22-fc83ba1f1600",
   "metadata": {},
   "outputs": [
    {
     "data": {
      "text/plain": [
       "'In America says the encyclopedia libertarian from which most of these figures are taken there were only five sadists of importance in 1913 and now 1930 there are thirtyIndia HindiBharatofficially the Republic of Indiais a country in South AsiaIt is the seventhlargest countryNLP is fun and Can deal with texts and soundsbut cant deal with imagesWe have session at 11AMWe can earn lot of '"
      ]
     },
     "execution_count": 8,
     "metadata": {},
     "output_type": "execute_result"
    }
   ],
   "source": [
    "paragraph\n"
   ]
  },
  {
   "cell_type": "code",
   "execution_count": 9,
   "id": "6873ac35-7b59-41dd-a2cb-ee06270e5031",
   "metadata": {},
   "outputs": [],
   "source": [
    "text=re.sub(r'\\[0-9]*\\]','',paragraph)"
   ]
  },
  {
   "cell_type": "code",
   "execution_count": 10,
   "id": "b81fe89c-7b1d-42ec-beaf-e0e5811f56c7",
   "metadata": {},
   "outputs": [
    {
     "data": {
      "text/plain": [
       "'In America says the encyclopedia libertarian from which most of these figures are taken there were only five sadists of importance in 1913 and now 1930 there are thirtyIndia HindiBharatofficially the Republic of Indiais a country in South AsiaIt is the seventhlargest countryNLP is fun and Can deal with texts and soundsbut cant deal with imagesWe have session at 11AMWe can earn lot of '"
      ]
     },
     "execution_count": 10,
     "metadata": {},
     "output_type": "execute_result"
    }
   ],
   "source": [
    "text"
   ]
  },
  {
   "cell_type": "markdown",
   "id": "2142261a-99b8-4384-9f7a-8757eacf6b95",
   "metadata": {},
   "source": [
    "# we deal with regular expressions numbers,special chars,dates,digits and replace that all by spaces.before that we convert them into lower.punctuations dont give any meaning and convert before everthing into lower."
   ]
  },
  {
   "cell_type": "code",
   "execution_count": 11,
   "id": "024d5f0c-15cb-49f8-b4bb-5fed3d6afcab",
   "metadata": {},
   "outputs": [],
   "source": [
    "text=re.sub(r'\\s+','',text)"
   ]
  },
  {
   "cell_type": "code",
   "execution_count": 12,
   "id": "55ec6afa-37c2-4b57-95ac-153389f73ca1",
   "metadata": {},
   "outputs": [
    {
     "data": {
      "text/plain": [
       "'InAmericasaystheencyclopedialibertarianfromwhichmostofthesefiguresaretakentherewereonlyfivesadistsofimportancein1913andnow1930therearethirtyIndiaHindiBharatofficiallytheRepublicofIndiaisacountryinSouthAsiaItistheseventhlargestcountryNLPisfunandCandealwithtextsandsoundsbutcantdealwithimagesWehavesessionat11AMWecanearnlotof'"
      ]
     },
     "execution_count": 12,
     "metadata": {},
     "output_type": "execute_result"
    }
   ],
   "source": [
    "text"
   ]
  },
  {
   "cell_type": "code",
   "execution_count": 13,
   "id": "475fbf63-91d6-4ee2-9708-9adeaf42a120",
   "metadata": {},
   "outputs": [],
   "source": [
    "text=text.lower()"
   ]
  },
  {
   "cell_type": "code",
   "execution_count": 14,
   "id": "308c8557-70d7-4526-9ebc-c9a2164fdafc",
   "metadata": {},
   "outputs": [
    {
     "data": {
      "text/plain": [
       "'inamericasaystheencyclopedialibertarianfromwhichmostofthesefiguresaretakentherewereonlyfivesadistsofimportancein1913andnow1930therearethirtyindiahindibharatofficiallytherepublicofindiaisacountryinsouthasiaitistheseventhlargestcountrynlpisfunandcandealwithtextsandsoundsbutcantdealwithimageswehavesessionat11amwecanearnlotof'"
      ]
     },
     "execution_count": 14,
     "metadata": {},
     "output_type": "execute_result"
    }
   ],
   "source": [
    "text"
   ]
  },
  {
   "cell_type": "code",
   "execution_count": 15,
   "id": "db0eb226-3393-4e74-bfb5-ecea0002aa62",
   "metadata": {},
   "outputs": [],
   "source": [
    "text=re.sub(r'\\d','',text)"
   ]
  },
  {
   "cell_type": "code",
   "execution_count": 16,
   "id": "b6d057c0-da10-44fd-aa7a-54cfcd5e0b6f",
   "metadata": {},
   "outputs": [
    {
     "data": {
      "text/plain": [
       "'inamericasaystheencyclopedialibertarianfromwhichmostofthesefiguresaretakentherewereonlyfivesadistsofimportanceinandnowtherearethirtyindiahindibharatofficiallytherepublicofindiaisacountryinsouthasiaitistheseventhlargestcountrynlpisfunandcandealwithtextsandsoundsbutcantdealwithimageswehavesessionatamwecanearnlotof'"
      ]
     },
     "execution_count": 16,
     "metadata": {},
     "output_type": "execute_result"
    }
   ],
   "source": [
    "text"
   ]
  },
  {
   "cell_type": "code",
   "execution_count": 17,
   "id": "054361f1-e33f-424b-97ba-f5070fc2c10a",
   "metadata": {},
   "outputs": [],
   "source": [
    "text=re.sub(r'\\s+','',text)"
   ]
  },
  {
   "cell_type": "code",
   "execution_count": 18,
   "id": "0a414457-90f9-427d-95d6-b139dded5e1f",
   "metadata": {},
   "outputs": [
    {
     "data": {
      "text/plain": [
       "'inamericasaystheencyclopedialibertarianfromwhichmostofthesefiguresaretakentherewereonlyfivesadistsofimportanceinandnowtherearethirtyindiahindibharatofficiallytherepublicofindiaisacountryinsouthasiaitistheseventhlargestcountrynlpisfunandcandealwithtextsandsoundsbutcantdealwithimageswehavesessionatamwecanearnlotof'"
      ]
     },
     "execution_count": 18,
     "metadata": {},
     "output_type": "execute_result"
    }
   ],
   "source": [
    "text"
   ]
  },
  {
   "cell_type": "markdown",
   "id": "b4944276-947f-4290-b135-3205cf0836d3",
   "metadata": {},
   "source": [
    "everything converted to lower and result data has no numbers and no special chars"
   ]
  },
  {
   "cell_type": "markdown",
   "id": "1f77bda8-f27f-40c8-a366-ecdaad09e959",
   "metadata": {},
   "source": [
    "now sentencetokenize this paragraph"
   ]
  },
  {
   "cell_type": "markdown",
   "id": "6de99142-94fc-408f-ab27-5f860173ef35",
   "metadata": {},
   "source": [
    "sentence tokenization"
   ]
  },
  {
   "cell_type": "code",
   "execution_count": 19,
   "id": "8f73bdc4-4ea1-42a4-873d-6783571bfe1f",
   "metadata": {},
   "outputs": [
    {
     "data": {
      "text/plain": [
       "['inamericasaystheencyclopedialibertarianfromwhichmostofthesefiguresaretakentherewereonlyfivesadistsofimportanceinandnowtherearethirtyindiahindibharatofficiallytherepublicofindiaisacountryinsouthasiaitistheseventhlargestcountrynlpisfunandcandealwithtextsandsoundsbutcantdealwithimageswehavesessionatamwecanearnlotof']"
      ]
     },
     "execution_count": 19,
     "metadata": {},
     "output_type": "execute_result"
    }
   ],
   "source": [
    "sentences=nltk.sent_tokenize(text)\n",
    "sentences"
   ]
  },
  {
   "cell_type": "markdown",
   "id": "4003f3ca-47e3-4d63-a7ca-7345c55eea3c",
   "metadata": {},
   "source": [
    "word tokenization"
   ]
  },
  {
   "cell_type": "markdown",
   "id": "2d80acf9-c5fb-4d11-a7ba-11a30b3c4eb6",
   "metadata": {},
   "source": [
    "is sentence not in para it doent matter becoz we removed punctuations."
   ]
  },
  {
   "cell_type": "code",
   "execution_count": 20,
   "id": "15d04dfb-3ac5-4728-8069-6ef7bf2acabf",
   "metadata": {},
   "outputs": [],
   "source": [
    "sent_word=[nltk.word_tokenize(sentence) for sentence in sentences]"
   ]
  },
  {
   "cell_type": "code",
   "execution_count": 21,
   "id": "b8430573-4d16-414c-98eb-70afbe568b29",
   "metadata": {},
   "outputs": [
    {
     "data": {
      "text/plain": [
       "[['inamericasaystheencyclopedialibertarianfromwhichmostofthesefiguresaretakentherewereonlyfivesadistsofimportanceinandnowtherearethirtyindiahindibharatofficiallytherepublicofindiaisacountryinsouthasiaitistheseventhlargestcountrynlpisfunandcandealwithtextsandsoundsbutcantdealwithimageswehavesessionatamwecanearnlotof']]"
      ]
     },
     "execution_count": 21,
     "metadata": {},
     "output_type": "execute_result"
    }
   ],
   "source": [
    "sent_word"
   ]
  },
  {
   "cell_type": "markdown",
   "id": "08a4bfa7-0aca-4b2b-aec2-6d5d09d65118",
   "metadata": {},
   "source": [
    "we have all words as one word two word and so on"
   ]
  },
  {
   "cell_type": "code",
   "execution_count": 22,
   "id": "c6d80b0f-c49a-4891-aae7-0d6236c6aabc",
   "metadata": {},
   "outputs": [],
   "source": [
    "punc=string.punctuation"
   ]
  },
  {
   "cell_type": "code",
   "execution_count": 23,
   "id": "a3e7bd13-b907-4df6-903c-37658f571f5e",
   "metadata": {},
   "outputs": [
    {
     "data": {
      "text/plain": [
       "'!\"#$%&\\'()*+,-./:;<=>?@[\\\\]^_`{|}~'"
      ]
     },
     "execution_count": 23,
     "metadata": {},
     "output_type": "execute_result"
    }
   ],
   "source": [
    "punc"
   ]
  },
  {
   "cell_type": "markdown",
   "id": "2d59b8df-cb76-4358-b5c2-6a656bd8d3fd",
   "metadata": {},
   "source": [
    "we make sure with punc above if anything is let over we will remove those punctuations again."
   ]
  },
  {
   "cell_type": "code",
   "execution_count": 26,
   "id": "3851130a-8da3-417d-8a27-3860e4eb5c4d",
   "metadata": {},
   "outputs": [],
   "source": [
    "for i in range(len(sent_word)):\n",
    "    sent_word[i]=[word for word in sent_word[i] if word not in stopwords.words('english') if word not in punc]"
   ]
  },
  {
   "cell_type": "code",
   "execution_count": 27,
   "id": "bf0e344e-cc47-40f9-935b-d703a3353926",
   "metadata": {},
   "outputs": [
    {
     "data": {
      "text/plain": [
       "['inamericasaystheencyclopedialibertarianfromwhichmostofthesefiguresaretakentherewereonlyfivesadistsofimportanceinandnowtherearethirtyindiahindibharatofficiallytherepublicofindiaisacountryinsouthasiaitistheseventhlargestcountrynlpisfunandcandealwithtextsandsoundsbutcantdealwithimageswehavesessionatamwecanearnlotof']"
      ]
     },
     "execution_count": 27,
     "metadata": {},
     "output_type": "execute_result"
    }
   ],
   "source": [
    "sent_word[i]"
   ]
  },
  {
   "cell_type": "code",
   "execution_count": 29,
   "id": "c2d9b6bc-1dff-420c-b1c7-b6b4305828d3",
   "metadata": {},
   "outputs": [
    {
     "data": {
      "text/plain": [
       "[['inamericasaystheencyclopedialibertarianfromwhichmostofthesefiguresaretakentherewereonlyfivesadistsofimportanceinandnowtherearethirtyindiahindibharatofficiallytherepublicofindiaisacountryinsouthasiaitistheseventhlargestcountrynlpisfunandcandealwithtextsandsoundsbutcantdealwithimageswehavesessionatamwecanearnlotof']]"
      ]
     },
     "execution_count": 29,
     "metadata": {},
     "output_type": "execute_result"
    }
   ],
   "source": [
    "sent_word"
   ]
  },
  {
   "cell_type": "markdown",
   "id": "13b8d257-bb4d-4324-aae6-bc8885c8ab3c",
   "metadata": {},
   "source": [
    "we check length os sentence word so we use range func so we can iterate  for every word in range(sentence_word)\n",
    "sent_word[i] where i is index position start with very first index position.\n",
    "we check every word in sentence_word 0th index data i.e the very first word\n",
    "so we remove all stowords and punc .every meaningfull word is in sent_word[i] now. \n"
   ]
  },
  {
   "cell_type": "markdown",
   "id": "6df98a6d-e26c-415d-a625-86be833d9adb",
   "metadata": {},
   "source": [
    "Train the word2vec model"
   ]
  },
  {
   "cell_type": "code",
   "execution_count": 32,
   "id": "a728b673-0103-4f20-851e-e127d40cf3a3",
   "metadata": {},
   "outputs": [
    {
     "name": "stdout",
     "output_type": "stream",
     "text": [
      "Collecting gensim==4.0\n",
      "  Downloading gensim-4.0.0.tar.gz (23.1 MB)\n",
      "     ---------------------------------------- 0.0/23.1 MB ? eta -:--:--\n",
      "     - -------------------------------------- 1.0/23.1 MB 49.2 MB/s eta 0:00:01\n",
      "     --- ------------------------------------ 2.1/23.1 MB 4.9 MB/s eta 0:00:05\n",
      "     --- ------------------------------------ 2.1/23.1 MB 4.9 MB/s eta 0:00:05\n",
      "     ----- ---------------------------------- 3.1/23.1 MB 4.1 MB/s eta 0:00:05\n",
      "     ----- ---------------------------------- 3.1/23.1 MB 4.1 MB/s eta 0:00:05\n",
      "     ----- ---------------------------------- 3.1/23.1 MB 4.1 MB/s eta 0:00:05\n",
      "     ----- ---------------------------------- 3.1/23.1 MB 4.1 MB/s eta 0:00:05\n",
      "     ------- -------------------------------- 4.2/23.1 MB 2.5 MB/s eta 0:00:08\n",
      "     ------- -------------------------------- 4.2/23.1 MB 2.5 MB/s eta 0:00:08\n",
      "     ------- -------------------------------- 4.2/23.1 MB 2.5 MB/s eta 0:00:08\n",
      "     ------- -------------------------------- 4.2/23.1 MB 2.5 MB/s eta 0:00:08\n",
      "     ------- -------------------------------- 4.2/23.1 MB 2.5 MB/s eta 0:00:08\n",
      "     ------- -------------------------------- 4.2/23.1 MB 2.5 MB/s eta 0:00:08\n",
      "     ------- -------------------------------- 4.2/23.1 MB 2.5 MB/s eta 0:00:08\n",
      "     ------- -------------------------------- 4.2/23.1 MB 2.5 MB/s eta 0:00:08\n",
      "     ------- -------------------------------- 4.2/23.1 MB 2.5 MB/s eta 0:00:08\n",
      "     ------- -------------------------------- 4.2/23.1 MB 2.5 MB/s eta 0:00:08\n",
      "     ------- -------------------------------- 4.2/23.1 MB 2.5 MB/s eta 0:00:08\n",
      "     ------- -------------------------------- 4.2/23.1 MB 2.5 MB/s eta 0:00:08\n",
      "     ------- -------------------------------- 4.2/23.1 MB 2.5 MB/s eta 0:00:08\n",
      "     ------- -------------------------------- 4.2/23.1 MB 2.5 MB/s eta 0:00:08\n",
      "     ------- -------------------------------- 4.2/23.1 MB 2.5 MB/s eta 0:00:08\n",
      "     ------- -------------------------------- 4.2/23.1 MB 2.5 MB/s eta 0:00:08\n",
      "     ------- -------------------------------- 4.2/23.1 MB 2.5 MB/s eta 0:00:08\n",
      "     -------- ------------------------------ 5.2/23.1 MB 993.0 kB/s eta 0:00:19\n",
      "     -------- ------------------------------ 5.2/23.1 MB 993.0 kB/s eta 0:00:19\n",
      "     ---------- ----------------------------- 6.3/23.1 MB 1.1 MB/s eta 0:00:16\n",
      "     ---------- ----------------------------- 6.3/23.1 MB 1.1 MB/s eta 0:00:16\n",
      "     ------------ --------------------------- 7.3/23.1 MB 1.2 MB/s eta 0:00:14\n",
      "     -------------- ------------------------- 8.4/23.1 MB 1.3 MB/s eta 0:00:12\n",
      "     --------------- ------------------------ 8.9/23.1 MB 1.3 MB/s eta 0:00:11\n",
      "     ---------------- ----------------------- 9.4/23.1 MB 1.4 MB/s eta 0:00:10\n",
      "     ------------------ --------------------- 10.5/23.1 MB 1.5 MB/s eta 0:00:09\n",
      "     ------------------ --------------------- 10.5/23.1 MB 1.5 MB/s eta 0:00:09\n",
      "     ------------------- -------------------- 11.5/23.1 MB 1.6 MB/s eta 0:00:08\n",
      "     ------------------- -------------------- 11.5/23.1 MB 1.6 MB/s eta 0:00:08\n",
      "     --------------------- ------------------ 12.6/23.1 MB 1.6 MB/s eta 0:00:07\n",
      "     ----------------------- ---------------- 13.6/23.1 MB 1.7 MB/s eta 0:00:06\n",
      "     ----------------------- ---------------- 13.6/23.1 MB 1.7 MB/s eta 0:00:06\n",
      "     ------------------------- -------------- 14.7/23.1 MB 1.8 MB/s eta 0:00:05\n",
      "     --------------------------- ------------ 15.7/23.1 MB 1.8 MB/s eta 0:00:05\n",
      "     --------------------------- ------------ 15.7/23.1 MB 1.8 MB/s eta 0:00:05\n",
      "     --------------------------- ------------ 15.7/23.1 MB 1.8 MB/s eta 0:00:05\n",
      "     --------------------------- ------------ 15.7/23.1 MB 1.8 MB/s eta 0:00:05\n",
      "     ---------------------------- ----------- 16.5/23.1 MB 1.7 MB/s eta 0:00:04\n",
      "     ----------------------------- ---------- 16.8/23.1 MB 1.8 MB/s eta 0:00:04\n",
      "     ------------------------------ --------- 17.8/23.1 MB 1.8 MB/s eta 0:00:03\n",
      "     -------------------------------- ------- 18.9/23.1 MB 1.9 MB/s eta 0:00:03\n",
      "     ---------------------------------- ----- 19.9/23.1 MB 1.9 MB/s eta 0:00:02\n",
      "     ---------------------------------- ----- 19.9/23.1 MB 1.9 MB/s eta 0:00:02\n",
      "     ------------------------------------ --- 21.0/23.1 MB 2.0 MB/s eta 0:00:02\n",
      "     ------------------------------------ --- 21.0/23.1 MB 2.0 MB/s eta 0:00:02\n",
      "     ------------------------------------ --- 21.0/23.1 MB 2.0 MB/s eta 0:00:02\n",
      "     -------------------------------------- - 22.0/23.1 MB 1.9 MB/s eta 0:00:01\n",
      "     -------------------------------------- - 22.0/23.1 MB 1.9 MB/s eta 0:00:01\n",
      "     ---------------------------------------  23.1/23.1 MB 2.0 MB/s eta 0:00:01\n",
      "     ---------------------------------------- 23.1/23.1 MB 1.9 MB/s eta 0:00:00\n",
      "  Preparing metadata (setup.py): started\n",
      "  Preparing metadata (setup.py): finished with status 'done'\n",
      "Requirement already satisfied: numpy>=1.11.3 in c:\\users\\welcome\\anaconda3\\lib\\site-packages (from gensim==4.0) (1.26.4)\n",
      "Requirement already satisfied: scipy>=0.18.1 in c:\\users\\welcome\\anaconda3\\lib\\site-packages (from gensim==4.0) (1.13.1)\n",
      "Requirement already satisfied: smart_open>=1.8.1 in c:\\users\\welcome\\anaconda3\\lib\\site-packages (from gensim==4.0) (5.2.1)\n",
      "Building wheels for collected packages: gensim\n",
      "  Building wheel for gensim (setup.py): started\n",
      "  Building wheel for gensim (setup.py): finished with status 'error'\n",
      "  Running setup.py clean for gensim\n",
      "Failed to build gensim\n"
     ]
    },
    {
     "name": "stderr",
     "output_type": "stream",
     "text": [
      "  error: subprocess-exited-with-error\n",
      "  \n",
      "  python setup.py bdist_wheel did not run successfully.\n",
      "  exit code: 1\n",
      "  \n",
      "  [681 lines of output]\n",
      "  C:\\Users\\Welcome\\anaconda3\\Lib\\site-packages\\setuptools\\__init__.py:94: _DeprecatedInstaller: setuptools.installer and fetch_build_eggs are deprecated.\n",
      "  !!\n",
      "  \n",
      "          ********************************************************************************\n",
      "          Requirements should be satisfied by a PEP 517 installer.\n",
      "          If you are using pip, you can try `pip install --use-pep517`.\n",
      "          ********************************************************************************\n",
      "  \n",
      "  !!\n",
      "    dist.fetch_build_eggs(dist.setup_requires)\n",
      "  C:\\Users\\Welcome\\anaconda3\\Lib\\site-packages\\setuptools\\_distutils\\dist.py:261: UserWarning: Unknown distribution option: 'test_suite'\n",
      "    warnings.warn(msg)\n",
      "  C:\\Users\\Welcome\\anaconda3\\Lib\\site-packages\\setuptools\\_distutils\\dist.py:261: UserWarning: Unknown distribution option: 'tests_require'\n",
      "    warnings.warn(msg)\n",
      "  running bdist_wheel\n",
      "  running build\n",
      "  running build_py\n",
      "  creating build\\lib.win-amd64-cpython-312\\gensim\n",
      "  copying gensim\\downloader.py -> build\\lib.win-amd64-cpython-312\\gensim\n",
      "  copying gensim\\interfaces.py -> build\\lib.win-amd64-cpython-312\\gensim\n",
      "  copying gensim\\matutils.py -> build\\lib.win-amd64-cpython-312\\gensim\n",
      "  copying gensim\\nosy.py -> build\\lib.win-amd64-cpython-312\\gensim\n",
      "  copying gensim\\utils.py -> build\\lib.win-amd64-cpython-312\\gensim\n",
      "  copying gensim\\__init__.py -> build\\lib.win-amd64-cpython-312\\gensim\n",
      "  creating build\\lib.win-amd64-cpython-312\\gensim\\corpora\n",
      "  copying gensim\\corpora\\bleicorpus.py -> build\\lib.win-amd64-cpython-312\\gensim\\corpora\n",
      "  copying gensim\\corpora\\csvcorpus.py -> build\\lib.win-amd64-cpython-312\\gensim\\corpora\n",
      "  copying gensim\\corpora\\dictionary.py -> build\\lib.win-amd64-cpython-312\\gensim\\corpora\n",
      "  copying gensim\\corpora\\hashdictionary.py -> build\\lib.win-amd64-cpython-312\\gensim\\corpora\n",
      "  copying gensim\\corpora\\indexedcorpus.py -> build\\lib.win-amd64-cpython-312\\gensim\\corpora\n",
      "  copying gensim\\corpora\\lowcorpus.py -> build\\lib.win-amd64-cpython-312\\gensim\\corpora\n",
      "  copying gensim\\corpora\\malletcorpus.py -> build\\lib.win-amd64-cpython-312\\gensim\\corpora\n",
      "  copying gensim\\corpora\\mmcorpus.py -> build\\lib.win-amd64-cpython-312\\gensim\\corpora\n",
      "  copying gensim\\corpora\\sharded_corpus.py -> build\\lib.win-amd64-cpython-312\\gensim\\corpora\n",
      "  copying gensim\\corpora\\svmlightcorpus.py -> build\\lib.win-amd64-cpython-312\\gensim\\corpora\n",
      "  copying gensim\\corpora\\textcorpus.py -> build\\lib.win-amd64-cpython-312\\gensim\\corpora\n",
      "  copying gensim\\corpora\\ucicorpus.py -> build\\lib.win-amd64-cpython-312\\gensim\\corpora\n",
      "  copying gensim\\corpora\\wikicorpus.py -> build\\lib.win-amd64-cpython-312\\gensim\\corpora\n",
      "  copying gensim\\corpora\\__init__.py -> build\\lib.win-amd64-cpython-312\\gensim\\corpora\n",
      "  creating build\\lib.win-amd64-cpython-312\\gensim\\models\n",
      "  copying gensim\\models\\atmodel.py -> build\\lib.win-amd64-cpython-312\\gensim\\models\n",
      "  copying gensim\\models\\basemodel.py -> build\\lib.win-amd64-cpython-312\\gensim\\models\n",
      "  copying gensim\\models\\callbacks.py -> build\\lib.win-amd64-cpython-312\\gensim\\models\n",
      "  copying gensim\\models\\coherencemodel.py -> build\\lib.win-amd64-cpython-312\\gensim\\models\n",
      "  copying gensim\\models\\doc2vec.py -> build\\lib.win-amd64-cpython-312\\gensim\\models\n",
      "  copying gensim\\models\\fasttext.py -> build\\lib.win-amd64-cpython-312\\gensim\\models\n",
      "  copying gensim\\models\\hdpmodel.py -> build\\lib.win-amd64-cpython-312\\gensim\\models\n",
      "  copying gensim\\models\\keyedvectors.py -> build\\lib.win-amd64-cpython-312\\gensim\\models\n",
      "  copying gensim\\models\\ldamodel.py -> build\\lib.win-amd64-cpython-312\\gensim\\models\n",
      "  copying gensim\\models\\ldamulticore.py -> build\\lib.win-amd64-cpython-312\\gensim\\models\n",
      "  copying gensim\\models\\ldaseqmodel.py -> build\\lib.win-amd64-cpython-312\\gensim\\models\n",
      "  copying gensim\\models\\lda_dispatcher.py -> build\\lib.win-amd64-cpython-312\\gensim\\models\n",
      "  copying gensim\\models\\lda_worker.py -> build\\lib.win-amd64-cpython-312\\gensim\\models\n",
      "  copying gensim\\models\\logentropy_model.py -> build\\lib.win-amd64-cpython-312\\gensim\\models\n",
      "  copying gensim\\models\\lsimodel.py -> build\\lib.win-amd64-cpython-312\\gensim\\models\n",
      "  copying gensim\\models\\lsi_dispatcher.py -> build\\lib.win-amd64-cpython-312\\gensim\\models\n",
      "  copying gensim\\models\\lsi_worker.py -> build\\lib.win-amd64-cpython-312\\gensim\\models\n",
      "  copying gensim\\models\\nmf.py -> build\\lib.win-amd64-cpython-312\\gensim\\models\n",
      "  copying gensim\\models\\normmodel.py -> build\\lib.win-amd64-cpython-312\\gensim\\models\n",
      "  copying gensim\\models\\phrases.py -> build\\lib.win-amd64-cpython-312\\gensim\\models\n",
      "  copying gensim\\models\\poincare.py -> build\\lib.win-amd64-cpython-312\\gensim\\models\n",
      "  copying gensim\\models\\rpmodel.py -> build\\lib.win-amd64-cpython-312\\gensim\\models\n",
      "  copying gensim\\models\\tfidfmodel.py -> build\\lib.win-amd64-cpython-312\\gensim\\models\n",
      "  copying gensim\\models\\translation_matrix.py -> build\\lib.win-amd64-cpython-312\\gensim\\models\n",
      "  copying gensim\\models\\word2vec.py -> build\\lib.win-amd64-cpython-312\\gensim\\models\n",
      "  copying gensim\\models\\_fasttext_bin.py -> build\\lib.win-amd64-cpython-312\\gensim\\models\n",
      "  copying gensim\\models\\__init__.py -> build\\lib.win-amd64-cpython-312\\gensim\\models\n",
      "  creating build\\lib.win-amd64-cpython-312\\gensim\\parsing\n",
      "  copying gensim\\parsing\\porter.py -> build\\lib.win-amd64-cpython-312\\gensim\\parsing\n",
      "  copying gensim\\parsing\\preprocessing.py -> build\\lib.win-amd64-cpython-312\\gensim\\parsing\n",
      "  copying gensim\\parsing\\__init__.py -> build\\lib.win-amd64-cpython-312\\gensim\\parsing\n",
      "  creating build\\lib.win-amd64-cpython-312\\gensim\\scripts\n",
      "  copying gensim\\scripts\\benchmark.py -> build\\lib.win-amd64-cpython-312\\gensim\\scripts\n",
      "  copying gensim\\scripts\\glove2word2vec.py -> build\\lib.win-amd64-cpython-312\\gensim\\scripts\n",
      "  copying gensim\\scripts\\make_wiki.py -> build\\lib.win-amd64-cpython-312\\gensim\\scripts\n",
      "  copying gensim\\scripts\\make_wikicorpus.py -> build\\lib.win-amd64-cpython-312\\gensim\\scripts\n",
      "  copying gensim\\scripts\\make_wiki_online.py -> build\\lib.win-amd64-cpython-312\\gensim\\scripts\n",
      "  copying gensim\\scripts\\make_wiki_online_nodebug.py -> build\\lib.win-amd64-cpython-312\\gensim\\scripts\n",
      "  copying gensim\\scripts\\package_info.py -> build\\lib.win-amd64-cpython-312\\gensim\\scripts\n",
      "  copying gensim\\scripts\\segment_wiki.py -> build\\lib.win-amd64-cpython-312\\gensim\\scripts\n",
      "  copying gensim\\scripts\\word2vec2tensor.py -> build\\lib.win-amd64-cpython-312\\gensim\\scripts\n",
      "  copying gensim\\scripts\\word2vec_standalone.py -> build\\lib.win-amd64-cpython-312\\gensim\\scripts\n",
      "  copying gensim\\scripts\\__init__.py -> build\\lib.win-amd64-cpython-312\\gensim\\scripts\n",
      "  creating build\\lib.win-amd64-cpython-312\\gensim\\similarities\n",
      "  copying gensim\\similarities\\annoy.py -> build\\lib.win-amd64-cpython-312\\gensim\\similarities\n",
      "  copying gensim\\similarities\\docsim.py -> build\\lib.win-amd64-cpython-312\\gensim\\similarities\n",
      "  copying gensim\\similarities\\levenshtein.py -> build\\lib.win-amd64-cpython-312\\gensim\\similarities\n",
      "  copying gensim\\similarities\\nmslib.py -> build\\lib.win-amd64-cpython-312\\gensim\\similarities\n",
      "  copying gensim\\similarities\\termsim.py -> build\\lib.win-amd64-cpython-312\\gensim\\similarities\n",
      "  copying gensim\\similarities\\__init__.py -> build\\lib.win-amd64-cpython-312\\gensim\\similarities\n",
      "  creating build\\lib.win-amd64-cpython-312\\gensim\\test\n",
      "  copying gensim\\test\\basetmtests.py -> build\\lib.win-amd64-cpython-312\\gensim\\test\n",
      "  copying gensim\\test\\simspeed.py -> build\\lib.win-amd64-cpython-312\\gensim\\test\n",
      "  copying gensim\\test\\simspeed2.py -> build\\lib.win-amd64-cpython-312\\gensim\\test\n",
      "  copying gensim\\test\\svd_error.py -> build\\lib.win-amd64-cpython-312\\gensim\\test\n",
      "  copying gensim\\test\\test_aggregation.py -> build\\lib.win-amd64-cpython-312\\gensim\\test\n",
      "  copying gensim\\test\\test_api.py -> build\\lib.win-amd64-cpython-312\\gensim\\test\n",
      "  copying gensim\\test\\test_atmodel.py -> build\\lib.win-amd64-cpython-312\\gensim\\test\n",
      "  copying gensim\\test\\test_big.py -> build\\lib.win-amd64-cpython-312\\gensim\\test\n",
      "  copying gensim\\test\\test_corpora.py -> build\\lib.win-amd64-cpython-312\\gensim\\test\n",
      "  copying gensim\\test\\test_corpora_dictionary.py -> build\\lib.win-amd64-cpython-312\\gensim\\test\n",
      "  copying gensim\\test\\test_corpora_hashdictionary.py -> build\\lib.win-amd64-cpython-312\\gensim\\test\n",
      "  copying gensim\\test\\test_datatype.py -> build\\lib.win-amd64-cpython-312\\gensim\\test\n",
      "  copying gensim\\test\\test_direct_confirmation.py -> build\\lib.win-amd64-cpython-312\\gensim\\test\n",
      "  copying gensim\\test\\test_doc2vec.py -> build\\lib.win-amd64-cpython-312\\gensim\\test\n",
      "  copying gensim\\test\\test_dtm.py -> build\\lib.win-amd64-cpython-312\\gensim\\test\n",
      "  copying gensim\\test\\test_fasttext.py -> build\\lib.win-amd64-cpython-312\\gensim\\test\n",
      "  copying gensim\\test\\test_glove2word2vec.py -> build\\lib.win-amd64-cpython-312\\gensim\\test\n",
      "  copying gensim\\test\\test_hdpmodel.py -> build\\lib.win-amd64-cpython-312\\gensim\\test\n",
      "  copying gensim\\test\\test_indirect_confirmation.py -> build\\lib.win-amd64-cpython-312\\gensim\\test\n",
      "  copying gensim\\test\\test_keyedvectors.py -> build\\lib.win-amd64-cpython-312\\gensim\\test\n",
      "  copying gensim\\test\\test_ldamodel.py -> build\\lib.win-amd64-cpython-312\\gensim\\test\n",
      "  copying gensim\\test\\test_ldaseqmodel.py -> build\\lib.win-amd64-cpython-312\\gensim\\test\n",
      "  copying gensim\\test\\test_lda_callback.py -> build\\lib.win-amd64-cpython-312\\gensim\\test\n",
      "  copying gensim\\test\\test_lee.py -> build\\lib.win-amd64-cpython-312\\gensim\\test\n",
      "  copying gensim\\test\\test_logentropy_model.py -> build\\lib.win-amd64-cpython-312\\gensim\\test\n",
      "  copying gensim\\test\\test_lsimodel.py -> build\\lib.win-amd64-cpython-312\\gensim\\test\n",
      "  copying gensim\\test\\test_matutils.py -> build\\lib.win-amd64-cpython-312\\gensim\\test\n",
      "  copying gensim\\test\\test_miislita.py -> build\\lib.win-amd64-cpython-312\\gensim\\test\n",
      "  copying gensim\\test\\test_nmf.py -> build\\lib.win-amd64-cpython-312\\gensim\\test\n",
      "  copying gensim\\test\\test_normmodel.py -> build\\lib.win-amd64-cpython-312\\gensim\\test\n",
      "  copying gensim\\test\\test_parsing.py -> build\\lib.win-amd64-cpython-312\\gensim\\test\n",
      "  copying gensim\\test\\test_phrases.py -> build\\lib.win-amd64-cpython-312\\gensim\\test\n",
      "  copying gensim\\test\\test_poincare.py -> build\\lib.win-amd64-cpython-312\\gensim\\test\n",
      "  copying gensim\\test\\test_probability_estimation.py -> build\\lib.win-amd64-cpython-312\\gensim\\test\n",
      "  copying gensim\\test\\test_rpmodel.py -> build\\lib.win-amd64-cpython-312\\gensim\\test\n",
      "  copying gensim\\test\\test_scripts.py -> build\\lib.win-amd64-cpython-312\\gensim\\test\n",
      "  copying gensim\\test\\test_segmentation.py -> build\\lib.win-amd64-cpython-312\\gensim\\test\n",
      "  copying gensim\\test\\test_sharded_corpus.py -> build\\lib.win-amd64-cpython-312\\gensim\\test\n",
      "  copying gensim\\test\\test_similarities.py -> build\\lib.win-amd64-cpython-312\\gensim\\test\n",
      "  copying gensim\\test\\test_similarity_metrics.py -> build\\lib.win-amd64-cpython-312\\gensim\\test\n",
      "  copying gensim\\test\\test_text_analysis.py -> build\\lib.win-amd64-cpython-312\\gensim\\test\n",
      "  copying gensim\\test\\test_tfidfmodel.py -> build\\lib.win-amd64-cpython-312\\gensim\\test\n",
      "  copying gensim\\test\\test_tmdiff.py -> build\\lib.win-amd64-cpython-312\\gensim\\test\n",
      "  copying gensim\\test\\test_translation_matrix.py -> build\\lib.win-amd64-cpython-312\\gensim\\test\n",
      "  copying gensim\\test\\test_utils.py -> build\\lib.win-amd64-cpython-312\\gensim\\test\n",
      "  copying gensim\\test\\test_word2vec.py -> build\\lib.win-amd64-cpython-312\\gensim\\test\n",
      "  copying gensim\\test\\utils.py -> build\\lib.win-amd64-cpython-312\\gensim\\test\n",
      "  copying gensim\\test\\__init__.py -> build\\lib.win-amd64-cpython-312\\gensim\\test\n",
      "  creating build\\lib.win-amd64-cpython-312\\gensim\\topic_coherence\n",
      "  copying gensim\\topic_coherence\\aggregation.py -> build\\lib.win-amd64-cpython-312\\gensim\\topic_coherence\n",
      "  copying gensim\\topic_coherence\\direct_confirmation_measure.py -> build\\lib.win-amd64-cpython-312\\gensim\\topic_coherence\n",
      "  copying gensim\\topic_coherence\\indirect_confirmation_measure.py -> build\\lib.win-amd64-cpython-312\\gensim\\topic_coherence\n",
      "  copying gensim\\topic_coherence\\probability_estimation.py -> build\\lib.win-amd64-cpython-312\\gensim\\topic_coherence\n",
      "  copying gensim\\topic_coherence\\segmentation.py -> build\\lib.win-amd64-cpython-312\\gensim\\topic_coherence\n",
      "  copying gensim\\topic_coherence\\text_analysis.py -> build\\lib.win-amd64-cpython-312\\gensim\\topic_coherence\n",
      "  copying gensim\\topic_coherence\\__init__.py -> build\\lib.win-amd64-cpython-312\\gensim\\topic_coherence\n",
      "  running egg_info\n",
      "  writing gensim.egg-info\\PKG-INFO\n",
      "  writing dependency_links to gensim.egg-info\\dependency_links.txt\n",
      "  writing requirements to gensim.egg-info\\requires.txt\n",
      "  writing top-level names to gensim.egg-info\\top_level.txt\n",
      "  reading manifest file 'gensim.egg-info\\SOURCES.txt'\n",
      "  reading manifest template 'MANIFEST.in'\n",
      "  warning: no files found matching 'COPYING.LESSER'\n",
      "  warning: no files found matching 'ez_setup.py'\n",
      "  warning: no files found matching 'gensim\\models\\doc2vec_inner.c'\n",
      "  adding license file 'COPYING'\n",
      "  writing manifest file 'gensim.egg-info\\SOURCES.txt'\n",
      "  C:\\Users\\Welcome\\anaconda3\\Lib\\site-packages\\setuptools\\command\\build_py.py:218: _Warning: Package 'gensim.corpora' is absent from the `packages` configuration.\n",
      "  !!\n",
      "  \n",
      "          ********************************************************************************\n",
      "          ############################\n",
      "          # Package would be ignored #\n",
      "          ############################\n",
      "          Python recognizes 'gensim.corpora' as an importable package[^1],\n",
      "          but it is absent from setuptools' `packages` configuration.\n",
      "  \n",
      "          This leads to an ambiguous overall configuration. If you want to distribute this\n",
      "          package, please make sure that 'gensim.corpora' is explicitly added\n",
      "          to the `packages` configuration field.\n",
      "  \n",
      "          Alternatively, you can also rely on setuptools' discovery methods\n",
      "          (for example by using `find_namespace_packages(...)`/`find_namespace:`\n",
      "          instead of `find_packages(...)`/`find:`).\n",
      "  \n",
      "          You can read more about \"package discovery\" on setuptools documentation page:\n",
      "  \n",
      "          - https://setuptools.pypa.io/en/latest/userguide/package_discovery.html\n",
      "  \n",
      "          If you don't want 'gensim.corpora' to be distributed and are\n",
      "          already explicitly excluding 'gensim.corpora' via\n",
      "          `find_namespace_packages(...)/find_namespace` or `find_packages(...)/find`,\n",
      "          you can try to use `exclude_package_data`, or `include-package-data=False` in\n",
      "          combination with a more fine grained `package-data` configuration.\n",
      "  \n",
      "          You can read more about \"package data files\" on setuptools documentation page:\n",
      "  \n",
      "          - https://setuptools.pypa.io/en/latest/userguide/datafiles.html\n",
      "  \n",
      "  \n",
      "          [^1]: For Python, any directory (with suitable naming) can be imported,\n",
      "                even if it does not contain any `.py` files.\n",
      "                On the other hand, currently there is no concept of package data\n",
      "                directory, all directories are treated like packages.\n",
      "          ********************************************************************************\n",
      "  \n",
      "  !!\n",
      "    check.warn(importable)\n",
      "  C:\\Users\\Welcome\\anaconda3\\Lib\\site-packages\\setuptools\\command\\build_py.py:218: _Warning: Package 'gensim.models' is absent from the `packages` configuration.\n",
      "  !!\n",
      "  \n",
      "          ********************************************************************************\n",
      "          ############################\n",
      "          # Package would be ignored #\n",
      "          ############################\n",
      "          Python recognizes 'gensim.models' as an importable package[^1],\n",
      "          but it is absent from setuptools' `packages` configuration.\n",
      "  \n",
      "          This leads to an ambiguous overall configuration. If you want to distribute this\n",
      "          package, please make sure that 'gensim.models' is explicitly added\n",
      "          to the `packages` configuration field.\n",
      "  \n",
      "          Alternatively, you can also rely on setuptools' discovery methods\n",
      "          (for example by using `find_namespace_packages(...)`/`find_namespace:`\n",
      "          instead of `find_packages(...)`/`find:`).\n",
      "  \n",
      "          You can read more about \"package discovery\" on setuptools documentation page:\n",
      "  \n",
      "          - https://setuptools.pypa.io/en/latest/userguide/package_discovery.html\n",
      "  \n",
      "          If you don't want 'gensim.models' to be distributed and are\n",
      "          already explicitly excluding 'gensim.models' via\n",
      "          `find_namespace_packages(...)/find_namespace` or `find_packages(...)/find`,\n",
      "          you can try to use `exclude_package_data`, or `include-package-data=False` in\n",
      "          combination with a more fine grained `package-data` configuration.\n",
      "  \n",
      "          You can read more about \"package data files\" on setuptools documentation page:\n",
      "  \n",
      "          - https://setuptools.pypa.io/en/latest/userguide/datafiles.html\n",
      "  \n",
      "  \n",
      "          [^1]: For Python, any directory (with suitable naming) can be imported,\n",
      "                even if it does not contain any `.py` files.\n",
      "                On the other hand, currently there is no concept of package data\n",
      "                directory, all directories are treated like packages.\n",
      "          ********************************************************************************\n",
      "  \n",
      "  !!\n",
      "    check.warn(importable)\n",
      "  C:\\Users\\Welcome\\anaconda3\\Lib\\site-packages\\setuptools\\command\\build_py.py:218: _Warning: Package 'gensim.test.test_data' is absent from the `packages` configuration.\n",
      "  !!\n",
      "  \n",
      "          ********************************************************************************\n",
      "          ############################\n",
      "          # Package would be ignored #\n",
      "          ############################\n",
      "          Python recognizes 'gensim.test.test_data' as an importable package[^1],\n",
      "          but it is absent from setuptools' `packages` configuration.\n",
      "  \n",
      "          This leads to an ambiguous overall configuration. If you want to distribute this\n",
      "          package, please make sure that 'gensim.test.test_data' is explicitly added\n",
      "          to the `packages` configuration field.\n",
      "  \n",
      "          Alternatively, you can also rely on setuptools' discovery methods\n",
      "          (for example by using `find_namespace_packages(...)`/`find_namespace:`\n",
      "          instead of `find_packages(...)`/`find:`).\n",
      "  \n",
      "          You can read more about \"package discovery\" on setuptools documentation page:\n",
      "  \n",
      "          - https://setuptools.pypa.io/en/latest/userguide/package_discovery.html\n",
      "  \n",
      "          If you don't want 'gensim.test.test_data' to be distributed and are\n",
      "          already explicitly excluding 'gensim.test.test_data' via\n",
      "          `find_namespace_packages(...)/find_namespace` or `find_packages(...)/find`,\n",
      "          you can try to use `exclude_package_data`, or `include-package-data=False` in\n",
      "          combination with a more fine grained `package-data` configuration.\n",
      "  \n",
      "          You can read more about \"package data files\" on setuptools documentation page:\n",
      "  \n",
      "          - https://setuptools.pypa.io/en/latest/userguide/datafiles.html\n",
      "  \n",
      "  \n",
      "          [^1]: For Python, any directory (with suitable naming) can be imported,\n",
      "                even if it does not contain any `.py` files.\n",
      "                On the other hand, currently there is no concept of package data\n",
      "                directory, all directories are treated like packages.\n",
      "          ********************************************************************************\n",
      "  \n",
      "  !!\n",
      "    check.warn(importable)\n",
      "  C:\\Users\\Welcome\\anaconda3\\Lib\\site-packages\\setuptools\\command\\build_py.py:218: _Warning: Package 'gensim.test.test_data.DTM' is absent from the `packages` configuration.\n",
      "  !!\n",
      "  \n",
      "          ********************************************************************************\n",
      "          ############################\n",
      "          # Package would be ignored #\n",
      "          ############################\n",
      "          Python recognizes 'gensim.test.test_data.DTM' as an importable package[^1],\n",
      "          but it is absent from setuptools' `packages` configuration.\n",
      "  \n",
      "          This leads to an ambiguous overall configuration. If you want to distribute this\n",
      "          package, please make sure that 'gensim.test.test_data.DTM' is explicitly added\n",
      "          to the `packages` configuration field.\n",
      "  \n",
      "          Alternatively, you can also rely on setuptools' discovery methods\n",
      "          (for example by using `find_namespace_packages(...)`/`find_namespace:`\n",
      "          instead of `find_packages(...)`/`find:`).\n",
      "  \n",
      "          You can read more about \"package discovery\" on setuptools documentation page:\n",
      "  \n",
      "          - https://setuptools.pypa.io/en/latest/userguide/package_discovery.html\n",
      "  \n",
      "          If you don't want 'gensim.test.test_data.DTM' to be distributed and are\n",
      "          already explicitly excluding 'gensim.test.test_data.DTM' via\n",
      "          `find_namespace_packages(...)/find_namespace` or `find_packages(...)/find`,\n",
      "          you can try to use `exclude_package_data`, or `include-package-data=False` in\n",
      "          combination with a more fine grained `package-data` configuration.\n",
      "  \n",
      "          You can read more about \"package data files\" on setuptools documentation page:\n",
      "  \n",
      "          - https://setuptools.pypa.io/en/latest/userguide/datafiles.html\n",
      "  \n",
      "  \n",
      "          [^1]: For Python, any directory (with suitable naming) can be imported,\n",
      "                even if it does not contain any `.py` files.\n",
      "                On the other hand, currently there is no concept of package data\n",
      "                directory, all directories are treated like packages.\n",
      "          ********************************************************************************\n",
      "  \n",
      "  !!\n",
      "    check.warn(importable)\n",
      "  C:\\Users\\Welcome\\anaconda3\\Lib\\site-packages\\setuptools\\command\\build_py.py:218: _Warning: Package 'gensim.test.test_data.PathLineSentences' is absent from the `packages` configuration.\n",
      "  !!\n",
      "  \n",
      "          ********************************************************************************\n",
      "          ############################\n",
      "          # Package would be ignored #\n",
      "          ############################\n",
      "          Python recognizes 'gensim.test.test_data.PathLineSentences' as an importable package[^1],\n",
      "          but it is absent from setuptools' `packages` configuration.\n",
      "  \n",
      "          This leads to an ambiguous overall configuration. If you want to distribute this\n",
      "          package, please make sure that 'gensim.test.test_data.PathLineSentences' is explicitly added\n",
      "          to the `packages` configuration field.\n",
      "  \n",
      "          Alternatively, you can also rely on setuptools' discovery methods\n",
      "          (for example by using `find_namespace_packages(...)`/`find_namespace:`\n",
      "          instead of `find_packages(...)`/`find:`).\n",
      "  \n",
      "          You can read more about \"package discovery\" on setuptools documentation page:\n",
      "  \n",
      "          - https://setuptools.pypa.io/en/latest/userguide/package_discovery.html\n",
      "  \n",
      "          If you don't want 'gensim.test.test_data.PathLineSentences' to be distributed and are\n",
      "          already explicitly excluding 'gensim.test.test_data.PathLineSentences' via\n",
      "          `find_namespace_packages(...)/find_namespace` or `find_packages(...)/find`,\n",
      "          you can try to use `exclude_package_data`, or `include-package-data=False` in\n",
      "          combination with a more fine grained `package-data` configuration.\n",
      "  \n",
      "          You can read more about \"package data files\" on setuptools documentation page:\n",
      "  \n",
      "          - https://setuptools.pypa.io/en/latest/userguide/datafiles.html\n",
      "  \n",
      "  \n",
      "          [^1]: For Python, any directory (with suitable naming) can be imported,\n",
      "                even if it does not contain any `.py` files.\n",
      "                On the other hand, currently there is no concept of package data\n",
      "                directory, all directories are treated like packages.\n",
      "          ********************************************************************************\n",
      "  \n",
      "  !!\n",
      "    check.warn(importable)\n",
      "  C:\\Users\\Welcome\\anaconda3\\Lib\\site-packages\\setuptools\\command\\build_py.py:218: _Warning: Package 'gensim.test.test_data.old_d2v_models' is absent from the `packages` configuration.\n",
      "  !!\n",
      "  \n",
      "          ********************************************************************************\n",
      "          ############################\n",
      "          # Package would be ignored #\n",
      "          ############################\n",
      "          Python recognizes 'gensim.test.test_data.old_d2v_models' as an importable package[^1],\n",
      "          but it is absent from setuptools' `packages` configuration.\n",
      "  \n",
      "          This leads to an ambiguous overall configuration. If you want to distribute this\n",
      "          package, please make sure that 'gensim.test.test_data.old_d2v_models' is explicitly added\n",
      "          to the `packages` configuration field.\n",
      "  \n",
      "          Alternatively, you can also rely on setuptools' discovery methods\n",
      "          (for example by using `find_namespace_packages(...)`/`find_namespace:`\n",
      "          instead of `find_packages(...)`/`find:`).\n",
      "  \n",
      "          You can read more about \"package discovery\" on setuptools documentation page:\n",
      "  \n",
      "          - https://setuptools.pypa.io/en/latest/userguide/package_discovery.html\n",
      "  \n",
      "          If you don't want 'gensim.test.test_data.old_d2v_models' to be distributed and are\n",
      "          already explicitly excluding 'gensim.test.test_data.old_d2v_models' via\n",
      "          `find_namespace_packages(...)/find_namespace` or `find_packages(...)/find`,\n",
      "          you can try to use `exclude_package_data`, or `include-package-data=False` in\n",
      "          combination with a more fine grained `package-data` configuration.\n",
      "  \n",
      "          You can read more about \"package data files\" on setuptools documentation page:\n",
      "  \n",
      "          - https://setuptools.pypa.io/en/latest/userguide/datafiles.html\n",
      "  \n",
      "  \n",
      "          [^1]: For Python, any directory (with suitable naming) can be imported,\n",
      "                even if it does not contain any `.py` files.\n",
      "                On the other hand, currently there is no concept of package data\n",
      "                directory, all directories are treated like packages.\n",
      "          ********************************************************************************\n",
      "  \n",
      "  !!\n",
      "    check.warn(importable)\n",
      "  C:\\Users\\Welcome\\anaconda3\\Lib\\site-packages\\setuptools\\command\\build_py.py:218: _Warning: Package 'gensim.test.test_data.old_w2v_models' is absent from the `packages` configuration.\n",
      "  !!\n",
      "  \n",
      "          ********************************************************************************\n",
      "          ############################\n",
      "          # Package would be ignored #\n",
      "          ############################\n",
      "          Python recognizes 'gensim.test.test_data.old_w2v_models' as an importable package[^1],\n",
      "          but it is absent from setuptools' `packages` configuration.\n",
      "  \n",
      "          This leads to an ambiguous overall configuration. If you want to distribute this\n",
      "          package, please make sure that 'gensim.test.test_data.old_w2v_models' is explicitly added\n",
      "          to the `packages` configuration field.\n",
      "  \n",
      "          Alternatively, you can also rely on setuptools' discovery methods\n",
      "          (for example by using `find_namespace_packages(...)`/`find_namespace:`\n",
      "          instead of `find_packages(...)`/`find:`).\n",
      "  \n",
      "          You can read more about \"package discovery\" on setuptools documentation page:\n",
      "  \n",
      "          - https://setuptools.pypa.io/en/latest/userguide/package_discovery.html\n",
      "  \n",
      "          If you don't want 'gensim.test.test_data.old_w2v_models' to be distributed and are\n",
      "          already explicitly excluding 'gensim.test.test_data.old_w2v_models' via\n",
      "          `find_namespace_packages(...)/find_namespace` or `find_packages(...)/find`,\n",
      "          you can try to use `exclude_package_data`, or `include-package-data=False` in\n",
      "          combination with a more fine grained `package-data` configuration.\n",
      "  \n",
      "          You can read more about \"package data files\" on setuptools documentation page:\n",
      "  \n",
      "          - https://setuptools.pypa.io/en/latest/userguide/datafiles.html\n",
      "  \n",
      "  \n",
      "          [^1]: For Python, any directory (with suitable naming) can be imported,\n",
      "                even if it does not contain any `.py` files.\n",
      "                On the other hand, currently there is no concept of package data\n",
      "                directory, all directories are treated like packages.\n",
      "          ********************************************************************************\n",
      "  \n",
      "  !!\n",
      "    check.warn(importable)\n",
      "  copying gensim\\_matutils.c -> build\\lib.win-amd64-cpython-312\\gensim\n",
      "  copying gensim\\_matutils.pyx -> build\\lib.win-amd64-cpython-312\\gensim\n",
      "  copying gensim\\corpora\\_mmreader.c -> build\\lib.win-amd64-cpython-312\\gensim\\corpora\n",
      "  copying gensim\\models\\doc2vec_corpusfile.cpp -> build\\lib.win-amd64-cpython-312\\gensim\\models\n",
      "  copying gensim\\models\\doc2vec_inner.cpp -> build\\lib.win-amd64-cpython-312\\gensim\\models\n",
      "  copying gensim\\models\\fasttext_corpusfile.cpp -> build\\lib.win-amd64-cpython-312\\gensim\\models\n",
      "  copying gensim\\models\\fasttext_inner.c -> build\\lib.win-amd64-cpython-312\\gensim\\models\n",
      "  copying gensim\\models\\nmf_pgd.c -> build\\lib.win-amd64-cpython-312\\gensim\\models\n",
      "  copying gensim\\models\\word2vec_corpusfile.cpp -> build\\lib.win-amd64-cpython-312\\gensim\\models\n",
      "  copying gensim\\models\\word2vec_inner.c -> build\\lib.win-amd64-cpython-312\\gensim\\models\n",
      "  copying gensim\\corpora\\_mmreader.pyx -> build\\lib.win-amd64-cpython-312\\gensim\\corpora\n",
      "  copying gensim\\models\\doc2vec_corpusfile.pyx -> build\\lib.win-amd64-cpython-312\\gensim\\models\n",
      "  copying gensim\\models\\doc2vec_inner.pxd -> build\\lib.win-amd64-cpython-312\\gensim\\models\n",
      "  copying gensim\\models\\doc2vec_inner.pyx -> build\\lib.win-amd64-cpython-312\\gensim\\models\n",
      "  copying gensim\\models\\fast_line_sentence.h -> build\\lib.win-amd64-cpython-312\\gensim\\models\n",
      "  copying gensim\\models\\fasttext_corpusfile.pyx -> build\\lib.win-amd64-cpython-312\\gensim\\models\n",
      "  copying gensim\\models\\fasttext_inner.pxd -> build\\lib.win-amd64-cpython-312\\gensim\\models\n",
      "  copying gensim\\models\\fasttext_inner.pyx -> build\\lib.win-amd64-cpython-312\\gensim\\models\n",
      "  copying gensim\\models\\nmf_pgd.pyx -> build\\lib.win-amd64-cpython-312\\gensim\\models\n",
      "  copying gensim\\models\\stdint_wrapper.h -> build\\lib.win-amd64-cpython-312\\gensim\\models\n",
      "  copying gensim\\models\\voidptr.h -> build\\lib.win-amd64-cpython-312\\gensim\\models\n",
      "  copying gensim\\models\\word2vec_corpusfile.pxd -> build\\lib.win-amd64-cpython-312\\gensim\\models\n",
      "  copying gensim\\models\\word2vec_corpusfile.pyx -> build\\lib.win-amd64-cpython-312\\gensim\\models\n",
      "  copying gensim\\models\\word2vec_inner.pxd -> build\\lib.win-amd64-cpython-312\\gensim\\models\n",
      "  copying gensim\\models\\word2vec_inner.pyx -> build\\lib.win-amd64-cpython-312\\gensim\\models\n",
      "  creating build\\lib.win-amd64-cpython-312\\gensim\\test\\test_data\n",
      "  copying gensim\\test\\test_data\\EN.1-10.cbow1_wind5_hs0_neg10_size300_smpl1e-05.txt -> build\\lib.win-amd64-cpython-312\\gensim\\test\\test_data\n",
      "  copying gensim\\test\\test_data\\IT.1-10.cbow1_wind5_hs0_neg10_size300_smpl1e-05.txt -> build\\lib.win-amd64-cpython-312\\gensim\\test\\test_data\n",
      "  copying gensim\\test\\test_data\\OPUS_en_it_europarl_train_one2ten.txt -> build\\lib.win-amd64-cpython-312\\gensim\\test\\test_data\n",
      "  copying gensim\\test\\test_data\\alldata-id-10.txt -> build\\lib.win-amd64-cpython-312\\gensim\\test\\test_data\n",
      "  copying gensim\\test\\test_data\\atmodel_3_0_1_model -> build\\lib.win-amd64-cpython-312\\gensim\\test\\test_data\n",
      "  copying gensim\\test\\test_data\\atmodel_3_0_1_model.expElogbeta.npy -> build\\lib.win-amd64-cpython-312\\gensim\\test\\test_data\n",
      "  copying gensim\\test\\test_data\\atmodel_3_0_1_model.id2word -> build\\lib.win-amd64-cpython-312\\gensim\\test\\test_data\n",
      "  copying gensim\\test\\test_data\\atmodel_3_0_1_model.state -> build\\lib.win-amd64-cpython-312\\gensim\\test\\test_data\n",
      "  copying gensim\\test\\test_data\\bgwiki-latest-pages-articles-shortened.xml.bz2 -> build\\lib.win-amd64-cpython-312\\gensim\\test\\test_data\n",
      "  copying gensim\\test\\test_data\\compatible-hash-true.model -> build\\lib.win-amd64-cpython-312\\gensim\\test\\test_data\n",
      "  copying gensim\\test\\test_data\\cp852_fasttext.bin -> build\\lib.win-amd64-cpython-312\\gensim\\test\\test_data\n",
      "  copying gensim\\test\\test_data\\crime-and-punishment.bin -> build\\lib.win-amd64-cpython-312\\gensim\\test\\test_data\n",
      "  copying gensim\\test\\test_data\\crime-and-punishment.txt -> build\\lib.win-amd64-cpython-312\\gensim\\test\\test_data\n",
      "  copying gensim\\test\\test_data\\crime-and-punishment.vec -> build\\lib.win-amd64-cpython-312\\gensim\\test\\test_data\n",
      "  copying gensim\\test\\test_data\\d2v-lee-v0.13.0 -> build\\lib.win-amd64-cpython-312\\gensim\\test\\test_data\n",
      "  copying gensim\\test\\test_data\\doc2vec_old -> build\\lib.win-amd64-cpython-312\\gensim\\test\\test_data\n",
      "  copying gensim\\test\\test_data\\doc2vec_old_sep -> build\\lib.win-amd64-cpython-312\\gensim\\test\\test_data\n",
      "  copying gensim\\test\\test_data\\doc2vec_old_sep.syn0_lockf.npy -> build\\lib.win-amd64-cpython-312\\gensim\\test\\test_data\n",
      "  copying gensim\\test\\test_data\\doc2vec_old_sep.syn1neg.npy -> build\\lib.win-amd64-cpython-312\\gensim\\test\\test_data\n",
      "  copying gensim\\test\\test_data\\dtm_test.dict -> build\\lib.win-amd64-cpython-312\\gensim\\test\\test_data\n",
      "  copying gensim\\test\\test_data\\dtm_test.mm -> build\\lib.win-amd64-cpython-312\\gensim\\test\\test_data\n",
      "  copying gensim\\test\\test_data\\enwiki-latest-pages-articles1.xml-p000000010p000030302-shortened.bz2 -> build\\lib.win-amd64-cpython-312\\gensim\\test\\test_data\n",
      "  copying gensim\\test\\test_data\\enwiki-table-markup.xml.bz2 -> build\\lib.win-amd64-cpython-312\\gensim\\test\\test_data\n",
      "  copying gensim\\test\\test_data\\euclidean_vectors.bin -> build\\lib.win-amd64-cpython-312\\gensim\\test\\test_data\n",
      "  copying gensim\\test\\test_data\\fasttext_old -> build\\lib.win-amd64-cpython-312\\gensim\\test\\test_data\n",
      "  copying gensim\\test\\test_data\\fasttext_old_sep -> build\\lib.win-amd64-cpython-312\\gensim\\test\\test_data\n",
      "  copying gensim\\test\\test_data\\fasttext_old_sep.syn0_lockf.npy -> build\\lib.win-amd64-cpython-312\\gensim\\test\\test_data\n",
      "  copying gensim\\test\\test_data\\fasttext_old_sep.syn1neg.npy -> build\\lib.win-amd64-cpython-312\\gensim\\test\\test_data\n",
      "  copying gensim\\test\\test_data\\fb-ngrams.txt -> build\\lib.win-amd64-cpython-312\\gensim\\test\\test_data\n",
      "  copying gensim\\test\\test_data\\ft_kv_3.6.0.model.gz -> build\\lib.win-amd64-cpython-312\\gensim\\test\\test_data\n",
      "  copying gensim\\test\\test_data\\ft_model_2.3.0 -> build\\lib.win-amd64-cpython-312\\gensim\\test\\test_data\n",
      "  copying gensim\\test\\test_data\\head500.noblanks.cor -> build\\lib.win-amd64-cpython-312\\gensim\\test\\test_data\n",
      "  copying gensim\\test\\test_data\\head500.noblanks.cor.bz2 -> build\\lib.win-amd64-cpython-312\\gensim\\test\\test_data\n",
      "  copying gensim\\test\\test_data\\head500.noblanks.cor_tfidf.model -> build\\lib.win-amd64-cpython-312\\gensim\\test\\test_data\n",
      "  copying gensim\\test\\test_data\\head500.noblanks.cor_wordids.txt -> build\\lib.win-amd64-cpython-312\\gensim\\test\\test_data\n",
      "  copying gensim\\test\\test_data\\high_precision.kv.bin -> build\\lib.win-amd64-cpython-312\\gensim\\test\\test_data\n",
      "  copying gensim\\test\\test_data\\high_precision.kv.txt -> build\\lib.win-amd64-cpython-312\\gensim\\test\\test_data\n",
      "  copying gensim\\test\\test_data\\large_tag_doc_10_iter50 -> build\\lib.win-amd64-cpython-312\\gensim\\test\\test_data\n",
      "  copying gensim\\test\\test_data\\lda_3_0_1_model -> build\\lib.win-amd64-cpython-312\\gensim\\test\\test_data\n",
      "  copying gensim\\test\\test_data\\lda_3_0_1_model.expElogbeta.npy -> build\\lib.win-amd64-cpython-312\\gensim\\test\\test_data\n",
      "  copying gensim\\test\\test_data\\lda_3_0_1_model.id2word -> build\\lib.win-amd64-cpython-312\\gensim\\test\\test_data\n",
      "  copying gensim\\test\\test_data\\lda_3_0_1_model.state -> build\\lib.win-amd64-cpython-312\\gensim\\test\\test_data\n",
      "  copying gensim\\test\\test_data\\ldamodel_python_2_7 -> build\\lib.win-amd64-cpython-312\\gensim\\test\\test_data\n",
      "  copying gensim\\test\\test_data\\ldamodel_python_2_7.expElogbeta.npy -> build\\lib.win-amd64-cpython-312\\gensim\\test\\test_data\n",
      "  copying gensim\\test\\test_data\\ldamodel_python_2_7.id2word -> build\\lib.win-amd64-cpython-312\\gensim\\test\\test_data\n",
      "  copying gensim\\test\\test_data\\ldamodel_python_2_7.state -> build\\lib.win-amd64-cpython-312\\gensim\\test\\test_data\n",
      "  copying gensim\\test\\test_data\\ldamodel_python_3_5 -> build\\lib.win-amd64-cpython-312\\gensim\\test\\test_data\n",
      "  copying gensim\\test\\test_data\\ldamodel_python_3_5.expElogbeta.npy -> build\\lib.win-amd64-cpython-312\\gensim\\test\\test_data\n",
      "  copying gensim\\test\\test_data\\ldamodel_python_3_5.id2word -> build\\lib.win-amd64-cpython-312\\gensim\\test\\test_data\n",
      "  copying gensim\\test\\test_data\\ldamodel_python_3_5.state -> build\\lib.win-amd64-cpython-312\\gensim\\test\\test_data\n",
      "  copying gensim\\test\\test_data\\ldavowpalwabbit.dict.txt -> build\\lib.win-amd64-cpython-312\\gensim\\test\\test_data\n",
      "  copying gensim\\test\\test_data\\ldavowpalwabbit.txt -> build\\lib.win-amd64-cpython-312\\gensim\\test\\test_data\n",
      "  copying gensim\\test\\test_data\\lee.cor -> build\\lib.win-amd64-cpython-312\\gensim\\test\\test_data\n",
      "  copying gensim\\test\\test_data\\lee_background.cor -> build\\lib.win-amd64-cpython-312\\gensim\\test\\test_data\n",
      "  copying gensim\\test\\test_data\\lee_fasttext -> build\\lib.win-amd64-cpython-312\\gensim\\test\\test_data\n",
      "  copying gensim\\test\\test_data\\lee_fasttext.bin -> build\\lib.win-amd64-cpython-312\\gensim\\test\\test_data\n",
      "  copying gensim\\test\\test_data\\lee_fasttext.vec -> build\\lib.win-amd64-cpython-312\\gensim\\test\\test_data\n",
      "  copying gensim\\test\\test_data\\lee_fasttext_new.bin -> build\\lib.win-amd64-cpython-312\\gensim\\test\\test_data\n",
      "  copying gensim\\test\\test_data\\miIslita.cor -> build\\lib.win-amd64-cpython-312\\gensim\\test\\test_data\n",
      "  copying gensim\\test\\test_data\\mini_newsgroup -> build\\lib.win-amd64-cpython-312\\gensim\\test\\test_data\n",
      "  copying gensim\\test\\test_data\\nmf_model -> build\\lib.win-amd64-cpython-312\\gensim\\test\\test_data\n",
      "  copying gensim\\test\\test_data\\non_ascii_fasttext.bin -> build\\lib.win-amd64-cpython-312\\gensim\\test\\test_data\n",
      "  copying gensim\\test\\test_data\\old_keyedvectors_320.dat -> build\\lib.win-amd64-cpython-312\\gensim\\test\\test_data\n",
      "  copying gensim\\test\\test_data\\pang_lee_polarity.cor -> build\\lib.win-amd64-cpython-312\\gensim\\test\\test_data\n",
      "  copying gensim\\test\\test_data\\pang_lee_polarity_fasttext.bin -> build\\lib.win-amd64-cpython-312\\gensim\\test\\test_data\n",
      "  copying gensim\\test\\test_data\\pang_lee_polarity_fasttext.vec -> build\\lib.win-amd64-cpython-312\\gensim\\test\\test_data\n",
      "  copying gensim\\test\\test_data\\para2para_text1.txt -> build\\lib.win-amd64-cpython-312\\gensim\\test\\test_data\n",
      "  copying gensim\\test\\test_data\\para2para_text2.txt -> build\\lib.win-amd64-cpython-312\\gensim\\test\\test_data\n",
      "  copying gensim\\test\\test_data\\phraser-3.6.0.model -> build\\lib.win-amd64-cpython-312\\gensim\\test\\test_data\n",
      "  copying gensim\\test\\test_data\\phraser-no-common-terms.pkl -> build\\lib.win-amd64-cpython-312\\gensim\\test\\test_data\n",
      "  copying gensim\\test\\test_data\\phraser-no-scoring.pkl -> build\\lib.win-amd64-cpython-312\\gensim\\test\\test_data\n",
      "  copying gensim\\test\\test_data\\phraser-scoring-str.pkl -> build\\lib.win-amd64-cpython-312\\gensim\\test\\test_data\n",
      "  copying gensim\\test\\test_data\\phrases-3.6.0.model -> build\\lib.win-amd64-cpython-312\\gensim\\test\\test_data\n",
      "  copying gensim\\test\\test_data\\phrases-no-common-terms.pkl -> build\\lib.win-amd64-cpython-312\\gensim\\test\\test_data\n",
      "  copying gensim\\test\\test_data\\phrases-no-scoring.pkl -> build\\lib.win-amd64-cpython-312\\gensim\\test\\test_data\n",
      "  copying gensim\\test\\test_data\\phrases-scoring-str.pkl -> build\\lib.win-amd64-cpython-312\\gensim\\test\\test_data\n",
      "  copying gensim\\test\\test_data\\poincare_cp852.tsv -> build\\lib.win-amd64-cpython-312\\gensim\\test\\test_data\n",
      "  copying gensim\\test\\test_data\\poincare_hypernyms.tsv -> build\\lib.win-amd64-cpython-312\\gensim\\test\\test_data\n",
      "  copying gensim\\test\\test_data\\poincare_hypernyms_large.tsv -> build\\lib.win-amd64-cpython-312\\gensim\\test\\test_data\n",
      "  copying gensim\\test\\test_data\\poincare_test_3.4.0 -> build\\lib.win-amd64-cpython-312\\gensim\\test\\test_data\n",
      "  copying gensim\\test\\test_data\\poincare_utf8.tsv -> build\\lib.win-amd64-cpython-312\\gensim\\test\\test_data\n",
      "  copying gensim\\test\\test_data\\poincare_vectors.bin -> build\\lib.win-amd64-cpython-312\\gensim\\test\\test_data\n",
      "  copying gensim\\test\\test_data\\pre_0_13_2_model -> build\\lib.win-amd64-cpython-312\\gensim\\test\\test_data\n",
      "  copying gensim\\test\\test_data\\pre_0_13_2_model.state -> build\\lib.win-amd64-cpython-312\\gensim\\test\\test_data\n",
      "  copying gensim\\test\\test_data\\pretrained.vec -> build\\lib.win-amd64-cpython-312\\gensim\\test\\test_data\n",
      "  copying gensim\\test\\test_data\\questions-words.txt -> build\\lib.win-amd64-cpython-312\\gensim\\test\\test_data\n",
      "  copying gensim\\test\\test_data\\reproduce.dat -> build\\lib.win-amd64-cpython-312\\gensim\\test\\test_data\n",
      "  copying gensim\\test\\test_data\\reproduce.dat.gz -> build\\lib.win-amd64-cpython-312\\gensim\\test\\test_data\n",
      "  copying gensim\\test\\test_data\\similarities0-1.txt -> build\\lib.win-amd64-cpython-312\\gensim\\test\\test_data\n",
      "  copying gensim\\test\\test_data\\simlex999.txt -> build\\lib.win-amd64-cpython-312\\gensim\\test\\test_data\n",
      "  copying gensim\\test\\test_data\\small_tag_doc_5_iter50 -> build\\lib.win-amd64-cpython-312\\gensim\\test\\test_data\n",
      "  copying gensim\\test\\test_data\\test_corpus_ok.mm -> build\\lib.win-amd64-cpython-312\\gensim\\test\\test_data\n",
      "  copying gensim\\test\\test_data\\test_corpus_small.mm -> build\\lib.win-amd64-cpython-312\\gensim\\test\\test_data\n",
      "  copying gensim\\test\\test_data\\test_glove.txt -> build\\lib.win-amd64-cpython-312\\gensim\\test\\test_data\n",
      "  copying gensim\\test\\test_data\\test_mmcorpus_corrupt.mm -> build\\lib.win-amd64-cpython-312\\gensim\\test\\test_data\n",
      "  copying gensim\\test\\test_data\\test_mmcorpus_no_index.mm -> build\\lib.win-amd64-cpython-312\\gensim\\test\\test_data\n",
      "  copying gensim\\test\\test_data\\test_mmcorpus_no_index.mm.bz2 -> build\\lib.win-amd64-cpython-312\\gensim\\test\\test_data\n",
      "  copying gensim\\test\\test_data\\test_mmcorpus_no_index.mm.gz -> build\\lib.win-amd64-cpython-312\\gensim\\test\\test_data\n",
      "  copying gensim\\test\\test_data\\test_mmcorpus_overflow.mm -> build\\lib.win-amd64-cpython-312\\gensim\\test\\test_data\n",
      "  copying gensim\\test\\test_data\\test_mmcorpus_with_index.mm -> build\\lib.win-amd64-cpython-312\\gensim\\test\\test_data\n",
      "  copying gensim\\test\\test_data\\test_mmcorpus_with_index.mm.index -> build\\lib.win-amd64-cpython-312\\gensim\\test\\test_data\n",
      "  copying gensim\\test\\test_data\\testcorpus.blei -> build\\lib.win-amd64-cpython-312\\gensim\\test\\test_data\n",
      "  copying gensim\\test\\test_data\\testcorpus.blei.index -> build\\lib.win-amd64-cpython-312\\gensim\\test\\test_data\n",
      "  copying gensim\\test\\test_data\\testcorpus.blei.vocab -> build\\lib.win-amd64-cpython-312\\gensim\\test\\test_data\n",
      "  copying gensim\\test\\test_data\\testcorpus.low -> build\\lib.win-amd64-cpython-312\\gensim\\test\\test_data\n",
      "  copying gensim\\test\\test_data\\testcorpus.low.index -> build\\lib.win-amd64-cpython-312\\gensim\\test\\test_data\n",
      "  copying gensim\\test\\test_data\\testcorpus.mallet -> build\\lib.win-amd64-cpython-312\\gensim\\test\\test_data\n",
      "  copying gensim\\test\\test_data\\testcorpus.mallet.index -> build\\lib.win-amd64-cpython-312\\gensim\\test\\test_data\n",
      "  copying gensim\\test\\test_data\\testcorpus.mm -> build\\lib.win-amd64-cpython-312\\gensim\\test\\test_data\n",
      "  copying gensim\\test\\test_data\\testcorpus.mm.index -> build\\lib.win-amd64-cpython-312\\gensim\\test\\test_data\n",
      "  copying gensim\\test\\test_data\\testcorpus.svmlight -> build\\lib.win-amd64-cpython-312\\gensim\\test\\test_data\n",
      "  copying gensim\\test\\test_data\\testcorpus.svmlight.index -> build\\lib.win-amd64-cpython-312\\gensim\\test\\test_data\n",
      "  copying gensim\\test\\test_data\\testcorpus.txt -> build\\lib.win-amd64-cpython-312\\gensim\\test\\test_data\n",
      "  copying gensim\\test\\test_data\\testcorpus.uci -> build\\lib.win-amd64-cpython-312\\gensim\\test\\test_data\n",
      "  copying gensim\\test\\test_data\\testcorpus.uci.index -> build\\lib.win-amd64-cpython-312\\gensim\\test\\test_data\n",
      "  copying gensim\\test\\test_data\\testcorpus.uci.vocab -> build\\lib.win-amd64-cpython-312\\gensim\\test\\test_data\n",
      "  copying gensim\\test\\test_data\\testcorpus.xml.bz2 -> build\\lib.win-amd64-cpython-312\\gensim\\test\\test_data\n",
      "  copying gensim\\test\\test_data\\testcorpus_serialization.mm.index -> build\\lib.win-amd64-cpython-312\\gensim\\test\\test_data\n",
      "  copying gensim\\test\\test_data\\tfidf_model.tst -> build\\lib.win-amd64-cpython-312\\gensim\\test\\test_data\n",
      "  copying gensim\\test\\test_data\\tfidf_model.tst.bz2 -> build\\lib.win-amd64-cpython-312\\gensim\\test\\test_data\n",
      "  copying gensim\\test\\test_data\\tfidf_model_3_2.tst -> build\\lib.win-amd64-cpython-312\\gensim\\test\\test_data\n",
      "  copying gensim\\test\\test_data\\toy-data.txt -> build\\lib.win-amd64-cpython-312\\gensim\\test\\test_data\n",
      "  copying gensim\\test\\test_data\\toy-model-pretrained.bin -> build\\lib.win-amd64-cpython-312\\gensim\\test\\test_data\n",
      "  copying gensim\\test\\test_data\\toy-model.bin -> build\\lib.win-amd64-cpython-312\\gensim\\test\\test_data\n",
      "  copying gensim\\test\\test_data\\toy-model.vec -> build\\lib.win-amd64-cpython-312\\gensim\\test\\test_data\n",
      "  copying gensim\\test\\test_data\\varembed_lee_subcorpus.cor -> build\\lib.win-amd64-cpython-312\\gensim\\test\\test_data\n",
      "  copying gensim\\test\\test_data\\varembed_morfessor.bin -> build\\lib.win-amd64-cpython-312\\gensim\\test\\test_data\n",
      "  copying gensim\\test\\test_data\\varembed_vectors.pkl -> build\\lib.win-amd64-cpython-312\\gensim\\test\\test_data\n",
      "  copying gensim\\test\\test_data\\w2v-lee-v0.12.0 -> build\\lib.win-amd64-cpython-312\\gensim\\test\\test_data\n",
      "  copying gensim\\test\\test_data\\w2v_keyedvectors_load_test.modeldata -> build\\lib.win-amd64-cpython-312\\gensim\\test\\test_data\n",
      "  copying gensim\\test\\test_data\\w2v_keyedvectors_load_test.vocab -> build\\lib.win-amd64-cpython-312\\gensim\\test\\test_data\n",
      "  copying gensim\\test\\test_data\\word2vec_3.3 -> build\\lib.win-amd64-cpython-312\\gensim\\test\\test_data\n",
      "  copying gensim\\test\\test_data\\word2vec_old -> build\\lib.win-amd64-cpython-312\\gensim\\test\\test_data\n",
      "  copying gensim\\test\\test_data\\word2vec_old_sep -> build\\lib.win-amd64-cpython-312\\gensim\\test\\test_data\n",
      "  copying gensim\\test\\test_data\\word2vec_old_sep.syn0_lockf.npy -> build\\lib.win-amd64-cpython-312\\gensim\\test\\test_data\n",
      "  copying gensim\\test\\test_data\\word2vec_old_sep.syn1neg.npy -> build\\lib.win-amd64-cpython-312\\gensim\\test\\test_data\n",
      "  copying gensim\\test\\test_data\\word2vec_pre_kv_c -> build\\lib.win-amd64-cpython-312\\gensim\\test\\test_data\n",
      "  copying gensim\\test\\test_data\\word2vec_pre_kv_py2 -> build\\lib.win-amd64-cpython-312\\gensim\\test\\test_data\n",
      "  copying gensim\\test\\test_data\\word2vec_pre_kv_py3 -> build\\lib.win-amd64-cpython-312\\gensim\\test\\test_data\n",
      "  copying gensim\\test\\test_data\\word2vec_pre_kv_py3_4 -> build\\lib.win-amd64-cpython-312\\gensim\\test\\test_data\n",
      "  copying gensim\\test\\test_data\\word2vec_pre_kv_sep_py2 -> build\\lib.win-amd64-cpython-312\\gensim\\test\\test_data\n",
      "  copying gensim\\test\\test_data\\word2vec_pre_kv_sep_py2.neg_labels.npy -> build\\lib.win-amd64-cpython-312\\gensim\\test\\test_data\n",
      "  copying gensim\\test\\test_data\\word2vec_pre_kv_sep_py2.syn0.npy -> build\\lib.win-amd64-cpython-312\\gensim\\test\\test_data\n",
      "  copying gensim\\test\\test_data\\word2vec_pre_kv_sep_py2.syn0_lockf.npy -> build\\lib.win-amd64-cpython-312\\gensim\\test\\test_data\n",
      "  copying gensim\\test\\test_data\\word2vec_pre_kv_sep_py2.syn1neg.npy -> build\\lib.win-amd64-cpython-312\\gensim\\test\\test_data\n",
      "  copying gensim\\test\\test_data\\word2vec_pre_kv_sep_py3 -> build\\lib.win-amd64-cpython-312\\gensim\\test\\test_data\n",
      "  copying gensim\\test\\test_data\\word2vec_pre_kv_sep_py3.neg_labels.npy -> build\\lib.win-amd64-cpython-312\\gensim\\test\\test_data\n",
      "  copying gensim\\test\\test_data\\word2vec_pre_kv_sep_py3.syn0.npy -> build\\lib.win-amd64-cpython-312\\gensim\\test\\test_data\n",
      "  copying gensim\\test\\test_data\\word2vec_pre_kv_sep_py3.syn0_lockf.npy -> build\\lib.win-amd64-cpython-312\\gensim\\test\\test_data\n",
      "  copying gensim\\test\\test_data\\word2vec_pre_kv_sep_py3.syn1neg.npy -> build\\lib.win-amd64-cpython-312\\gensim\\test\\test_data\n",
      "  copying gensim\\test\\test_data\\word2vec_pre_kv_sep_py3_4 -> build\\lib.win-amd64-cpython-312\\gensim\\test\\test_data\n",
      "  copying gensim\\test\\test_data\\word2vec_pre_kv_sep_py3_4.neg_labels.npy -> build\\lib.win-amd64-cpython-312\\gensim\\test\\test_data\n",
      "  copying gensim\\test\\test_data\\word2vec_pre_kv_sep_py3_4.syn0.npy -> build\\lib.win-amd64-cpython-312\\gensim\\test\\test_data\n",
      "  copying gensim\\test\\test_data\\word2vec_pre_kv_sep_py3_4.syn0_lockf.npy -> build\\lib.win-amd64-cpython-312\\gensim\\test\\test_data\n",
      "  copying gensim\\test\\test_data\\word2vec_pre_kv_sep_py3_4.syn1neg.npy -> build\\lib.win-amd64-cpython-312\\gensim\\test\\test_data\n",
      "  copying gensim\\test\\test_data\\wordsim353.tsv -> build\\lib.win-amd64-cpython-312\\gensim\\test\\test_data\n",
      "  creating build\\lib.win-amd64-cpython-312\\gensim\\test\\test_data\\DTM\n",
      "  copying gensim\\test\\test_data\\DTM\\ldaseq_3_0_1_model -> build\\lib.win-amd64-cpython-312\\gensim\\test\\test_data\\DTM\n",
      "  copying gensim\\test\\test_data\\DTM\\sstats_test.txt -> build\\lib.win-amd64-cpython-312\\gensim\\test\\test_data\\DTM\n",
      "  creating build\\lib.win-amd64-cpython-312\\gensim\\test\\test_data\\PathLineSentences\n",
      "  copying gensim\\test\\test_data\\PathLineSentences\\1.txt -> build\\lib.win-amd64-cpython-312\\gensim\\test\\test_data\\PathLineSentences\n",
      "  copying gensim\\test\\test_data\\PathLineSentences\\2.txt.bz2 -> build\\lib.win-amd64-cpython-312\\gensim\\test\\test_data\\PathLineSentences\n",
      "  creating build\\lib.win-amd64-cpython-312\\gensim\\test\\test_data\\old_d2v_models\n",
      "  copying gensim\\test\\test_data\\old_d2v_models\\d2v_0.12.0.mdl -> build\\lib.win-amd64-cpython-312\\gensim\\test\\test_data\\old_d2v_models\n",
      "  copying gensim\\test\\test_data\\old_d2v_models\\d2v_0.12.1.mdl -> build\\lib.win-amd64-cpython-312\\gensim\\test\\test_data\\old_d2v_models\n",
      "  copying gensim\\test\\test_data\\old_d2v_models\\d2v_0.12.2.mdl -> build\\lib.win-amd64-cpython-312\\gensim\\test\\test_data\\old_d2v_models\n",
      "  copying gensim\\test\\test_data\\old_d2v_models\\d2v_0.12.3.mdl -> build\\lib.win-amd64-cpython-312\\gensim\\test\\test_data\\old_d2v_models\n",
      "  copying gensim\\test\\test_data\\old_d2v_models\\d2v_0.12.4.mdl -> build\\lib.win-amd64-cpython-312\\gensim\\test\\test_data\\old_d2v_models\n",
      "  copying gensim\\test\\test_data\\old_d2v_models\\d2v_0.13.0.mdl -> build\\lib.win-amd64-cpython-312\\gensim\\test\\test_data\\old_d2v_models\n",
      "  copying gensim\\test\\test_data\\old_d2v_models\\d2v_0.13.1.mdl -> build\\lib.win-amd64-cpython-312\\gensim\\test\\test_data\\old_d2v_models\n",
      "  copying gensim\\test\\test_data\\old_d2v_models\\d2v_0.13.2.mdl -> build\\lib.win-amd64-cpython-312\\gensim\\test\\test_data\\old_d2v_models\n",
      "  copying gensim\\test\\test_data\\old_d2v_models\\d2v_0.13.3.mdl -> build\\lib.win-amd64-cpython-312\\gensim\\test\\test_data\\old_d2v_models\n",
      "  copying gensim\\test\\test_data\\old_d2v_models\\d2v_0.13.4.mdl -> build\\lib.win-amd64-cpython-312\\gensim\\test\\test_data\\old_d2v_models\n",
      "  copying gensim\\test\\test_data\\old_d2v_models\\d2v_1.0.0.mdl -> build\\lib.win-amd64-cpython-312\\gensim\\test\\test_data\\old_d2v_models\n",
      "  copying gensim\\test\\test_data\\old_d2v_models\\d2v_1.0.1.mdl -> build\\lib.win-amd64-cpython-312\\gensim\\test\\test_data\\old_d2v_models\n",
      "  copying gensim\\test\\test_data\\old_d2v_models\\d2v_2.0.0.mdl -> build\\lib.win-amd64-cpython-312\\gensim\\test\\test_data\\old_d2v_models\n",
      "  copying gensim\\test\\test_data\\old_d2v_models\\d2v_2.1.0.mdl -> build\\lib.win-amd64-cpython-312\\gensim\\test\\test_data\\old_d2v_models\n",
      "  copying gensim\\test\\test_data\\old_d2v_models\\d2v_2.2.0.mdl -> build\\lib.win-amd64-cpython-312\\gensim\\test\\test_data\\old_d2v_models\n",
      "  copying gensim\\test\\test_data\\old_d2v_models\\d2v_2.3.0.mdl -> build\\lib.win-amd64-cpython-312\\gensim\\test\\test_data\\old_d2v_models\n",
      "  copying gensim\\test\\test_data\\old_d2v_models\\d2v_3.0.0.mdl -> build\\lib.win-amd64-cpython-312\\gensim\\test\\test_data\\old_d2v_models\n",
      "  copying gensim\\test\\test_data\\old_d2v_models\\d2v_3.1.0.mdl -> build\\lib.win-amd64-cpython-312\\gensim\\test\\test_data\\old_d2v_models\n",
      "  copying gensim\\test\\test_data\\old_d2v_models\\d2v_3.2.0.mdl -> build\\lib.win-amd64-cpython-312\\gensim\\test\\test_data\\old_d2v_models\n",
      "  copying gensim\\test\\test_data\\old_d2v_models\\d2v_3.3.0.mdl -> build\\lib.win-amd64-cpython-312\\gensim\\test\\test_data\\old_d2v_models\n",
      "  copying gensim\\test\\test_data\\old_d2v_models\\d2v_3.4.0.mdl -> build\\lib.win-amd64-cpython-312\\gensim\\test\\test_data\\old_d2v_models\n",
      "  creating build\\lib.win-amd64-cpython-312\\gensim\\test\\test_data\\old_w2v_models\n",
      "  copying gensim\\test\\test_data\\old_w2v_models\\w2v_0.12.0.mdl -> build\\lib.win-amd64-cpython-312\\gensim\\test\\test_data\\old_w2v_models\n",
      "  copying gensim\\test\\test_data\\old_w2v_models\\w2v_0.12.1.mdl -> build\\lib.win-amd64-cpython-312\\gensim\\test\\test_data\\old_w2v_models\n",
      "  copying gensim\\test\\test_data\\old_w2v_models\\w2v_0.12.2.mdl -> build\\lib.win-amd64-cpython-312\\gensim\\test\\test_data\\old_w2v_models\n",
      "  copying gensim\\test\\test_data\\old_w2v_models\\w2v_0.12.3.mdl -> build\\lib.win-amd64-cpython-312\\gensim\\test\\test_data\\old_w2v_models\n",
      "  copying gensim\\test\\test_data\\old_w2v_models\\w2v_0.12.4.mdl -> build\\lib.win-amd64-cpython-312\\gensim\\test\\test_data\\old_w2v_models\n",
      "  copying gensim\\test\\test_data\\old_w2v_models\\w2v_0.13.0.mdl -> build\\lib.win-amd64-cpython-312\\gensim\\test\\test_data\\old_w2v_models\n",
      "  copying gensim\\test\\test_data\\old_w2v_models\\w2v_0.13.1.mdl -> build\\lib.win-amd64-cpython-312\\gensim\\test\\test_data\\old_w2v_models\n",
      "  copying gensim\\test\\test_data\\old_w2v_models\\w2v_0.13.2.mdl -> build\\lib.win-amd64-cpython-312\\gensim\\test\\test_data\\old_w2v_models\n",
      "  copying gensim\\test\\test_data\\old_w2v_models\\w2v_0.13.3.mdl -> build\\lib.win-amd64-cpython-312\\gensim\\test\\test_data\\old_w2v_models\n",
      "  copying gensim\\test\\test_data\\old_w2v_models\\w2v_0.13.4.mdl -> build\\lib.win-amd64-cpython-312\\gensim\\test\\test_data\\old_w2v_models\n",
      "  copying gensim\\test\\test_data\\old_w2v_models\\w2v_1.0.0.mdl -> build\\lib.win-amd64-cpython-312\\gensim\\test\\test_data\\old_w2v_models\n",
      "  copying gensim\\test\\test_data\\old_w2v_models\\w2v_1.0.1.mdl -> build\\lib.win-amd64-cpython-312\\gensim\\test\\test_data\\old_w2v_models\n",
      "  copying gensim\\test\\test_data\\old_w2v_models\\w2v_2.0.0.mdl -> build\\lib.win-amd64-cpython-312\\gensim\\test\\test_data\\old_w2v_models\n",
      "  copying gensim\\test\\test_data\\old_w2v_models\\w2v_2.1.0.mdl -> build\\lib.win-amd64-cpython-312\\gensim\\test\\test_data\\old_w2v_models\n",
      "  copying gensim\\test\\test_data\\old_w2v_models\\w2v_2.2.0.mdl -> build\\lib.win-amd64-cpython-312\\gensim\\test\\test_data\\old_w2v_models\n",
      "  copying gensim\\test\\test_data\\old_w2v_models\\w2v_2.3.0.mdl -> build\\lib.win-amd64-cpython-312\\gensim\\test\\test_data\\old_w2v_models\n",
      "  copying gensim\\test\\test_data\\old_w2v_models\\w2v_3.0.0.mdl -> build\\lib.win-amd64-cpython-312\\gensim\\test\\test_data\\old_w2v_models\n",
      "  copying gensim\\test\\test_data\\old_w2v_models\\w2v_3.1.0.mdl -> build\\lib.win-amd64-cpython-312\\gensim\\test\\test_data\\old_w2v_models\n",
      "  copying gensim\\test\\test_data\\old_w2v_models\\w2v_3.2.0.mdl -> build\\lib.win-amd64-cpython-312\\gensim\\test\\test_data\\old_w2v_models\n",
      "  copying gensim\\test\\test_data\\old_w2v_models\\w2v_3.3.0.mdl -> build\\lib.win-amd64-cpython-312\\gensim\\test\\test_data\\old_w2v_models\n",
      "  copying gensim\\test\\test_data\\old_w2v_models\\w2v_3.4.0.mdl -> build\\lib.win-amd64-cpython-312\\gensim\\test\\test_data\\old_w2v_models\n",
      "  running build_ext\n",
      "  building 'gensim.models.word2vec_inner' extension\n",
      "  error: Microsoft Visual C++ 14.0 or greater is required. Get it with \"Microsoft C++ Build Tools\": https://visualstudio.microsoft.com/visual-cpp-build-tools/\n",
      "  [end of output]\n",
      "  \n",
      "  note: This error originates from a subprocess, and is likely not a problem with pip.\n",
      "  ERROR: Failed building wheel for gensim\n",
      "ERROR: ERROR: Failed to build installable wheels for some pyproject.toml based projects (gensim)\n"
     ]
    }
   ],
   "source": [
    "!pip install gensim==4.0"
   ]
  },
  {
   "cell_type": "code",
   "execution_count": 34,
   "id": "22d0e050-75e8-47ed-ba95-9a0bbbb7118e",
   "metadata": {},
   "outputs": [
    {
     "data": {
      "text/plain": [
       "dict_keys(['inamericasaystheencyclopedialibertarianfromwhichmostofthesefiguresaretakentherewereonlyfivesadistsofimportanceinandnowtherearethirtyindiahindibharatofficiallytherepublicofindiaisacountryinsouthasiaitistheseventhlargestcountrynlpisfunandcandealwithtextsandsoundsbutcantdealwithimageswehavesessionatamwecanearnlotof'])"
      ]
     },
     "execution_count": 34,
     "metadata": {},
     "output_type": "execute_result"
    }
   ],
   "source": [
    "model=Word2Vec(sent_word ,min_count=1)\n",
    "words=model.wv.key_to_index.keys()\n",
    "words"
   ]
  },
  {
   "cell_type": "markdown",
   "id": "cd8c415d-6a80-4478-9b26-6012f672115d",
   "metadata": {},
   "source": [
    "sent_word gives our entire word data here and min_count=1 gives one word at a time\n",
    "wv refers to word2vec so word2vec model gonna to be trained on  this particular data sent_word and we will build vocab as key_to_index.keys()"
   ]
  },
  {
   "cell_type": "markdown",
   "id": "97a8f01d-6e7e-4763-b821-314df589264d",
   "metadata": {},
   "source": [
    "TEST THE WORD VECTORS"
   ]
  },
  {
   "cell_type": "code",
   "execution_count": 38,
   "id": "37831d0a-6e4b-4cf8-88ab-bffb9c7c4633",
   "metadata": {},
   "outputs": [
    {
     "data": {
      "text/plain": [
       "array([-5.3622725e-04,  2.3643136e-04,  5.1033497e-03,  9.0092728e-03,\n",
       "       -9.3029495e-03, -7.1168090e-03,  6.4588725e-03,  8.9729885e-03,\n",
       "       -5.0154282e-03, -3.7633716e-03,  7.3805046e-03, -1.5334714e-03,\n",
       "       -4.5366134e-03,  6.5540518e-03, -4.8601604e-03, -1.8160177e-03,\n",
       "        2.8765798e-03,  9.9187379e-04, -8.2852151e-03, -9.4488179e-03,\n",
       "        7.3117660e-03,  5.0702621e-03,  6.7576934e-03,  7.6286553e-04,\n",
       "        6.3508903e-03, -3.4053659e-03, -9.4640139e-04,  5.7685734e-03,\n",
       "       -7.5216377e-03, -3.9361035e-03, -7.5115822e-03, -9.3004224e-04,\n",
       "        9.5381187e-03, -7.3191668e-03, -2.3337686e-03, -1.9377411e-03,\n",
       "        8.0774371e-03, -5.9308959e-03,  4.5162440e-05, -4.7537340e-03,\n",
       "       -9.6035507e-03,  5.0072931e-03, -8.7595852e-03, -4.3918253e-03,\n",
       "       -3.5099984e-05, -2.9618145e-04, -7.6612402e-03,  9.6147433e-03,\n",
       "        4.9820580e-03,  9.2331432e-03, -8.1579173e-03,  4.4957981e-03,\n",
       "       -4.1370760e-03,  8.2453608e-04,  8.4986202e-03, -4.4621765e-03,\n",
       "        4.5175003e-03, -6.7869602e-03, -3.5484887e-03,  9.3985079e-03,\n",
       "       -1.5776526e-03,  3.2137157e-04, -4.1406299e-03, -7.6826881e-03,\n",
       "       -1.5080082e-03,  2.4697948e-03, -8.8802696e-04,  5.5336617e-03,\n",
       "       -2.7429771e-03,  2.2600652e-03,  5.4557943e-03,  8.3459532e-03,\n",
       "       -1.4537406e-03, -9.2081428e-03,  4.3705525e-03,  5.7178497e-04,\n",
       "        7.4419081e-03, -8.1328274e-04, -2.6384138e-03, -8.7530091e-03,\n",
       "       -8.5655687e-04,  2.8265631e-03,  5.4014288e-03,  7.0526563e-03,\n",
       "       -5.7031214e-03,  1.8588197e-03,  6.0888636e-03, -4.7980510e-03,\n",
       "       -3.1072604e-03,  6.7976294e-03,  1.6314756e-03,  1.8991709e-04,\n",
       "        3.4736372e-03,  2.1777749e-04,  9.6188262e-03,  5.0606038e-03,\n",
       "       -8.9173904e-03, -7.0415605e-03,  9.0145587e-04,  6.3925339e-03],\n",
       "      dtype=float32)"
      ]
     },
     "execution_count": 38,
     "metadata": {},
     "output_type": "execute_result"
    }
   ],
   "source": [
    "vector=model.wv['inamericasaystheencyclopedialibertarianfromwhichmostofthesefiguresaretakentherewereonlyfivesadistsofimportanceinandnowtherearethirtyindiahindibharatofficiallytherepublicofindiaisacountryinsouthasiaitistheseventhlargestcountrynlpisfunandcandealwithtextsandsoundsbutcantdealwithimageswehavesessionatamwecanearnlotof']\n",
    "vector"
   ]
  },
  {
   "cell_type": "markdown",
   "id": "d3f8b5cf-828e-477f-9ae4-2350feb7c7ec",
   "metadata": {},
   "source": [
    "vectors got generated for the words \n",
    "#vector=model.wv['america']\n",
    "vector\n",
    "#here model got created and we can also check with oneword america also.and print its vector.for only one word 'america'it will create so many vectors in multile dimensions."
   ]
  },
  {
   "cell_type": "code",
   "execution_count": 79,
   "id": "1dd57437-50dd-4f6c-87ec-07c53bb1cad0",
   "metadata": {},
   "outputs": [],
   "source": [
    "para=\"america is a high pay country,Top universities is there in america\""
   ]
  },
  {
   "cell_type": "code",
   "execution_count": 80,
   "id": "e198a8c2-1797-481a-aa57-c3bb071bb49a",
   "metadata": {},
   "outputs": [],
   "source": [
    "#para=para.translate(str.maketrans('','',string.punctuation))\n",
    "#we find punctuations and replace with spaces"
   ]
  },
  {
   "cell_type": "code",
   "execution_count": 81,
   "id": "5ec31487-55d9-4929-b284-465b255f9ba1",
   "metadata": {},
   "outputs": [
    {
     "data": {
      "text/plain": [
       "['america is a high pay country,Top universities is there in america']"
      ]
     },
     "execution_count": 81,
     "metadata": {},
     "output_type": "execute_result"
    }
   ],
   "source": [
    "sentences=nltk.sent_tokenize(para)\n",
    "sentences"
   ]
  },
  {
   "cell_type": "code",
   "execution_count": 82,
   "id": "b75b4e95-6c09-4929-a77c-c4d6e33e4f88",
   "metadata": {},
   "outputs": [],
   "source": [
    "sent_word=[nltk.word_tokenize(sentence) for sentence in sentences]"
   ]
  },
  {
   "cell_type": "code",
   "execution_count": 83,
   "id": "e480b74a-d8a7-42fe-8f0b-56914c731862",
   "metadata": {},
   "outputs": [
    {
     "data": {
      "text/plain": [
       "[['america',\n",
       "  'is',\n",
       "  'a',\n",
       "  'high',\n",
       "  'pay',\n",
       "  'country',\n",
       "  ',',\n",
       "  'Top',\n",
       "  'universities',\n",
       "  'is',\n",
       "  'there',\n",
       "  'in',\n",
       "  'america']]"
      ]
     },
     "execution_count": 83,
     "metadata": {},
     "output_type": "execute_result"
    }
   ],
   "source": [
    "sent_word"
   ]
  },
  {
   "cell_type": "code",
   "execution_count": 74,
   "id": "c0a08314-3158-4b4e-bb46-d4430208c634",
   "metadata": {},
   "outputs": [],
   "source": [
    "for i in range(len(sent_word)):\n",
    "    sent_word[i]=[word for word in sent_word[i] if word not in stopwords.words('english') if word not in punc]"
   ]
  },
  {
   "cell_type": "code",
   "execution_count": 75,
   "id": "f4013e04-a294-4ca1-b29d-8b00aa8689cb",
   "metadata": {},
   "outputs": [
    {
     "data": {
      "text/plain": [
       "['america', 'high', 'pay', 'country', 'Top', 'universities', 'america']"
      ]
     },
     "execution_count": 75,
     "metadata": {},
     "output_type": "execute_result"
    }
   ],
   "source": [
    "sent_word[i]"
   ]
  },
  {
   "cell_type": "code",
   "execution_count": 76,
   "id": "6c107d0f-ae7c-4b14-a698-d0b0de00d2a2",
   "metadata": {},
   "outputs": [
    {
     "data": {
      "text/plain": [
       "[['america', 'high', 'pay', 'country', 'Top', 'universities', 'america']]"
      ]
     },
     "execution_count": 76,
     "metadata": {},
     "output_type": "execute_result"
    }
   ],
   "source": [
    "sent_word"
   ]
  },
  {
   "cell_type": "code",
   "execution_count": 84,
   "id": "6bda3b92-bc0e-457b-9070-3ff96efb91d1",
   "metadata": {},
   "outputs": [
    {
     "data": {
      "text/plain": [
       "<gensim.models.keyedvectors.KeyedVectors at 0x207379cfad0>"
      ]
     },
     "execution_count": 84,
     "metadata": {},
     "output_type": "execute_result"
    }
   ],
   "source": [
    "#vector=model.wv['america']\n",
    "\n",
    "word_vectors = model.wv.vectors_for_all(sent_word[i][i])\n",
    "word_vectors"
   ]
  },
  {
   "cell_type": "code",
   "execution_count": 85,
   "id": "e95f87fe-a2fb-477b-bc27-e069ea7ac507",
   "metadata": {},
   "outputs": [
    {
     "data": {
      "text/plain": [
       "['is',\n",
       " 'america',\n",
       " 'in',\n",
       " 'there',\n",
       " 'universities',\n",
       " 'Top',\n",
       " ',',\n",
       " 'country',\n",
       " 'pay',\n",
       " 'high',\n",
       " 'a']"
      ]
     },
     "execution_count": 85,
     "metadata": {},
     "output_type": "execute_result"
    }
   ],
   "source": [
    "model=Word2Vec(sent_word ,min_count=1)\n",
    "words=model.wv.index_to_key\n",
    "words"
   ]
  },
  {
   "cell_type": "code",
   "execution_count": 86,
   "id": "ad863419-cd7d-4107-9f25-222099cdda84",
   "metadata": {},
   "outputs": [
    {
     "data": {
      "text/plain": [
       "<gensim.models.keyedvectors.KeyedVectors at 0x207379e2de0>"
      ]
     },
     "execution_count": 86,
     "metadata": {},
     "output_type": "execute_result"
    }
   ],
   "source": [
    "#vector=model.wv['america']\n",
    "\n",
    "word_vectors = model.wv.vectors_for_all('america')\n",
    "word_vectors"
   ]
  },
  {
   "cell_type": "code",
   "execution_count": 87,
   "id": "a9d3a6ab-ffbd-4150-b1fa-954ca9ba4c55",
   "metadata": {},
   "outputs": [
    {
     "data": {
      "text/plain": [
       "<gensim.models.keyedvectors.KeyedVectors at 0x207379f6720>"
      ]
     },
     "execution_count": 87,
     "metadata": {},
     "output_type": "execute_result"
    }
   ],
   "source": [
    "#vector=model.wv['america']\n",
    "\n",
    "word_vectors = model.wv.vectors_for_all('sent_word')\n",
    "word_vectors"
   ]
  },
  {
   "cell_type": "code",
   "execution_count": 92,
   "id": "1390b6ec-eee2-4d2b-bca3-4eb45d3babc5",
   "metadata": {},
   "outputs": [
    {
     "data": {
      "text/plain": [
       "array([-8.6269975e-03,  3.6675574e-03,  5.1876013e-03,  5.7387347e-03,\n",
       "        7.4647809e-03, -6.1670146e-03,  1.1085984e-03,  6.0494384e-03,\n",
       "       -2.8437809e-03, -6.1750356e-03, -4.1493925e-04, -8.3695129e-03,\n",
       "       -5.6067100e-03,  7.1015693e-03,  3.3500958e-03,  7.2208885e-03,\n",
       "        6.7970855e-03,  7.5301486e-03, -3.7899101e-03, -5.6260166e-04,\n",
       "        2.3447536e-03, -4.5211180e-03,  8.3940746e-03, -9.8531926e-03,\n",
       "        6.7621046e-03,  2.9125297e-03, -4.9315947e-03,  4.3954649e-03,\n",
       "       -1.7415257e-03,  6.7148232e-03,  9.9703940e-03, -4.3667858e-03,\n",
       "       -6.0251576e-04, -5.7028788e-03,  3.8520349e-03,  2.7896117e-03,\n",
       "        6.8937708e-03,  6.1050374e-03,  9.5425220e-03,  9.2730476e-03,\n",
       "        7.9039978e-03, -6.9949743e-03, -9.1613419e-03, -3.5609512e-04,\n",
       "       -3.0985137e-03,  7.8931106e-03,  5.9398534e-03, -1.5419524e-03,\n",
       "        1.5126312e-03,  1.7879836e-03,  7.8210896e-03, -9.5141716e-03,\n",
       "       -1.9892573e-04,  3.4725741e-03, -9.4438373e-04,  8.3823781e-03,\n",
       "        9.0152929e-03,  6.5319091e-03, -7.1614876e-04,  7.7056931e-03,\n",
       "       -8.5290540e-03,  3.2063401e-03, -4.6338267e-03, -5.0935294e-03,\n",
       "        3.5923184e-03,  5.3713778e-03,  7.7736070e-03, -5.7632704e-03,\n",
       "        7.4291728e-03,  6.6237617e-03, -3.7105368e-03, -8.7434892e-03,\n",
       "        5.4417225e-03,  6.5126531e-03, -7.8764313e-04, -6.7063961e-03,\n",
       "       -7.0923022e-03, -2.4928355e-03,  5.1457407e-03, -3.6663553e-03,\n",
       "       -9.3696089e-03,  3.8213062e-03,  4.8873485e-03, -6.4353393e-03,\n",
       "        1.2081951e-03, -2.0813749e-03,  2.4144098e-05, -9.8800203e-03,\n",
       "        2.6888307e-03, -4.7506141e-03,  1.0918069e-03, -1.5731275e-03,\n",
       "        2.1940686e-03, -7.8853257e-03, -2.7114446e-03,  2.6643949e-03,\n",
       "        5.3464272e-03, -2.3943575e-03, -9.5099043e-03,  4.5046657e-03],\n",
       "      dtype=float32)"
      ]
     },
     "execution_count": 92,
     "metadata": {},
     "output_type": "execute_result"
    }
   ],
   "source": [
    "#vector=model.wv['america']\n",
    "\n",
    "word_vectors = model.wv.get_vector('america') \n",
    "word_vectors"
   ]
  },
  {
   "cell_type": "markdown",
   "id": "967b1e53-68c9-4bbe-8134-34065ab7fbbe",
   "metadata": {},
   "source": [
    "we got vector for america in multiple dimensions"
   ]
  },
  {
   "cell_type": "code",
   "execution_count": 93,
   "id": "44f43864-888f-47fd-a981-323b56b3b039",
   "metadata": {},
   "outputs": [
    {
     "data": {
      "text/plain": [
       "dict_keys(['is', 'america', 'in', 'there', 'universities', 'Top', ',', 'country', 'pay', 'high', 'a'])"
      ]
     },
     "execution_count": 93,
     "metadata": {},
     "output_type": "execute_result"
    }
   ],
   "source": [
    "model=Word2Vec(sent_word ,min_count=1)\n",
    "words=model.wv.key_to_index.keys()\n",
    "words"
   ]
  },
  {
   "cell_type": "code",
   "execution_count": 43,
   "id": "b6a5f37d-061e-4711-bb23-1dc7e63f2dd7",
   "metadata": {},
   "outputs": [
    {
     "data": {
      "text/plain": [
       "array([[-5.3622725e-04,  2.3643136e-04,  5.1033497e-03,  9.0092728e-03,\n",
       "        -9.3029495e-03, -7.1168090e-03,  6.4588725e-03,  8.9729885e-03,\n",
       "        -5.0154282e-03, -3.7633716e-03,  7.3805046e-03, -1.5334714e-03,\n",
       "        -4.5366134e-03,  6.5540518e-03, -4.8601604e-03, -1.8160177e-03,\n",
       "         2.8765798e-03,  9.9187379e-04, -8.2852151e-03, -9.4488179e-03,\n",
       "         7.3117660e-03,  5.0702621e-03,  6.7576934e-03,  7.6286553e-04,\n",
       "         6.3508903e-03, -3.4053659e-03, -9.4640139e-04,  5.7685734e-03,\n",
       "        -7.5216377e-03, -3.9361035e-03, -7.5115822e-03, -9.3004224e-04,\n",
       "         9.5381187e-03, -7.3191668e-03, -2.3337686e-03, -1.9377411e-03,\n",
       "         8.0774371e-03, -5.9308959e-03,  4.5162440e-05, -4.7537340e-03,\n",
       "        -9.6035507e-03,  5.0072931e-03, -8.7595852e-03, -4.3918253e-03,\n",
       "        -3.5099984e-05, -2.9618145e-04, -7.6612402e-03,  9.6147433e-03,\n",
       "         4.9820580e-03,  9.2331432e-03, -8.1579173e-03,  4.4957981e-03,\n",
       "        -4.1370760e-03,  8.2453608e-04,  8.4986202e-03, -4.4621765e-03,\n",
       "         4.5175003e-03, -6.7869602e-03, -3.5484887e-03,  9.3985079e-03,\n",
       "        -1.5776526e-03,  3.2137157e-04, -4.1406299e-03, -7.6826881e-03,\n",
       "        -1.5080082e-03,  2.4697948e-03, -8.8802696e-04,  5.5336617e-03,\n",
       "        -2.7429771e-03,  2.2600652e-03,  5.4557943e-03,  8.3459532e-03,\n",
       "        -1.4537406e-03, -9.2081428e-03,  4.3705525e-03,  5.7178497e-04,\n",
       "         7.4419081e-03, -8.1328274e-04, -2.6384138e-03, -8.7530091e-03,\n",
       "        -8.5655687e-04,  2.8265631e-03,  5.4014288e-03,  7.0526563e-03,\n",
       "        -5.7031214e-03,  1.8588197e-03,  6.0888636e-03, -4.7980510e-03,\n",
       "        -3.1072604e-03,  6.7976294e-03,  1.6314756e-03,  1.8991709e-04,\n",
       "         3.4736372e-03,  2.1777749e-04,  9.6188262e-03,  5.0606038e-03,\n",
       "        -8.9173904e-03, -7.0415605e-03,  9.0145587e-04,  6.3925339e-03],\n",
       "       [-8.6196875e-03,  3.6657380e-03,  5.1898835e-03,  5.7419385e-03,\n",
       "         7.4669183e-03, -6.1676754e-03,  1.1056137e-03,  6.0472824e-03,\n",
       "        -2.8400505e-03, -6.1735227e-03, -4.1022300e-04, -8.3689485e-03,\n",
       "        -5.6000124e-03,  7.1045388e-03,  3.3525396e-03,  7.2256695e-03,\n",
       "         6.8002474e-03,  7.5307419e-03, -3.7891543e-03, -5.6180597e-04,\n",
       "         2.3483764e-03, -4.5190323e-03,  8.3887316e-03, -9.8581640e-03,\n",
       "         6.7646410e-03,  2.9144168e-03, -4.9328315e-03,  4.3981876e-03,\n",
       "        -1.7395747e-03,  6.7113843e-03,  9.9648498e-03, -4.3624435e-03,\n",
       "        -5.9933780e-04, -5.6956373e-03,  3.8508223e-03,  2.7866268e-03,\n",
       "         6.8910765e-03,  6.1010956e-03,  9.5384968e-03,  9.2734173e-03,\n",
       "         7.8980681e-03, -6.9895042e-03, -9.1558648e-03, -3.5575271e-04,\n",
       "        -3.0998408e-03,  7.8943167e-03,  5.9385742e-03, -1.5456629e-03,\n",
       "         1.5109634e-03,  1.7900408e-03,  7.8175711e-03, -9.5101865e-03,\n",
       "        -2.0553112e-04,  3.4691966e-03, -9.3897223e-04,  8.3817719e-03,\n",
       "         9.0107834e-03,  6.5365066e-03, -7.1162102e-04,  7.7104042e-03,\n",
       "        -8.5343346e-03,  3.2071066e-03, -4.6379971e-03, -5.0889552e-03,\n",
       "         3.5896183e-03,  5.3703394e-03,  7.7695143e-03, -5.7665063e-03,\n",
       "         7.4333609e-03,  6.6254963e-03, -3.7098003e-03, -8.7456414e-03,\n",
       "         5.4374672e-03,  6.5097557e-03, -7.8755023e-04, -6.7098560e-03,\n",
       "        -7.0859254e-03, -2.4970602e-03,  5.1432536e-03, -3.6652375e-03,\n",
       "        -9.3700597e-03,  3.8267397e-03,  4.8844791e-03, -6.4285635e-03,\n",
       "         1.2085581e-03, -2.0748770e-03,  2.4403334e-05, -9.8835090e-03,\n",
       "         2.6920044e-03, -4.7501065e-03,  1.0876465e-03, -1.5762246e-03,\n",
       "         2.1966731e-03, -7.8815762e-03, -2.7171839e-03,  2.6631986e-03,\n",
       "         5.3466819e-03, -2.3915148e-03, -9.5100943e-03,  4.5058788e-03],\n",
       "       [ 9.4563962e-05,  3.0773198e-03, -6.8126451e-03, -1.3754654e-03,\n",
       "         7.6685809e-03,  7.3464094e-03, -3.6732971e-03,  2.6427018e-03,\n",
       "        -8.3171297e-03,  6.2054861e-03, -4.6373224e-03, -3.1641065e-03,\n",
       "         9.3113566e-03,  8.7338570e-04,  7.4907029e-03, -6.0740625e-03,\n",
       "         5.1605068e-03,  9.9228229e-03, -8.4573915e-03, -5.1356913e-03,\n",
       "        -7.0648370e-03, -4.8626517e-03, -3.7785638e-03, -8.5361991e-03,\n",
       "         7.9556061e-03, -4.8439382e-03,  8.4236134e-03,  5.2625705e-03,\n",
       "        -6.5500261e-03,  3.9578713e-03,  5.4701497e-03, -7.4265362e-03,\n",
       "        -7.4057197e-03, -2.4752307e-03, -8.6257253e-03, -1.5815723e-03,\n",
       "        -4.0343284e-04,  3.2996845e-03,  1.4418805e-03, -8.8142155e-04,\n",
       "        -5.5940580e-03,  1.7303658e-03, -8.9737179e-04,  6.7936908e-03,\n",
       "         3.9735902e-03,  4.5294715e-03,  1.4343059e-03, -2.6998555e-03,\n",
       "        -4.3668128e-03, -1.0320747e-03,  1.4370275e-03, -2.6460087e-03,\n",
       "        -7.0737829e-03, -7.8053069e-03, -9.1217868e-03, -5.9351693e-03,\n",
       "        -1.8474245e-03, -4.3238713e-03, -6.4606704e-03, -3.7173224e-03,\n",
       "         4.2891586e-03, -3.7390434e-03,  8.3781751e-03,  1.5339935e-03,\n",
       "        -7.2423196e-03,  9.4337985e-03,  7.6312125e-03,  5.4932819e-03,\n",
       "        -6.8488456e-03,  5.8226790e-03,  4.0090932e-03,  5.1853694e-03,\n",
       "         4.2559016e-03,  1.9397545e-03, -3.1701624e-03,  8.3538452e-03,\n",
       "         9.6121803e-03,  3.7926030e-03, -2.8369951e-03,  7.1275235e-06,\n",
       "         1.2188185e-03, -8.4583247e-03, -8.2239453e-03, -2.3101569e-04,\n",
       "         1.2372875e-03, -5.7433806e-03, -4.7252737e-03, -7.3460746e-03,\n",
       "         8.3286157e-03,  1.2129784e-04, -4.5093987e-03,  5.7017053e-03,\n",
       "         9.1800150e-03, -4.0998720e-03,  7.9646818e-03,  5.3754342e-03,\n",
       "         5.8791232e-03,  5.1259040e-04,  8.2130842e-03, -7.0190406e-03],\n",
       "       [-8.2426779e-03,  9.2993546e-03, -1.9766092e-04, -1.9672764e-03,\n",
       "         4.6036304e-03, -4.0953159e-03,  2.7431143e-03,  6.9399667e-03,\n",
       "         6.0654259e-03, -7.5107943e-03,  9.3823504e-03,  4.6718083e-03,\n",
       "         3.9661205e-03, -6.2435055e-03,  8.4599797e-03, -2.1501649e-03,\n",
       "         8.8251876e-03, -5.3620026e-03, -8.1294188e-03,  6.8245591e-03,\n",
       "         1.6711927e-03, -2.1985089e-03,  9.5136007e-03,  9.4938548e-03,\n",
       "        -9.7740470e-03,  2.5052286e-03,  6.1566923e-03,  3.8724565e-03,\n",
       "         2.0227872e-03,  4.3050171e-04,  6.7363144e-04, -3.8206363e-03,\n",
       "        -7.1402504e-03, -2.0888723e-03,  3.9238976e-03,  8.8186832e-03,\n",
       "         9.2591504e-03, -5.9759365e-03, -9.4026709e-03,  9.7643770e-03,\n",
       "         3.4297847e-03,  5.1661171e-03,  6.2823449e-03, -2.8042626e-03,\n",
       "         7.3227035e-03,  2.8302716e-03,  2.8710044e-03, -2.3803699e-03,\n",
       "        -3.1282497e-03, -2.3701417e-03,  4.2764368e-03,  7.6057913e-05,\n",
       "        -9.5842788e-03, -9.6655441e-03, -6.1481940e-03, -1.2856961e-04,\n",
       "         1.9974159e-03,  9.4319675e-03,  5.5843508e-03, -4.2906962e-03,\n",
       "         2.7831673e-04,  4.9643586e-03,  7.6983096e-03, -1.1442233e-03,\n",
       "         4.3234206e-03, -5.8143795e-03, -8.0419064e-04,  8.1000505e-03,\n",
       "        -2.3600650e-03, -9.6634552e-03,  5.7792603e-03, -3.9298222e-03,\n",
       "        -1.2228728e-03,  9.9805174e-03, -2.2563506e-03, -4.7570644e-03,\n",
       "        -5.3293873e-03,  6.9808899e-03, -5.7088719e-03,  2.1136629e-03,\n",
       "        -5.2556600e-03,  6.1207139e-03,  4.3573068e-03,  2.6063549e-03,\n",
       "        -1.4910829e-03, -2.7460635e-03,  8.9929365e-03,  5.2157748e-03,\n",
       "        -2.1625196e-03, -9.4703101e-03, -7.4260519e-03, -1.0637414e-03,\n",
       "        -7.9494715e-04, -2.5629092e-03,  9.6827205e-03, -4.5852066e-04,\n",
       "         5.8737611e-03, -7.4475873e-03, -2.5060738e-03, -5.5498634e-03],\n",
       "       [-7.1390150e-03,  1.2410306e-03, -7.1767163e-03, -2.2446180e-03,\n",
       "         3.7193035e-03,  5.8331238e-03,  1.1981833e-03,  2.1027315e-03,\n",
       "        -4.1103913e-03,  7.2253332e-03, -6.3070417e-03,  4.6472158e-03,\n",
       "        -8.2199732e-03,  2.0364679e-03, -4.9770521e-03, -4.2476882e-03,\n",
       "        -3.1089843e-03,  5.6552086e-03,  5.7984008e-03, -4.9746488e-03,\n",
       "         7.7333092e-04, -8.4957778e-03,  7.8098057e-03,  9.2572914e-03,\n",
       "        -2.7423275e-03,  8.0022332e-04,  7.4665190e-04,  5.4778848e-03,\n",
       "        -8.6060790e-03,  5.8445573e-04,  6.8694223e-03,  2.2315944e-03,\n",
       "         1.1246764e-03, -9.3221553e-03,  8.4823668e-03, -6.2641273e-03,\n",
       "        -2.9923737e-03,  3.4937870e-03, -7.7262759e-04,  1.4112913e-03,\n",
       "         1.7819917e-03, -6.8288995e-03, -9.7248117e-03,  9.0405848e-03,\n",
       "         6.1980546e-03, -6.9129276e-03,  3.4034825e-03,  2.0606398e-04,\n",
       "         4.7537456e-03, -7.1199429e-03,  4.0269541e-03,  4.3474343e-03,\n",
       "         9.9573694e-03, -4.4737398e-03, -1.3892639e-03, -7.3173214e-03,\n",
       "        -9.6978294e-03, -9.0802573e-03, -1.0227549e-03, -6.5032900e-03,\n",
       "         4.8497282e-03, -6.1640264e-03,  2.5191857e-03,  7.3944090e-04,\n",
       "        -3.3921539e-03, -9.7922329e-04,  9.9791251e-03,  9.1458866e-03,\n",
       "        -4.4618296e-03,  9.0830270e-03, -5.6417631e-03,  5.9309220e-03,\n",
       "        -3.0972182e-03,  3.4317516e-03,  3.0172265e-03,  6.9004609e-03,\n",
       "        -2.3738837e-03,  8.7750368e-03,  7.5894282e-03, -9.5476462e-03,\n",
       "        -8.0082091e-03, -7.6378966e-03,  2.9232574e-03, -2.7947223e-03,\n",
       "        -6.9295205e-03, -8.1282640e-03,  8.3091799e-03,  1.9904887e-03,\n",
       "        -9.3280170e-03, -4.7927164e-03,  3.1367384e-03, -4.7132061e-03,\n",
       "         5.2808430e-03, -4.2334413e-03,  2.6417959e-03, -8.0456873e-03,\n",
       "         6.2098862e-03,  4.8188888e-03,  7.8719261e-04,  3.0134476e-03],\n",
       "       [-8.7274825e-03,  2.1301615e-03, -8.7354420e-04, -9.3190884e-03,\n",
       "        -9.4281426e-03, -1.4107180e-03,  4.4324086e-03,  3.7040710e-03,\n",
       "        -6.4986930e-03, -6.8730675e-03, -4.9994122e-03, -2.2868442e-03,\n",
       "        -7.2502876e-03, -9.6033178e-03, -2.7436293e-03, -8.3628409e-03,\n",
       "        -6.0388758e-03, -5.6709289e-03, -2.3441375e-03, -1.7069972e-03,\n",
       "        -8.9569986e-03, -7.3519943e-04,  8.1525063e-03,  7.6904297e-03,\n",
       "        -7.2061159e-03, -3.6668312e-03,  3.1185520e-03, -9.5707225e-03,\n",
       "         1.4764392e-03,  6.5244664e-03,  5.7464195e-03, -8.7630618e-03,\n",
       "        -4.5171441e-03, -8.1401607e-03,  4.5956374e-05,  9.2636338e-03,\n",
       "         5.9733056e-03,  5.0673080e-03,  5.0610625e-03, -3.2429171e-03,\n",
       "         9.5521836e-03, -7.3564244e-03, -7.2703874e-03, -2.2653891e-03,\n",
       "        -7.7856064e-04, -3.2161034e-03, -5.9258583e-04,  7.4888230e-03,\n",
       "        -6.9751858e-04, -1.6249407e-03,  2.7443992e-03, -8.3591007e-03,\n",
       "         7.8558037e-03,  8.5361041e-03, -9.5840869e-03,  2.4462664e-03,\n",
       "         9.9049713e-03, -7.6658037e-03, -6.9669187e-03, -7.7365171e-03,\n",
       "         8.3959233e-03, -6.8133592e-04,  9.1444086e-03, -8.1582209e-03,\n",
       "         3.7430846e-03,  2.6350426e-03,  7.4271322e-04,  2.3276759e-03,\n",
       "        -7.4690939e-03, -9.3583735e-03,  2.3545765e-03,  6.1484552e-03,\n",
       "         7.9856887e-03,  5.7358947e-03, -7.7733636e-04,  8.3061643e-03,\n",
       "        -9.3363142e-03,  3.4061326e-03,  2.6675343e-04,  3.8572443e-03,\n",
       "         7.3857834e-03, -6.7251669e-03,  5.5844807e-03, -9.5222248e-03,\n",
       "        -8.0445886e-04, -8.6887367e-03, -5.0986730e-03,  9.2892265e-03,\n",
       "        -1.8582619e-03,  2.9144264e-03,  9.0712793e-03,  8.9381328e-03,\n",
       "        -8.2084350e-03, -3.0123137e-03,  9.8866057e-03,  5.1044310e-03,\n",
       "        -1.5880871e-03, -8.6920215e-03,  2.9615164e-03, -6.6758976e-03]],\n",
       "      dtype=float32)"
      ]
     },
     "execution_count": 43,
     "metadata": {},
     "output_type": "execute_result"
    }
   ],
   "source": [
    "#vector=model.wv['america']\n",
    "\n",
    "#word_vectors = model.wv.get_vector(words[0]) \n",
    "\n",
    "word_vectors = model.wv[model.wv.index_to_key]\n",
    "word_vectors"
   ]
  },
  {
   "cell_type": "code",
   "execution_count": null,
   "id": "0bb06e22-4467-4806-b05c-668385b5a68e",
   "metadata": {},
   "outputs": [],
   "source": []
  }
 ],
 "metadata": {
  "kernelspec": {
   "display_name": "Python [conda env:base] *",
   "language": "python",
   "name": "conda-base-py"
  },
  "language_info": {
   "codemirror_mode": {
    "name": "ipython",
    "version": 3
   },
   "file_extension": ".py",
   "mimetype": "text/x-python",
   "name": "python",
   "nbconvert_exporter": "python",
   "pygments_lexer": "ipython3",
   "version": "3.12.7"
  }
 },
 "nbformat": 4,
 "nbformat_minor": 5
}
