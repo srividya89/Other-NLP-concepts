{
 "cells": [
  {
   "cell_type": "code",
   "execution_count": 1,
   "id": "6127bb08-5acc-45f8-a9a1-7e441db12ff9",
   "metadata": {},
   "outputs": [],
   "source": [
    "#Stemming gives root word without meaning and grammer\n"
   ]
  },
  {
   "cell_type": "markdown",
   "id": "80f9cc36-4a4a-40db-a3e1-adb1a6b21047",
   "metadata": {},
   "source": [
    "Three types of Stemmer are Porter stemmer,Snowball stemmer and Lancaster stemmer.Stemmers are in nltk"
   ]
  },
  {
   "cell_type": "markdown",
   "id": "5a964754-8604-40bb-ba27-da3ac79e0c80",
   "metadata": {},
   "source": [
    "STEMMING"
   ]
  },
  {
   "cell_type": "code",
   "execution_count": 3,
   "id": "d6ffbf5c-e428-4c73-ac2a-add8388ca6ad",
   "metadata": {},
   "outputs": [],
   "source": [
    "import nltk"
   ]
  },
  {
   "cell_type": "code",
   "execution_count": 4,
   "id": "2798b361-ce33-4960-a0bb-c7930ce79dae",
   "metadata": {},
   "outputs": [],
   "source": [
    "from nltk.stem import PorterStemmer,LancasterStemmer,SnowballStemmer"
   ]
  },
  {
   "cell_type": "code",
   "execution_count": 6,
   "id": "7547029f-5798-49a6-b2fe-58bbe2eda6bc",
   "metadata": {},
   "outputs": [],
   "source": [
    "#LANCASTER STEMMER\n",
    "lancaster=LancasterStemmer()\n",
    "porter=PorterStemmer()\n",
    "Snowball=SnowballStemmer('english')"
   ]
  },
  {
   "cell_type": "code",
   "execution_count": 30,
   "id": "27fccda0-e6ad-45ed-a21e-efe8bafc8983",
   "metadata": {},
   "outputs": [
    {
     "name": "stdout",
     "output_type": "stream",
     "text": [
      "porter stemmer\n",
      "hobbi\n",
      "hobbi\n",
      "comput\n",
      "comput\n",
      "run\n",
      "run\n",
      "ran\n",
      "*******************************\n"
     ]
    }
   ],
   "source": [
    "print('porter stemmer')\n",
    "print(porter.stem(\"hobby\"))\n",
    "print(porter.stem(\"hobbies\"))\n",
    "print(porter.stem(\"computer\"))\n",
    "print(porter.stem(\"computation\"))\n",
    "print(porter.stem(\"running\"))\n",
    "print(porter.stem(\"runs\"))\n",
    "print(porter.stem(\"ran\"))\n",
    "print(\"*******************************\")\n"
   ]
  },
  {
   "cell_type": "code",
   "execution_count": 31,
   "id": "0809e4d0-7919-450b-9749-6ed0754f6667",
   "metadata": {},
   "outputs": [
    {
     "name": "stdout",
     "output_type": "stream",
     "text": [
      "lancaster stemmer\n",
      "hobby\n",
      "hobby\n",
      "comput\n",
      "comput\n",
      "run\n",
      "run\n",
      "ran\n",
      "*******************************\n"
     ]
    }
   ],
   "source": [
    "print('lancaster stemmer')\n",
    "print(lancaster.stem(\"hobby\"))\n",
    "print(lancaster.stem(\"hobbies\"))\n",
    "print(lancaster.stem(\"computer\"))\n",
    "print(lancaster.stem(\"computation\"))\n",
    "print(lancaster.stem(\"running\"))\n",
    "print(lancaster.stem(\"runs\"))\n",
    "print(lancaster.stem(\"ran\"))\n",
    "print(\"*******************************\")\n"
   ]
  },
  {
   "cell_type": "code",
   "execution_count": 32,
   "id": "685e4af6-4dbc-49ed-8700-beaab969fb52",
   "metadata": {},
   "outputs": [
    {
     "name": "stdout",
     "output_type": "stream",
     "text": [
      "Snowball stemmer\n",
      "hobbi\n",
      "hobbi\n",
      "comput\n",
      "comput\n",
      "run\n",
      "run\n",
      "ran\n",
      "*******************************\n"
     ]
    }
   ],
   "source": [
    "print('Snowball stemmer')\n",
    "print(Snowball.stem(\"hobby\"))\n",
    "print(Snowball.stem(\"hobbies\"))\n",
    "print(Snowball.stem(\"computer\"))\n",
    "print(Snowball.stem(\"computation\"))\n",
    "print(Snowball.stem(\"running\"))\n",
    "print(Snowball.stem(\"runs\"))\n",
    "print(Snowball.stem(\"ran\"))\n",
    "print(\"*******************************\")\n"
   ]
  },
  {
   "cell_type": "markdown",
   "id": "3fe9ba36-c758-4d8f-b5e0-c324ef5cc83b",
   "metadata": {},
   "source": [
    "#porter root word doesnt make any sense but lancaster root word makes sense e.g hobby"
   ]
  },
  {
   "cell_type": "code",
   "execution_count": 10,
   "id": "c9d66c27-6d35-4a73-bf1f-6874abfd5057",
   "metadata": {},
   "outputs": [],
   "source": [
    "sentence=\"I was going to the office on my bike when i saw a car passing by hit the tree\""
   ]
  },
  {
   "cell_type": "code",
   "execution_count": 12,
   "id": "890f787a-88cc-45b0-8468-8b47caf5c6ef",
   "metadata": {},
   "outputs": [],
   "source": [
    "token=list(nltk.word_tokenize(sentence))"
   ]
  },
  {
   "cell_type": "code",
   "execution_count": 13,
   "id": "3a531308-75d4-42f9-a170-6e1f3dfd6428",
   "metadata": {},
   "outputs": [
    {
     "data": {
      "text/plain": [
       "['I',\n",
       " 'was',\n",
       " 'going',\n",
       " 'to',\n",
       " 'the',\n",
       " 'office',\n",
       " 'on',\n",
       " 'my',\n",
       " 'bike',\n",
       " 'when',\n",
       " 'i',\n",
       " 'saw',\n",
       " 'a',\n",
       " 'car',\n",
       " 'passing',\n",
       " 'by',\n",
       " 'hit',\n",
       " 'the',\n",
       " 'tree']"
      ]
     },
     "execution_count": 13,
     "metadata": {},
     "output_type": "execute_result"
    }
   ],
   "source": [
    "token"
   ]
  },
  {
   "cell_type": "markdown",
   "id": "7e011456-2b25-42f8-b7de-62750e077468",
   "metadata": {},
   "source": [
    "three stemmers result below"
   ]
  },
  {
   "cell_type": "code",
   "execution_count": 20,
   "id": "d751ef5c-cae8-4108-9d7f-2d623aae04ad",
   "metadata": {},
   "outputs": [
    {
     "name": "stdout",
     "output_type": "stream",
     "text": [
      "i\twas\tgo\tto\tthe\toffic\ton\tmy\tbike\twhen\ti\tsaw\ta\tcar\tpass\tby\thit\tthe\ttree\n",
      "i\twas\tgoing\tto\tthe\toff\ton\tmy\tbik\twhen\ti\tsaw\ta\tcar\tpass\tby\thit\tthe\ttre\n",
      "i\twa\tgo\tto\tthe\toffic\ton\tmy\tbike\twhen\ti\tsaw\ta\tcar\tpass\tby\thit\tthe\ttree\n"
     ]
    }
   ],
   "source": [
    "for stemmer in (Snowball,lancaster,porter):\n",
    "    stemm=[stemmer.stem(t) for t in token]\n",
    "    print(\"\\t\".join(stemm))"
   ]
  },
  {
   "cell_type": "markdown",
   "id": "8879c828-fd49-47f9-95a9-1165f68b771d",
   "metadata": {},
   "source": [
    "stemming doesnt give meaning above so we use lancaster which is fast gives meaning and complex too."
   ]
  },
  {
   "cell_type": "markdown",
   "id": "417d6d4e-e4f7-4814-95dd-d85e835f5174",
   "metadata": {},
   "source": [
    "stemming is available for other languages as well"
   ]
  },
  {
   "cell_type": "code",
   "execution_count": 26,
   "id": "74925af0-771a-4ffd-9e7b-cd678c98c01b",
   "metadata": {},
   "outputs": [],
   "source": [
    "Snowball=SnowballStemmer(language='english')"
   ]
  },
  {
   "cell_type": "code",
   "execution_count": 27,
   "id": "bacf4e29-d558-4ea5-83f2-a901ff434723",
   "metadata": {},
   "outputs": [
    {
     "data": {
      "text/plain": [
       "<nltk.stem.snowball.SnowballStemmer at 0x256c2a2e870>"
      ]
     },
     "execution_count": 27,
     "metadata": {},
     "output_type": "execute_result"
    }
   ],
   "source": [
    "Snowball"
   ]
  },
  {
   "cell_type": "code",
   "execution_count": 28,
   "id": "a61fd1eb-ff4b-4f05-935b-bc3c8e60676a",
   "metadata": {},
   "outputs": [
    {
     "name": "stdout",
     "output_type": "stream",
     "text": [
      "<nltk.stem.snowball.SnowballStemmer object at 0x00000256C2A2E870>\n"
     ]
    }
   ],
   "source": [
    "print(Snowball)"
   ]
  },
  {
   "cell_type": "markdown",
   "id": "d5eba34a-dde1-4f51-b9fd-29b838b02773",
   "metadata": {},
   "source": [
    "LEMMATIZATION"
   ]
  },
  {
   "cell_type": "markdown",
   "id": "2a0a1c07-90b5-4e92-9ed7-aa7fd95e7303",
   "metadata": {},
   "source": [
    "THE ROOT WORD IS LEMMA AND ITS meaningfull\n",
    "lets use WordNet Lemmatizer for Lemmatization in nltk\n",
    "WordNet Lemmatizer can be imported from nltk.stem where we used nltk.stem for stemming also"
   ]
  },
  {
   "cell_type": "code",
   "execution_count": 33,
   "id": "a4fe675d-c967-4101-9a24-5da2ae3c3fec",
   "metadata": {},
   "outputs": [],
   "source": [
    "from nltk.stem import WordNetLemmatizer"
   ]
  },
  {
   "cell_type": "markdown",
   "id": "4774a2fa-adc1-4494-8005-4c064a5ba60c",
   "metadata": {},
   "source": [
    "lets instantiate wordnet lemmatizer into lemma object"
   ]
  },
  {
   "cell_type": "code",
   "execution_count": 35,
   "id": "313214a3-40c6-48d9-8007-9448607ec1f8",
   "metadata": {},
   "outputs": [
    {
     "name": "stderr",
     "output_type": "stream",
     "text": [
      "[nltk_data] Downloading package wordnet to\n",
      "[nltk_data]     C:\\Users\\Welcome\\AppData\\Roaming\\nltk_data...\n"
     ]
    },
    {
     "data": {
      "text/plain": [
       "True"
      ]
     },
     "execution_count": 35,
     "metadata": {},
     "output_type": "execute_result"
    }
   ],
   "source": [
    "nltk.download('wordnet')"
   ]
  },
  {
   "cell_type": "code",
   "execution_count": 36,
   "id": "c679fe97-7ac3-4dfb-915d-85e208798350",
   "metadata": {},
   "outputs": [
    {
     "name": "stdout",
     "output_type": "stream",
     "text": [
      "running\n",
      "run\n",
      "ran\n"
     ]
    }
   ],
   "source": [
    "lemma=WordNetLemmatizer()\n",
    "print(lemma.lemmatize('running'))\n",
    "print(lemma.lemmatize('runs'))\n",
    "print(lemma.lemmatize('ran'))\n"
   ]
  },
  {
   "cell_type": "markdown",
   "id": "eb1798e5-e1b8-4329-8fad-6275000d99ac",
   "metadata": {},
   "source": [
    "lemmatization takes much time than stemmer and will take much time when used with lemmatization for large text"
   ]
  },
  {
   "cell_type": "markdown",
   "id": "bfae0a30-7f79-479e-a9bf-44fa023f1fa8",
   "metadata": {},
   "source": [
    "In above we got same base word .this is becox we have not given any context to lemmatizer .so now lets give by pasing POS tags for words in sentence"
   ]
  },
  {
   "cell_type": "code",
   "execution_count": 42,
   "id": "b2528ac3-6d0f-4295-8f08-9c770e5ae0e3",
   "metadata": {},
   "outputs": [
    {
     "name": "stdout",
     "output_type": "stream",
     "text": [
      "run\n",
      "run\n",
      "run\n"
     ]
    }
   ],
   "source": [
    "print(lemma.lemmatize('running',pos='v'))\n",
    "print(lemma.lemmatize('runs',pos='v'))\n",
    "print(lemma.lemmatize('ran',pos='v'))\n"
   ]
  },
  {
   "cell_type": "markdown",
   "id": "66115ffb-ac9c-427e-8db3-c93ed1536fd8",
   "metadata": {},
   "source": [
    "above all gave meaning full words so lemmatization is only used when we need meaningfull words than stemming.if sentence has no meaning then we can use stemming "
   ]
  },
  {
   "cell_type": "markdown",
   "id": "4a5c35dd-7280-4330-ba40-5fc24829d5df",
   "metadata": {},
   "source": [
    "Use stemming for sentence with no meaning"
   ]
  },
  {
   "cell_type": "markdown",
   "id": "1489ecc6-8d9a-4be1-abc1-b0817478edb4",
   "metadata": {},
   "source": [
    "DIFFERENCE BETWEEN STEMMING AND LEMMATIZATION"
   ]
  },
  {
   "cell_type": "markdown",
   "id": "e5be2a87-c563-4529-90f2-461c9a60ea77",
   "metadata": {},
   "source": [
    "STEMMING"
   ]
  },
  {
   "cell_type": "code",
   "execution_count": 44,
   "id": "f9f8f95a-f068-4ce4-98f0-2ee70a866b72",
   "metadata": {},
   "outputs": [
    {
     "name": "stdout",
     "output_type": "stream",
     "text": [
      "stemming for Bring is bring\n",
      "stemming for King is king\n",
      "stemming for Going is go\n",
      "stemming for Anything is anyth\n",
      "stemming for , is ,\n",
      "stemming for Sing is sing\n",
      "stemming for Ring is ring\n",
      "stemming for Nothing is noth\n",
      "stemming for Thing is thing\n"
     ]
    }
   ],
   "source": [
    "import nltk\n",
    "from nltk.stem.porter import PorterStemmer\n",
    "text=\"Bring King Going Anything,Sing Ring Nothing Thing\"\n",
    "porter_stemmer=PorterStemmer()\n",
    "tokenization=nltk.word_tokenize(text)\n",
    "for w in tokenization:\n",
    "    print(\"stemming for {} is {}\".format(w,porter_stemmer.stem(w)))"
   ]
  },
  {
   "cell_type": "markdown",
   "id": "6da11672-e840-4aa8-b91b-ca1a6b00f700",
   "metadata": {},
   "source": [
    "IN ABOVE anyth has no meaning but go root word has meaning"
   ]
  },
  {
   "cell_type": "markdown",
   "id": "4af9b7aa-8786-4286-8b8a-6f55c4f656f3",
   "metadata": {},
   "source": [
    "LEMMATIZATION"
   ]
  },
  {
   "cell_type": "code",
   "execution_count": 45,
   "id": "3bdae2cd-527d-4116-8526-7172c5fa8708",
   "metadata": {},
   "outputs": [
    {
     "name": "stdout",
     "output_type": "stream",
     "text": [
      "lemma for Bring is Bring\n",
      "lemma for King is King\n",
      "lemma for Going is Going\n",
      "lemma for Anything is Anything\n",
      "lemma for , is ,\n",
      "lemma for Sing is Sing\n",
      "lemma for Ring is Ring\n",
      "lemma for Nothing is Nothing\n",
      "lemma for Thing is Thing\n"
     ]
    }
   ],
   "source": [
    "import nltk\n",
    "from nltk.stem import WordNetLemmatizer\n",
    "text=\"Bring King Going Anything,Sing Ring Nothing Thing\"\n",
    "wordnet_lemmatizer=WordNetLemmatizer()\n",
    "tokenization=nltk.word_tokenize(text)\n",
    "for w in tokenization:\n",
    "    print(\"lemma for {} is {}\".format(w,wordnet_lemmatizer.lemmatize(w)))\n"
   ]
  },
  {
   "cell_type": "markdown",
   "id": "ee047ee9-4f77-4ad7-be79-68faf388440e",
   "metadata": {},
   "source": [
    "since anyth doesn't have any meaning so it brings back the root word to its original form anything itself.so it takes more time"
   ]
  },
  {
   "cell_type": "markdown",
   "id": "64b11f6f-745f-4891-996f-e936c9083dca",
   "metadata": {},
   "source": [
    "we use these in NLP to reduce length of words  and at same time we dont want to lose meaning of the word"
   ]
  },
  {
   "cell_type": "code",
   "execution_count": null,
   "id": "cb550de9-f18a-4788-ba28-199995a34b19",
   "metadata": {},
   "outputs": [],
   "source": []
  }
 ],
 "metadata": {
  "kernelspec": {
   "display_name": "Python [conda env:base] *",
   "language": "python",
   "name": "conda-base-py"
  },
  "language_info": {
   "codemirror_mode": {
    "name": "ipython",
    "version": 3
   },
   "file_extension": ".py",
   "mimetype": "text/x-python",
   "name": "python",
   "nbconvert_exporter": "python",
   "pygments_lexer": "ipython3",
   "version": "3.12.7"
  }
 },
 "nbformat": 4,
 "nbformat_minor": 5
}
