{
 "cells": [
  {
   "cell_type": "code",
   "execution_count": 1,
   "id": "3179850f-190d-4c9c-92b3-91ea6b21452b",
   "metadata": {},
   "outputs": [
    {
     "name": "stdout",
     "output_type": "stream",
     "text": [
      "Requirement already satisfied: gensim in c:\\users\\welcome\\anaconda3\\envs\\myenv\\lib\\site-packages (4.3.3)\n",
      "Requirement already satisfied: numpy<2.0,>=1.18.5 in c:\\users\\welcome\\anaconda3\\envs\\myenv\\lib\\site-packages (from gensim) (1.26.4)\n",
      "Requirement already satisfied: scipy<1.14.0,>=1.7.0 in c:\\users\\welcome\\anaconda3\\envs\\myenv\\lib\\site-packages (from gensim) (1.10.1)\n",
      "Requirement already satisfied: smart-open>=1.8.1 in c:\\users\\welcome\\anaconda3\\envs\\myenv\\lib\\site-packages (from gensim) (7.3.0.post1)\n",
      "Requirement already satisfied: wrapt in c:\\users\\welcome\\anaconda3\\envs\\myenv\\lib\\site-packages (from smart-open>=1.8.1->gensim) (1.17.2)\n",
      "Note: you may need to restart the kernel to use updated packages.\n"
     ]
    }
   ],
   "source": [
    "pip install gensim"
   ]
  },
  {
   "cell_type": "code",
   "execution_count": 2,
   "id": "065a341e-c50d-4be3-bcd9-62add2ad6662",
   "metadata": {},
   "outputs": [
    {
     "name": "stdout",
     "output_type": "stream",
     "text": [
      "4.3.3\n"
     ]
    }
   ],
   "source": [
    "import gensim\n",
    "print(gensim.__version__)"
   ]
  },
  {
   "cell_type": "code",
   "execution_count": 3,
   "id": "2b13db52-7358-4b92-8ac2-511d68d3fb90",
   "metadata": {},
   "outputs": [
    {
     "name": "stdout",
     "output_type": "stream",
     "text": [
      "[['data', 'science', 'is', 'an', 'field', 'that', 'uses', 'scientific', 'methods'], ['machine', 'learning', 'allows', 'systems', 'to', 'learn', 'automatically', 'from', 'data'], ['natural', 'language', 'processing', 'helps', 'machines', 'understand', 'human', 'language'], ['deep', 'learning', 'is', 'subset', 'of', 'machine', 'learning', 'based', 'on', 'neural', 'networks'], ['big', 'data', 'technologies', 'handle', 'massive', 'volumes', 'of', 'information', 'efficiently'], []]\n"
     ]
    }
   ],
   "source": [
    "import gensim\n",
    "import os\n",
    "from gensim.utils import simple_preprocess\n",
    "\n",
    "doc = open('sample_data.txt', encoding ='utf-8')\n",
    "tokenized =[]\n",
    "for sentence in doc.read().split('.'):\n",
    "  tokenized.append(simple_preprocess(sentence, deacc = True))\n",
    "print(tokenized)"
   ]
  },
  {
   "cell_type": "code",
   "execution_count": 4,
   "id": "c994fd2a-8002-4674-8905-74eafa7f2f37",
   "metadata": {},
   "outputs": [
    {
     "name": "stdout",
     "output_type": "stream",
     "text": [
      "Dictionary<38 unique tokens: ['an', 'data', 'field', 'is', 'methods']...>\n"
     ]
    }
   ],
   "source": [
    "from gensim import corpora\n",
    "\n",
    "my_dictionary = corpora.Dictionary(tokenized)\n",
    "print(my_dictionary)"
   ]
  },
  {
   "cell_type": "markdown",
   "id": "cf90b229-4e88-4470-8845-fc29d7b0d8b5",
   "metadata": {},
   "source": [
    "word2vec using matrix multiplication to assign vector value to the word as [000100] with [001010]=[101011] whereas tfidf uses tf and idf to assign the vector value."
   ]
  },
  {
   "cell_type": "markdown",
   "id": "ed2b2034-caa1-4e1c-9a3e-fbdf8115fd92",
   "metadata": {},
   "source": [
    "lemmatization is done before tf idf vectorization and count vectorizer method works similarly as term frequency method"
   ]
  },
  {
   "cell_type": "markdown",
   "id": "72de9a24-0d75-4b4e-8ac7-7e4a1ab38abd",
   "metadata": {},
   "source": [
    "\n",
    "for n gram is 1 as [1,1] then result size of vector list will be in same as the no of word.when n gram=[2,2] then size of word vector list will be reduced to -1.when [3,3] then vector size of resultant list willbe reduced to -2."
   ]
  },
  {
   "cell_type": "markdown",
   "id": "7eb55a23-f963-4889-9eeb-e29835854541",
   "metadata": {},
   "source": [
    "basic nlp isl+nlp and deep nlp is dl+ml+nlp.\n",
    "\n",
    "cosine similarity:\n",
    "\n",
    "take three words [[india][beats][newzealand]]this is 1*3 matrix it is a list which contains 1*3 word tokenized.when we apply word2vec it becomes *3 matrix and vectors assigned as india with india as 1 and india with beats as 0.2 so\n",
    "[1 0.2 0.5\n",
    "0.2 1 0.6\n",
    "0.5 0.6 1]\n",
    "this is 3*3 matrixvectors and this is how word2vec works with cosine similarity."
   ]
  },
  {
   "cell_type": "markdown",
   "id": "9649c469-d693-4c27-b7b6-02ee4100703d",
   "metadata": {},
   "source": [
    "note if the lemmatized word is not in deep nlp models such as bert and excelnet model which are large corus of engish dictionary which is already built then the unavailable word in that corpus wont get assigned any vectors."
   ]
  },
  {
   "cell_type": "markdown",
   "id": "fa884583-d5cf-4cd2-9bc3-b1c2b3a9499a",
   "metadata": {},
   "source": [
    "model is an algorithm used for transforming one representation of vector to another vector."
   ]
  },
  {
   "cell_type": "markdown",
   "id": "c0ce2f93-4584-408b-b6b7-2379ef5f72e6",
   "metadata": {},
   "source": [
    "Soft Cosine Measure\n",
    "Demonstrates using Gensim’s implemenation of the SCM.\n",
    "\n",
    "Soft Cosine Measure (SCM) is a promising new tool in machine learning that allows us to submit a query and return the most relevant documents. This tutorial introduces SCM and shows how you can compute the SCM similarities between two documents "
   ]
  },
  {
   "cell_type": "markdown",
   "id": "bd56c015-5c53-483d-a666-0f5386ba7ed1",
   "metadata": {},
   "source": [
    "Soft Cosine Measure basics\n",
    "Soft Cosine Measure (SCM) is a method that allows us to assess the similarity between two documents in a meaningful way, even when they have no words in common. It uses a measure of similarity between words, which can be derived [2] using [word2vec][] [4] vector embeddings of words. It has been shown to outperform many of the state-of-the-art methods in the semantic text similarity task in the context of community question answering"
   ]
  },
  {
   "cell_type": "markdown",
   "id": "7be28f14-d51b-4a1c-9cf6-be26bb4883a7",
   "metadata": {},
   "source": [
    "SCM is illustrated below for two very similar sentences. The sentences have no words in common, but by modeling synonymy, SCM is able to accurately measure the similarity between the two sentences. The method also uses the bag-of-words vector representation of the documents (simply put, the word’s frequencies in the documents). The intution behind the method is that we compute standard cosine similarity assuming that the document vectors are expressed in a non-orthogonal basis, where the angle between two basis vectors is derived from the angle between the word2vec embeddings of the corresponding words."
   ]
  },
  {
   "cell_type": "markdown",
   "id": "14880bc7-a547-4bb8-8b36-827ee055e073",
   "metadata": {},
   "source": [
    "PIL stands for Python Imaging Library — it is a library in Python for opening, manipulating, and saving many different image file formats (like .png, .jpg, .gif, etc.).\n",
    "\n"
   ]
  },
  {
   "cell_type": "markdown",
   "id": "77566e3f-e199-400d-9256-eb68cf677f0c",
   "metadata": {},
   "source": [
    "The original PIL project is no longer maintained.\n",
    "\n",
    "Instead, we use its modern fork called Pillow, which is fully backward compatible with PIL.\n",
    "\n",
    "pip install pillow"
   ]
  },
  {
   "cell_type": "markdown",
   "id": "f988af30-3c3a-42ea-94fc-ecc4a8ff8e46",
   "metadata": {},
   "source": [
    "This method was perhaps first introduced in the article “Soft Measure and Soft Cosine Measure: Measure of Features in Vector Space Model” "
   ]
  },
  {
   "cell_type": "markdown",
   "id": "ae6a0694-3f56-4827-8611-88980de201ae",
   "metadata": {},
   "source": [
    "Let’s take some sentences to compute the distance between."
   ]
  },
  {
   "cell_type": "code",
   "execution_count": 2,
   "id": "80a1e783-a539-422a-9a25-58ff47a66279",
   "metadata": {},
   "outputs": [],
   "source": [
    "# Initialize logging.\n",
    "import logging\n",
    "logging.basicConfig(format='%(asctime)s : %(levelname)s : %(message)s', level=logging.INFO)\n",
    "\n",
    "sentence_obama = 'Obama speaks to the media in Illinois'\n",
    "sentence_president = 'The president greets the press in Chicago'\n",
    "sentence_orange = 'Oranges are my favorite fruit'"
   ]
  },
  {
   "cell_type": "markdown",
   "id": "c1c3d129-9d96-4e5b-bbde-b881f8b9e218",
   "metadata": {},
   "source": [
    "The first two sentences sentences have very similar content, and as such the SCM should be high. By contrast, the third sentence is unrelated to the first two and the SCM should be low.\n",
    "\n",
    "Before we compute the SCM, we want to remove stopwords (“the”, “to”, etc.), as these do not contribute a lot to the information in the sentences."
   ]
  },
  {
   "cell_type": "code",
   "execution_count": 3,
   "id": "f404ecd4-6c57-4319-9ee5-31d493681a46",
   "metadata": {},
   "outputs": [
    {
     "name": "stderr",
     "output_type": "stream",
     "text": [
      "[nltk_data] Downloading package stopwords to\n",
      "[nltk_data]     C:\\Users\\Welcome\\AppData\\Roaming\\nltk_data...\n",
      "[nltk_data]   Package stopwords is already up-to-date!\n"
     ]
    }
   ],
   "source": [
    "# Import and download stopwords from NLTK.\n",
    "from nltk.corpus import stopwords\n",
    "from nltk import download\n",
    "download('stopwords')  # Download stopwords list.\n",
    "stop_words = stopwords.words('english')\n",
    "\n",
    "def preprocess(sentence):\n",
    "    return [w for w in sentence.lower().split() if w not in stop_words]\n",
    "\n",
    "sentence_obama = preprocess(sentence_obama)\n",
    "sentence_president = preprocess(sentence_president)\n",
    "sentence_orange = preprocess(sentence_orange)"
   ]
  },
  {
   "cell_type": "markdown",
   "id": "7ed8522e-ef7d-4f4a-bedf-7bf534fc3fe5",
   "metadata": {},
   "source": [
    "Next, we will build a dictionary and a TF-IDF model, and we will convert the sentences to the bag-of-words format."
   ]
  },
  {
   "cell_type": "code",
   "execution_count": 4,
   "id": "e78ad664-5aef-48d6-af3c-d24f618504e0",
   "metadata": {},
   "outputs": [
    {
     "name": "stderr",
     "output_type": "stream",
     "text": [
      "2025-07-16 12:33:45,117 : INFO : adding document #0 to Dictionary<0 unique tokens: []>\n",
      "2025-07-16 12:33:45,119 : INFO : built Dictionary<11 unique tokens: ['illinois', 'media', 'obama', 'speaks', 'chicago']...> from 3 documents (total 11 corpus positions)\n",
      "2025-07-16 12:33:45,121 : INFO : Dictionary lifecycle event {'msg': \"built Dictionary<11 unique tokens: ['illinois', 'media', 'obama', 'speaks', 'chicago']...> from 3 documents (total 11 corpus positions)\", 'datetime': '2025-07-16T12:33:45.120130', 'gensim': '4.3.3', 'python': '3.10.18 | packaged by conda-forge | (main, Jun  4 2025, 14:42:04) [MSC v.1943 64 bit (AMD64)]', 'platform': 'Windows-10-10.0.26100-SP0', 'event': 'created'}\n",
      "2025-07-16 12:33:45,122 : INFO : collecting document frequencies\n",
      "2025-07-16 12:33:45,123 : INFO : PROGRESS: processing document #0\n",
      "2025-07-16 12:33:45,126 : INFO : TfidfModel lifecycle event {'msg': 'calculated IDF weights for 3 documents and 11 features (11 matrix non-zeros)', 'datetime': '2025-07-16T12:33:45.126448', 'gensim': '4.3.3', 'python': '3.10.18 | packaged by conda-forge | (main, Jun  4 2025, 14:42:04) [MSC v.1943 64 bit (AMD64)]', 'platform': 'Windows-10-10.0.26100-SP0', 'event': 'initialize'}\n"
     ]
    }
   ],
   "source": [
    "from gensim.corpora import Dictionary\n",
    "documents = [sentence_obama, sentence_president, sentence_orange]\n",
    "dictionary = Dictionary(documents)\n",
    "\n",
    "sentence_obama = dictionary.doc2bow(sentence_obama)\n",
    "sentence_president = dictionary.doc2bow(sentence_president)\n",
    "sentence_orange = dictionary.doc2bow(sentence_orange)\n",
    "\n",
    "from gensim.models import TfidfModel\n",
    "documents = [sentence_obama, sentence_president, sentence_orange]\n",
    "tfidf = TfidfModel(documents)\n",
    "\n",
    "sentence_obama = tfidf[sentence_obama]\n",
    "sentence_president = tfidf[sentence_president]\n",
    "sentence_orange = tfidf[sentence_orange]"
   ]
  },
  {
   "cell_type": "markdown",
   "id": "1e888276-feee-4da5-aa1a-ad60e0ffff65",
   "metadata": {},
   "source": [
    "Now, as mentioned earlier, we will be using some downloaded pre-trained embeddings. We load these into a Gensim Word2Vec model class and we build a term similarity mextrix using the embeddings.\n",
    "The embeddings we have chosen here require a lot of memory."
   ]
  },
  {
   "cell_type": "code",
   "execution_count": 5,
   "id": "564c7fa2-5dee-409c-b6f0-b77ffe259402",
   "metadata": {},
   "outputs": [
    {
     "name": "stderr",
     "output_type": "stream",
     "text": [
      "2025-07-16 12:49:46,394 : INFO : loading projection weights from C:\\Users\\Welcome/gensim-data\\word2vec-google-news-300\\word2vec-google-news-300.gz\n",
      "2025-07-16 12:52:08,744 : INFO : KeyedVectors lifecycle event {'msg': 'loaded (3000000, 300) matrix of type float32 from C:\\\\Users\\\\Welcome/gensim-data\\\\word2vec-google-news-300\\\\word2vec-google-news-300.gz', 'binary': True, 'encoding': 'utf8', 'datetime': '2025-07-16T12:52:08.728960', 'gensim': '4.3.3', 'python': '3.10.18 | packaged by conda-forge | (main, Jun  4 2025, 14:42:04) [MSC v.1943 64 bit (AMD64)]', 'platform': 'Windows-10-10.0.26100-SP0', 'event': 'load_word2vec_format'}\n",
      "2025-07-16 12:52:08,837 : INFO : constructing a sparse term similarity matrix using WordEmbeddingSimilarityIndex<keyedvectors=KeyedVectors<vector_size=300, 3000000 keys>, threshold=0.0, exponent=2.0, kwargs={}>\n",
      "2025-07-16 12:52:08,874 : INFO : iterating over 11 columns in tf-idf order\n",
      "100%|██████████| 11/11 [02:14<00:00, 12.25s/it]\n",
      "2025-07-16 12:54:24,793 : INFO : constructed a sparse term similarity matrix with 15.702479% density\n"
     ]
    }
   ],
   "source": [
    "import gensim.downloader as api\n",
    "model = api.load('word2vec-google-news-300')\n",
    "\n",
    "from gensim.similarities import SparseTermSimilarityMatrix, WordEmbeddingSimilarityIndex\n",
    "termsim_index = WordEmbeddingSimilarityIndex(model)\n",
    "termsim_matrix = SparseTermSimilarityMatrix(termsim_index, dictionary, tfidf)"
   ]
  },
  {
   "cell_type": "markdown",
   "id": "62d91923-783a-4a1c-be33-fec1062a0b04",
   "metadata": {},
   "source": [
    "So let’s compute SCM using the inner_product method."
   ]
  },
  {
   "cell_type": "markdown",
   "id": "ac031856-ef80-43b6-a220-8241c45c5bf4",
   "metadata": {},
   "source": [
    "You're building a term similarity matrix using Word2Vec word embeddings (from Google's pre-trained model) and TF-IDF vectors, to calculate semantic similarity between terms in documents.\n",
    "\n",
    "gensim.downloader is a module that allows you to download pre-trained models easily.\n",
    "\n",
    "'word2vec-google-news-300' is a pre-trained Word2Vec model trained on Google News (about 100 billion words).\n",
    "\n",
    "The 300 means each word is represented as a 300-dimensional vector.\n",
    "\n",
    "model is now a KeyedVectors object containing word embeddings.\n",
    "\n",
    "WordEmbeddingSimilarityIndex: wraps the model so it can be used in similarity calculations.\n",
    "\n",
    "SparseTermSimilarityMatrix: creates a matrix of pairwise similarities between all terms in your dictionary.\n",
    "\n",
    "This wraps the Word2Vec model into a format that can calculate similarity between words.\n",
    "\n",
    "You now have a \"word similarity calculator\" (termsim_index) that uses the Word2Vec model under the hood.\n",
    "\n",
    "\n",
    "\n",
    "Here's what's happening:\n",
    "\n",
    "SparseTermSimilarityMatrix(...) creates a term-by-term similarity matrix, where the similarity is semantic (based on Word2Vec), not just raw frequency.\n",
    "\n",
    "Parameters:\n",
    "\n",
    "termsim_index: calculates similarity between any two words using embeddings.\n",
    "\n",
    "dictionary: a gensim.corpora.Dictionary mapping of your vocabulary (e.g., {0: 'apple', 1: 'orange'...}).\n",
    "\n",
    "tfidf: a TfidfModel object (created using gensim.models.TfidfModel(corpus)), needed because it determines which words actually occur in your corpus.\n",
    "\n",
    "\n",
    "The matrix this creates is typically used for soft cosine similarity between documents or terms."
   ]
  },
  {
   "cell_type": "markdown",
   "id": "e6fc36a2-eaee-491f-94c5-12a9811ccafe",
   "metadata": {},
   "source": [
    "model = api.load(...)\tLoads pre-trained word embeddings\n",
    "termsim_index = WordEmbeddingSimilarityIndex(...)\tWraps model to compute word similarities\n",
    "termsim_matrix = SparseTermSimilarityMatrix(...)\tCreates a term similarity matrix using the above and TF-IDF"
   ]
  },
  {
   "cell_type": "code",
   "execution_count": 7,
   "id": "c3044b19-bb3d-40c1-b81d-b522a6ddbbbf",
   "metadata": {},
   "outputs": [
    {
     "name": "stdout",
     "output_type": "stream",
     "text": [
      "similarity = 0.2575\n"
     ]
    }
   ],
   "source": [
    "similarity = termsim_matrix.inner_product(sentence_obama, sentence_president, normalized=(True, True))\n",
    "print('similarity = %.4f' % similarity)"
   ]
  },
  {
   "cell_type": "markdown",
   "id": "abfc2f73-9465-411f-a900-e3a288520306",
   "metadata": {},
   "source": [
    "Let’s try the same thing with two completely unrelated sentences. Notice that the similarity is smaller."
   ]
  },
  {
   "cell_type": "code",
   "execution_count": 8,
   "id": "692671a6-c0bf-4ab0-ba04-a250210ccbee",
   "metadata": {},
   "outputs": [
    {
     "name": "stdout",
     "output_type": "stream",
     "text": [
      "similarity = 0.0000\n"
     ]
    }
   ],
   "source": [
    "similarity = termsim_matrix.inner_product(sentence_obama, sentence_orange, normalized=(True, True))\n",
    "print('similarity = %.4f' % similarity)"
   ]
  },
  {
   "cell_type": "code",
   "execution_count": 9,
   "id": "0047e5cc-2f46-4ce0-b2ce-417437b33095",
   "metadata": {},
   "outputs": [
    {
     "name": "stderr",
     "output_type": "stream",
     "text": [
      "[nltk_data] Downloading package stopwords to\n",
      "[nltk_data]     C:\\Users\\Welcome\\AppData\\Roaming\\nltk_data...\n",
      "[nltk_data]   Package stopwords is already up-to-date!\n"
     ]
    }
   ],
   "source": [
    "# Step 1: Import required libraries\n",
    "import gensim\n",
    "from gensim import corpora\n",
    "from gensim.models import TfidfModel\n",
    "from gensim.similarities import SparseTermSimilarityMatrix, WordEmbeddingSimilarityIndex, SoftCosineSimilarity\n",
    "import gensim.downloader as api\n",
    "import nltk\n",
    "from nltk.corpus import stopwords\n",
    "from gensim.utils import simple_preprocess\n",
    "\n",
    "nltk.download('stopwords')\n",
    "stop_words = set(stopwords.words('english'))\n"
   ]
  },
  {
   "cell_type": "code",
   "execution_count": 10,
   "id": "b8a4f9a9-2bff-477c-b39d-b9258444cea5",
   "metadata": {},
   "outputs": [],
   "source": [
    "# Step 2: Sample corpus\n",
    "documents = [\n",
    "    \"Cats are beautiful animals.\",\n",
    "    \"Dogs are faithful and friendly pets.\",\n",
    "    \"I love my pet cat.\",\n",
    "    \"My dog is the best companion.\",\n",
    "    \"Animals like dogs and cats are very loyal.\"\n",
    "]\n"
   ]
  },
  {
   "cell_type": "code",
   "execution_count": 11,
   "id": "a0fab5cb-24c9-489a-b23b-c606d093a7e2",
   "metadata": {},
   "outputs": [],
   "source": [
    "# Step 3: Preprocess the text (tokenization + stopword removal)\n",
    "def preprocess(doc):\n",
    "    return [word for word in simple_preprocess(doc) if word not in stop_words]\n",
    "\n",
    "corpus_tokenized = [preprocess(doc) for doc in documents]\n"
   ]
  },
  {
   "cell_type": "code",
   "execution_count": 12,
   "id": "f9256678-8447-4a4d-a932-0c45f77b2c05",
   "metadata": {},
   "outputs": [
    {
     "name": "stderr",
     "output_type": "stream",
     "text": [
      "2025-07-16 13:14:29,196 : INFO : adding document #0 to Dictionary<0 unique tokens: []>\n",
      "2025-07-16 13:14:29,199 : INFO : built Dictionary<15 unique tokens: ['animals', 'beautiful', 'cats', 'dogs', 'faithful']...> from 5 documents (total 18 corpus positions)\n",
      "2025-07-16 13:14:29,201 : INFO : Dictionary lifecycle event {'msg': \"built Dictionary<15 unique tokens: ['animals', 'beautiful', 'cats', 'dogs', 'faithful']...> from 5 documents (total 18 corpus positions)\", 'datetime': '2025-07-16T13:14:29.201555', 'gensim': '4.3.3', 'python': '3.10.18 | packaged by conda-forge | (main, Jun  4 2025, 14:42:04) [MSC v.1943 64 bit (AMD64)]', 'platform': 'Windows-10-10.0.26100-SP0', 'event': 'created'}\n",
      "2025-07-16 13:14:29,204 : INFO : collecting document frequencies\n",
      "2025-07-16 13:14:29,209 : INFO : PROGRESS: processing document #0\n",
      "2025-07-16 13:14:29,211 : INFO : TfidfModel lifecycle event {'msg': 'calculated IDF weights for 5 documents and 15 features (18 matrix non-zeros)', 'datetime': '2025-07-16T13:14:29.211778', 'gensim': '4.3.3', 'python': '3.10.18 | packaged by conda-forge | (main, Jun  4 2025, 14:42:04) [MSC v.1943 64 bit (AMD64)]', 'platform': 'Windows-10-10.0.26100-SP0', 'event': 'initialize'}\n"
     ]
    }
   ],
   "source": [
    "# Step 4: Create Dictionary and Corpus\n",
    "dictionary = corpora.Dictionary(corpus_tokenized)\n",
    "bow_corpus = [dictionary.doc2bow(doc) for doc in corpus_tokenized]\n",
    "tfidf = TfidfModel(bow_corpus)\n",
    "tfidf_corpus = [tfidf[doc] for doc in bow_corpus]\n"
   ]
  },
  {
   "cell_type": "code",
   "execution_count": 13,
   "id": "1a8ea718-ec37-48fc-9926-747d45968ad8",
   "metadata": {},
   "outputs": [
    {
     "name": "stderr",
     "output_type": "stream",
     "text": [
      "2025-07-16 13:14:47,637 : INFO : loading projection weights from C:\\Users\\Welcome/gensim-data\\word2vec-google-news-300\\word2vec-google-news-300.gz\n",
      "2025-07-16 13:16:29,308 : INFO : KeyedVectors lifecycle event {'msg': 'loaded (3000000, 300) matrix of type float32 from C:\\\\Users\\\\Welcome/gensim-data\\\\word2vec-google-news-300\\\\word2vec-google-news-300.gz', 'binary': True, 'encoding': 'utf8', 'datetime': '2025-07-16T13:16:29.308587', 'gensim': '4.3.3', 'python': '3.10.18 | packaged by conda-forge | (main, Jun  4 2025, 14:42:04) [MSC v.1943 64 bit (AMD64)]', 'platform': 'Windows-10-10.0.26100-SP0', 'event': 'load_word2vec_format'}\n"
     ]
    }
   ],
   "source": [
    "# Step 5: Load pre-trained word2vec embeddings\n",
    "model = api.load(\"word2vec-google-news-300\")\n"
   ]
  },
  {
   "cell_type": "code",
   "execution_count": 14,
   "id": "519c6f3c-85ab-40ce-9e17-2794cb6eada9",
   "metadata": {},
   "outputs": [
    {
     "name": "stderr",
     "output_type": "stream",
     "text": [
      "2025-07-16 13:20:00,548 : INFO : constructing a sparse term similarity matrix using WordEmbeddingSimilarityIndex<keyedvectors=KeyedVectors<vector_size=300, 3000000 keys>, threshold=0.0, exponent=2.0, kwargs={}>\n",
      "2025-07-16 13:20:00,553 : INFO : iterating over 15 columns in tf-idf order\n",
      "100%|██████████| 15/15 [01:53<00:00,  7.54s/it]\n",
      "2025-07-16 13:21:53,635 : INFO : constructed a sparse term similarity matrix with 25.333333% density\n"
     ]
    }
   ],
   "source": [
    "# Step 6: Create term similarity matrix\n",
    "termsim_index = WordEmbeddingSimilarityIndex(model)\n",
    "termsim_matrix = SparseTermSimilarityMatrix(termsim_index, dictionary, tfidf)\n"
   ]
  },
  {
   "cell_type": "code",
   "execution_count": 15,
   "id": "9de3a767-ef33-49fb-8a40-c4f526e54ae9",
   "metadata": {},
   "outputs": [],
   "source": [
    "# Step 7: Build soft cosine similarity index\n",
    "similarity_index = SoftCosineSimilarity(tfidf_corpus, termsim_matrix)\n"
   ]
  },
  {
   "cell_type": "code",
   "execution_count": 16,
   "id": "fd9258b4-e9c4-4f59-8621-6b6ad9ff83c7",
   "metadata": {},
   "outputs": [],
   "source": [
    "# Step 8: Compare a new query with all documents\n",
    "query = \"My pet is loyal and friendly\"\n",
    "query_tokens = preprocess(query)\n",
    "query_bow = dictionary.doc2bow(query_tokens)\n",
    "query_tfidf = tfidf[query_bow]\n",
    "\n",
    "similarities = similarity_index[query_tfidf]\n",
    "#comparing similarity between new document and already created document"
   ]
  },
  {
   "cell_type": "code",
   "execution_count": 17,
   "id": "01e63ed5-5c57-43d3-9c87-ebed4146a710",
   "metadata": {},
   "outputs": [
    {
     "name": "stdout",
     "output_type": "stream",
     "text": [
      "Similarity with Document 1: 0.2602\n",
      "Similarity with Document 2: 0.6050\n",
      "Similarity with Document 3: 0.4958\n",
      "Similarity with Document 4: 0.2964\n",
      "Similarity with Document 5: 0.5550\n"
     ]
    }
   ],
   "source": [
    "# Step 9: Display similarity results\n",
    "for i, score in enumerate(similarities):\n",
    "    print(f\"Similarity with Document {i+1}: {score:.4f}\")\n"
   ]
  },
  {
   "cell_type": "markdown",
   "id": "16cbea81-be8e-481c-a607-589145cb9d4a",
   "metadata": {},
   "source": [
    "These scores indicate how semantically similar your query is to each document, even when words aren’t exactly the same (e.g., \"loyal\" and \"faithful\").\n",
    "\n"
   ]
  },
  {
   "cell_type": "markdown",
   "id": "03a177e4-9f60-4b8c-aa6d-52842dc341d0",
   "metadata": {},
   "source": [
    "Let me know if you want to:\n",
    "\n",
    "Visualize the similarities\n",
    "\n",
    "Use your own documents\n",
    "\n",
    "Save the model and matrix\n",
    "\n",
    "Use a lighter Word2Vec model (to save memory)"
   ]
  },
  {
   "cell_type": "markdown",
   "id": "3e58c444-f4bc-47a6-8586-6971ea0b998d",
   "metadata": {},
   "source": [
    "1. Use your own documents\n",
    "Replace the sample documents list with your own texts:\n",
    "\n"
   ]
  },
  {
   "cell_type": "code",
   "execution_count": 18,
   "id": "797a271a-d9bd-4bab-9d42-c25d0f448473",
   "metadata": {},
   "outputs": [],
   "source": [
    "documents = [\n",
    "    \"Your first document goes here.\",\n",
    "    \"Another one with different content.\",\n",
    "    \"Add as many documents as needed.\"\n",
    "]\n"
   ]
  },
  {
   "cell_type": "markdown",
   "id": "a7830f4f-2f66-4327-bbd2-cc4ded99e0e5",
   "metadata": {},
   "source": [
    "2. Save the TF-IDF model and Dictionary\n",
    "You can save and reload the TF-IDF model and dictionary like this:"
   ]
  },
  {
   "cell_type": "code",
   "execution_count": 19,
   "id": "138eaeab-41af-40b9-a53f-bf501da3e2a0",
   "metadata": {},
   "outputs": [
    {
     "name": "stderr",
     "output_type": "stream",
     "text": [
      "2025-07-16 13:36:40,134 : INFO : Dictionary lifecycle event {'fname_or_handle': 'my_dictionary.dict', 'separately': 'None', 'sep_limit': 10485760, 'ignore': frozenset(), 'datetime': '2025-07-16T13:36:40.134013', 'gensim': '4.3.3', 'python': '3.10.18 | packaged by conda-forge | (main, Jun  4 2025, 14:42:04) [MSC v.1943 64 bit (AMD64)]', 'platform': 'Windows-10-10.0.26100-SP0', 'event': 'saving'}\n",
      "2025-07-16 13:36:40,155 : INFO : saved my_dictionary.dict\n",
      "2025-07-16 13:36:40,156 : INFO : TfidfModel lifecycle event {'fname_or_handle': 'my_tfidf_model.tfidf', 'separately': 'None', 'sep_limit': 10485760, 'ignore': frozenset(), 'datetime': '2025-07-16T13:36:40.156631', 'gensim': '4.3.3', 'python': '3.10.18 | packaged by conda-forge | (main, Jun  4 2025, 14:42:04) [MSC v.1943 64 bit (AMD64)]', 'platform': 'Windows-10-10.0.26100-SP0', 'event': 'saving'}\n",
      "2025-07-16 13:36:40,164 : INFO : saved my_tfidf_model.tfidf\n"
     ]
    }
   ],
   "source": [
    "# Save\n",
    "dictionary.save('my_dictionary.dict')\n",
    "tfidf.save('my_tfidf_model.tfidf')\n",
    "\n",
    "# Load later\n",
    "# from gensim import corpora, models\n",
    "# dictionary = corpora.Dictionary.load('my_dictionary.dict')\n",
    "# tfidf = models.TfidfModel.load('my_tfidf_model.tfidf')\n"
   ]
  },
  {
   "cell_type": "markdown",
   "id": "2989ede7-782b-44a4-bf2d-9de00a6a4bbc",
   "metadata": {},
   "source": [
    "Save the Word2Vec model index (optional – very large!)\n",
    "Note: word2vec-google-news-300 is ~1.5GB and cannot be saved via model.save() if loaded from Gensim API directly.\n",
    "\n",
    "If you want a lighter model, see step 5 below."
   ]
  },
  {
   "cell_type": "markdown",
   "id": "50497719-877b-4f04-a6c1-a18d3e9158d8",
   "metadata": {},
   "source": [
    "Visualize similarity matrix with heatmap\n",
    "Refer tfidf_corpus in above code"
   ]
  },
  {
   "cell_type": "code",
   "execution_count": 20,
   "id": "75c5041f-dd20-4688-815b-6eb4c1c77c81",
   "metadata": {},
   "outputs": [
    {
     "data": {
      "image/png": "[encoded data removed]",
      "text/plain": [
       "<Figure size 800x600 with 2 Axes>"
      ]
     },
     "metadata": {},
     "output_type": "display_data"
    }
   ],
   "source": [
    "import seaborn as sns\n",
    "import matplotlib.pyplot as plt\n",
    "import numpy as np\n",
    "\n",
    "# Similarity matrix\n",
    "sim_matrix = []\n",
    "for doc_tfidf in tfidf_corpus:\n",
    "    row = similarity_index[doc_tfidf]\n",
    "    sim_matrix.append(row)\n",
    "\n",
    "# Convert to NumPy array\n",
    "sim_matrix = np.array(sim_matrix)\n",
    "\n",
    "# Plot\n",
    "plt.figure(figsize=(8,6))\n",
    "sns.heatmap(sim_matrix, annot=True, cmap=\"YlGnBu\", xticklabels=[f'Doc {i+1}' for i in range(len(documents))],\n",
    "            yticklabels=[f'Doc {i+1}' for i in range(len(documents))])\n",
    "plt.title(\"Soft Cosine Similarity Between Documents\")\n",
    "plt.show()\n"
   ]
  },
  {
   "cell_type": "markdown",
   "id": "8ed63e6d-084f-4fc2-8213-fca30d54e2be",
   "metadata": {},
   "source": [
    "Use a lighter Word2Vec model\n",
    "Instead of word2vec-google-news-300, try:"
   ]
  },
  {
   "cell_type": "code",
   "execution_count": 21,
   "id": "18b89eb7-3d5e-4d7b-be19-ed8611144d9c",
   "metadata": {},
   "outputs": [
    {
     "name": "stdout",
     "output_type": "stream",
     "text": [
      "[==================--------------------------------] 37.6% 48.1/128.1MB downloaded"
     ]
    },
    {
     "name": "stderr",
     "output_type": "stream",
     "text": [
      "IOPub message rate exceeded.\n",
      "The Jupyter server will temporarily stop sending output\n",
      "to the client in order to avoid crashing it.\n",
      "To change this limit, set the config variable\n",
      "`--ServerApp.iopub_msg_rate_limit`.\n",
      "\n",
      "Current values:\n",
      "ServerApp.iopub_msg_rate_limit=1000.0 (msgs/sec)\n",
      "ServerApp.rate_limit_window=3.0 (secs)\n",
      "\n"
     ]
    },
    {
     "name": "stdout",
     "output_type": "stream",
     "text": [
      "[=============================---------------------] 59.8% 76.6/128.1MB downloaded"
     ]
    },
    {
     "name": "stderr",
     "output_type": "stream",
     "text": [
      "IOPub message rate exceeded.\n",
      "The Jupyter server will temporarily stop sending output\n",
      "to the client in order to avoid crashing it.\n",
      "To change this limit, set the config variable\n",
      "`--ServerApp.iopub_msg_rate_limit`.\n",
      "\n",
      "Current values:\n",
      "ServerApp.iopub_msg_rate_limit=1000.0 (msgs/sec)\n",
      "ServerApp.rate_limit_window=3.0 (secs)\n",
      "\n"
     ]
    },
    {
     "name": "stdout",
     "output_type": "stream",
     "text": [
      "[==========================================--------] 85.3% 109.3/128.1MB downloaded"
     ]
    },
    {
     "name": "stderr",
     "output_type": "stream",
     "text": [
      "IOPub message rate exceeded.\n",
      "The Jupyter server will temporarily stop sending output\n",
      "to the client in order to avoid crashing it.\n",
      "To change this limit, set the config variable\n",
      "`--ServerApp.iopub_msg_rate_limit`.\n",
      "\n",
      "Current values:\n",
      "ServerApp.iopub_msg_rate_limit=1000.0 (msgs/sec)\n",
      "ServerApp.rate_limit_window=3.0 (secs)\n",
      "\n"
     ]
    },
    {
     "name": "stdout",
     "output_type": "stream",
     "text": [
      "[==================================================] 100.0% 128.1/128.1MB downloaded\n"
     ]
    },
    {
     "name": "stderr",
     "output_type": "stream",
     "text": [
      "2025-07-16 14:13:58,469 : INFO : glove-wiki-gigaword-100 downloaded\n",
      "2025-07-16 14:13:58,519 : INFO : loading projection weights from C:\\Users\\Welcome/gensim-data\\glove-wiki-gigaword-100\\glove-wiki-gigaword-100.gz\n",
      "2025-07-16 14:14:30,391 : INFO : KeyedVectors lifecycle event {'msg': 'loaded (400000, 100) matrix of type float32 from C:\\\\Users\\\\Welcome/gensim-data\\\\glove-wiki-gigaword-100\\\\glove-wiki-gigaword-100.gz', 'binary': False, 'encoding': 'utf8', 'datetime': '2025-07-16T14:14:30.391873', 'gensim': '4.3.3', 'python': '3.10.18 | packaged by conda-forge | (main, Jun  4 2025, 14:42:04) [MSC v.1943 64 bit (AMD64)]', 'platform': 'Windows-10-10.0.26100-SP0', 'event': 'load_word2vec_format'}\n"
     ]
    }
   ],
   "source": [
    "model = api.load(\"glove-wiki-gigaword-100\")\n"
   ]
  },
  {
   "cell_type": "markdown",
   "id": "d5b13dca-6ea0-411a-837a-6fee8fae3f87",
   "metadata": {},
   "source": [
    "It’s much smaller (~128MB) and faster.\n",
    "\n"
   ]
  },
  {
   "cell_type": "markdown",
   "id": "b28602b1-39fc-4094-a10d-baa7602d2fa9",
   "metadata": {},
   "source": [
    "Save SoftCosine index (optional)"
   ]
  },
  {
   "cell_type": "code",
   "execution_count": 22,
   "id": "3a879242-2a85-44fc-9c90-a5883dde6360",
   "metadata": {},
   "outputs": [
    {
     "name": "stderr",
     "output_type": "stream",
     "text": [
      "2025-07-16 14:18:04,951 : INFO : SoftCosineSimilarity lifecycle event {'fname_or_handle': 'soft_cosine_index.index', 'separately': 'None', 'sep_limit': 10485760, 'ignore': frozenset(), 'datetime': '2025-07-16T14:18:04.951638', 'gensim': '4.3.3', 'python': '3.10.18 | packaged by conda-forge | (main, Jun  4 2025, 14:42:04) [MSC v.1943 64 bit (AMD64)]', 'platform': 'Windows-10-10.0.26100-SP0', 'event': 'saving'}\n",
      "2025-07-16 14:18:04,953 : INFO : saved soft_cosine_index.index\n"
     ]
    }
   ],
   "source": [
    "from gensim.similarities import Similarity\n",
    "\n",
    "# Use Similarity class (works with normal cosine, not soft cosine) if saving\n",
    "similarity_index.save('soft_cosine_index.index')\n",
    "\n",
    "# Load it later\n",
    "# similarity_index = Similarity.load('soft_cosine_index.index')\n"
   ]
  },
  {
   "cell_type": "markdown",
   "id": "3a745b60-27cb-4185-b9a0-dfc46400322c",
   "metadata": {},
   "source": [
    "Unfortunately, Gensim doesn't yet support saving the full SoftCosineSimilarity object directly."
   ]
  },
  {
   "cell_type": "code",
   "execution_count": null,
   "id": "fd6ace64-47fc-473b-9182-7441ac54ddaa",
   "metadata": {},
   "outputs": [],
   "source": []
  }
 ],
 "metadata": {
  "kernelspec": {
   "display_name": "Python [conda env:myenv]",
   "language": "python",
   "name": "conda-env-myenv-py"
  },
  "language_info": {
   "codemirror_mode": {
    "name": "ipython",
    "version": 3
   },
   "file_extension": ".py",
   "mimetype": "text/x-python",
   "name": "python",
   "nbconvert_exporter": "python",
   "pygments_lexer": "ipython3",
   "version": "3.10.18"
  }
 },
 "nbformat": 4,
 "nbformat_minor": 5
}
