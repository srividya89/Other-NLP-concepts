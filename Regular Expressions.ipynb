{
 "cells": [
  {
   "attachments": {},
   "cell_type": "markdown",
   "id": "138c56e7-edf9-4182-b25b-a9b55e8d58d1",
   "metadata": {},
   "source": [
    "Regular Expressions:\n",
    "\n",
    "Even though regular expressions doesn’t give any meaning,whenever we process NLP we always try to remove Regular Expressions,because they don’t carry any value.\n",
    "\n",
    "Tools available with respect to regular expressions are,\n",
    "Regexp_tokenize() and its is available in nltk.\n",
    "And many more tools like this also available for Regular Expression.\n",
    "\n",
    "Usually sentence has caps ,small letters,numbers,$,#,:,.,symbols etc.,\n",
    "\n"
   ]
  },
  {
   "cell_type": "markdown",
   "id": "80e0ac07-7cc7-4ba7-8d94-4c9a000062af",
   "metadata": {},
   "source": [
    "Regular Expression Tokenization and Filtering:"
   ]
  },
  {
   "cell_type": "code",
   "execution_count": 5,
   "id": "ff021b60-624a-4c33-92aa-e3a4022e30d9",
   "metadata": {},
   "outputs": [],
   "source": [
    "import nltk"
   ]
  },
  {
   "cell_type": "code",
   "execution_count": 6,
   "id": "78fbe04c-e236-44b7-9b1f-8817aca91735",
   "metadata": {},
   "outputs": [
    {
     "name": "stderr",
     "output_type": "stream",
     "text": [
      "[nltk_data] Downloading package punkt to\n",
      "[nltk_data]     C:\\Users\\Welcome\\AppData\\Roaming\\nltk_data...\n",
      "[nltk_data]   Package punkt is already up-to-date!\n"
     ]
    },
    {
     "data": {
      "text/plain": [
       "True"
      ]
     },
     "execution_count": 6,
     "metadata": {},
     "output_type": "execute_result"
    }
   ],
   "source": [
    "# Download the necessary NLTK data\n",
    "nltk.download('punkt')"
   ]
  },
  {
   "cell_type": "code",
   "execution_count": 9,
   "id": "069b16de-0e5d-4022-ae35-a5e80ea4f44b",
   "metadata": {},
   "outputs": [],
   "source": [
    "text =\"In America, says the encyclopedia libertarian (from which most of these figures are taken), there were only five sadists of importance in 1913, and now (1930) there are thirty\""
   ]
  },
  {
   "cell_type": "code",
   "execution_count": 16,
   "id": "1d014250-a422-4bed-82f6-9d53543afdd1",
   "metadata": {},
   "outputs": [],
   "source": [
    "from nltk.tokenize import regexp_tokenize"
   ]
  },
  {
   "cell_type": "code",
   "execution_count": 20,
   "id": "c7093455-7ee8-4e99-963c-7895f2a0e323",
   "metadata": {},
   "outputs": [
    {
     "data": {
      "text/plain": [
       "['n',\n",
       " 'merica',\n",
       " 'says',\n",
       " 'the',\n",
       " 'encyclopedia',\n",
       " 'libertarian',\n",
       " 'from',\n",
       " 'which',\n",
       " 'most',\n",
       " 'of',\n",
       " 'these',\n",
       " 'figures',\n",
       " 'are',\n",
       " 'taken',\n",
       " 'there',\n",
       " 'were',\n",
       " 'only',\n",
       " 'five',\n",
       " 'sadists',\n",
       " 'of',\n",
       " 'importance',\n",
       " 'in',\n",
       " 'and',\n",
       " 'now',\n",
       " 'there',\n",
       " 'are',\n",
       " 'thirty']"
      ]
     },
     "execution_count": 20,
     "metadata": {},
     "output_type": "execute_result"
    }
   ],
   "source": [
    "# Filter to include only lowercase letters a–z:\n",
    "regexp_tokenize(text,'[a-z]+')"
   ]
  },
  {
   "cell_type": "code",
   "execution_count": null,
   "id": "b596a9c1-4513-4cf9-a557-247913119b02",
   "metadata": {},
   "outputs": [],
   "source": [
    "#here – makes sure it starts with small ‘a’ and ends with’z’ and whatever character comes between ‘a’ to ‘z’."
   ]
  },
  {
   "cell_type": "code",
   "execution_count": null,
   "id": "db4fcf01-7bc2-4e91-94a8-840a39c0e118",
   "metadata": {},
   "outputs": [],
   "source": []
  }
 ],
 "metadata": {
  "kernelspec": {
   "display_name": "Python [conda env:base] *",
   "language": "python",
   "name": "conda-base-py"
  },
  "language_info": {
   "codemirror_mode": {
    "name": "ipython",
    "version": 3
   },
   "file_extension": ".py",
   "mimetype": "text/x-python",
   "name": "python",
   "nbconvert_exporter": "python",
   "pygments_lexer": "ipython3",
   "version": "3.12.7"
  }
 },
 "nbformat": 4,
 "nbformat_minor": 5
}
