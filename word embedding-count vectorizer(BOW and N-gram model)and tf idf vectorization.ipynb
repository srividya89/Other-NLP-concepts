{
 "cells": [
  {
   "cell_type": "markdown",
   "id": "46fd68ad-c1ca-43b3-b1d3-4ea98970b57c",
   "metadata": {},
   "source": [
    "countvectorizer,machine only understands vector it will not understand word,count vectorizer gives frequency of the words depends on frequency count.\n",
    "count vectorizer returns freq of word in given sentence,depends on freq count it assigns vector to the words.it returns only descrete value and not float value."
   ]
  },
  {
   "cell_type": "markdown",
   "id": "38f5f9dc-2e00-4262-bfec-3292e082d65a",
   "metadata": {},
   "source": [
    "Tf IDF vectorizer gives values for the words in the range of [00-1.0]After assigned the numbers using count vectorization .lets apply log transformation on these numbers as log of 1 and log of 2then all values of vector will be in range of [0.0-1.0] since also freq count of words will be less.these are float valuesnot discrete so its tf idf "
   ]
  },
  {
   "cell_type": "markdown",
   "id": "6dd48252-e388-4554-9084-a03a1d838d4a",
   "metadata": {},
   "source": [
    "hence tf idf using anti log transformation on freq count value"
   ]
  },
  {
   "cell_type": "markdown",
   "id": "4d57d343-8fa7-4b03-bae2-61690b4ec19a",
   "metadata": {},
   "source": [
    "if model accuracy is low for nlp do proper preprocessing so it will have good correlation of vectors with the target column.usually multinomial and gausianNB works well for NLP and  gives best results"
   ]
  },
  {
   "cell_type": "markdown",
   "id": "90dacb3c-00f2-4479-883b-c0d203316b8c",
   "metadata": {},
   "source": [
    "COUNT VECTORIZATION HAS BAG OF WORD MODEL AND N-GRAM MODEL"
   ]
  },
  {
   "cell_type": "markdown",
   "id": "d9d6ed74-5b05-4009-a663-ae1d2ee0e6fe",
   "metadata": {},
   "source": [
    "machine understands only integers or discreete numbers as vector values.BOW has words with no meaning necessarilyBOW will store freq of words from the text given.so convert text into BOW.Then its called count vectorization becoz e.g it knows how many times 'india' ocurs in sentence given"
   ]
  },
  {
   "cell_type": "markdown",
   "id": "05236ead-6aa7-48ef-a259-17276863836e",
   "metadata": {},
   "source": [
    "vectors of words will be stored in BOW model."
   ]
  },
  {
   "cell_type": "markdown",
   "id": "6d851ab4-c45c-4b4f-b45c-18c175b51c78",
   "metadata": {},
   "source": [
    "stop words occurs more freq and its freq count is high since we need only important features so we use tf idf than count vectorizaton"
   ]
  },
  {
   "cell_type": "markdown",
   "id": "2480625a-8dd9-4137-bfb7-c826b35e42b0",
   "metadata": {},
   "source": [
    "count vectorization doesnt store seq context of sentence and grammaer meaning .In that case we use ngram model tokeep seq of context of senetence of words intact.\n",
    "n=1 unigram\n",
    "n=2 bigram\n",
    "n=3 trigram"
   ]
  },
  {
   "cell_type": "markdown",
   "id": "76465e71-5462-42e0-9ab7-5f324c1c2de5",
   "metadata": {},
   "source": [
    "In bi gram two words= 1-gram\n",
    "In tri gram three words =3-gram"
   ]
  },
  {
   "cell_type": "markdown",
   "id": "0d916259-cbf3-4c51-b480-04e17af8200a",
   "metadata": {},
   "source": [
    "e.g suggestion box in google.it is a trigram where model trained on this data more no.of times.so for we may use 1 gram model as n gram model."
   ]
  },
  {
   "cell_type": "markdown",
   "id": "1a8a2c5a-f266-43a9-b1fa-13f928c639d5",
   "metadata": {},
   "source": [
    "skip grams need not have context in same order and some words can be skipped see e.g in web"
   ]
  },
  {
   "cell_type": "markdown",
   "id": "cb63fa5a-9847-416f-9be1-a15ad388423f",
   "metadata": {},
   "source": [
    "COUNT VECTORIZATION-BOW MODEL"
   ]
  },
  {
   "cell_type": "code",
   "execution_count": 20,
   "id": "66559c32-1eb8-4d99-916f-d0ea909d9021",
   "metadata": {},
   "outputs": [],
   "source": [
    "from sklearn.feature_extraction.text import CountVectorizer"
   ]
  },
  {
   "cell_type": "code",
   "execution_count": 21,
   "id": "37855b3e-ea82-4401-a363-19325e598788",
   "metadata": {},
   "outputs": [],
   "source": [
    "import nltk\n",
    "from nltk.corpus import stopwords"
   ]
  },
  {
   "cell_type": "code",
   "execution_count": 22,
   "id": "df690716-b3d5-4ff0-b03f-9e9b7a93935b",
   "metadata": {},
   "outputs": [],
   "source": [
    "import pandas as pd"
   ]
  },
  {
   "cell_type": "code",
   "execution_count": 23,
   "id": "68a1250e-3dd0-4d28-af75-dd9e5e65e43c",
   "metadata": {},
   "outputs": [],
   "source": [
    "string=[\"This is an example of BOW!\"]"
   ]
  },
  {
   "cell_type": "code",
   "execution_count": 24,
   "id": "299ab635-207b-45b0-a40a-f3fd169cf520",
   "metadata": {},
   "outputs": [
    {
     "name": "stdout",
     "output_type": "stream",
     "text": [
      "BOW: ['an' 'bow' 'example' 'is' 'of' 'this']\n"
     ]
    }
   ],
   "source": [
    "vect1=CountVectorizer()\n",
    "vect1.fit_transform(string)\n",
    "print(\"BOW:\",vect1.get_feature_names_out())\n"
   ]
  },
  {
   "cell_type": "code",
   "execution_count": 25,
   "id": "07e0acfd-a959-4d9b-8f8b-4e79dfc1c234",
   "metadata": {},
   "outputs": [
    {
     "data": {
      "text/plain": [
       "{'this': 5, 'is': 3, 'an': 0, 'example': 2, 'of': 4, 'bow': 1}"
      ]
     },
     "execution_count": 25,
     "metadata": {},
     "output_type": "execute_result"
    }
   ],
   "source": [
    "vect1.vocabulary_"
   ]
  },
  {
   "cell_type": "markdown",
   "id": "4578b63e-73b1-48ae-b0ba-9988a2c3e692",
   "metadata": {},
   "source": [
    "vocabulary_ gives index of the words above in the sentence"
   ]
  },
  {
   "cell_type": "code",
   "execution_count": 26,
   "id": "7135f5bd-8bb8-4bf1-acee-147a436c26d8",
   "metadata": {},
   "outputs": [
    {
     "data": {
      "text/html": [
       "<style>#sk-container-id-1 {\n",
       "  /* Definition of color scheme common for light and dark mode */\n",
       "  --sklearn-color-text: black;\n",
       "  --sklearn-color-line: gray;\n",
       "  /* Definition of color scheme for unfitted estimators */\n",
       "  --sklearn-color-unfitted-level-0: #fff5e6;\n",
       "  --sklearn-color-unfitted-level-1: #f6e4d2;\n",
       "  --sklearn-color-unfitted-level-2: #ffe0b3;\n",
       "  --sklearn-color-unfitted-level-3: chocolate;\n",
       "  /* Definition of color scheme for fitted estimators */\n",
       "  --sklearn-color-fitted-level-0: #f0f8ff;\n",
       "  --sklearn-color-fitted-level-1: #d4ebff;\n",
       "  --sklearn-color-fitted-level-2: #b3dbfd;\n",
       "  --sklearn-color-fitted-level-3: cornflowerblue;\n",
       "\n",
       "  /* Specific color for light theme */\n",
       "  --sklearn-color-text-on-default-background: var(--sg-text-color, var(--theme-code-foreground, var(--jp-content-font-color1, black)));\n",
       "  --sklearn-color-background: var(--sg-background-color, var(--theme-background, var(--jp-layout-color0, white)));\n",
       "  --sklearn-color-border-box: var(--sg-text-color, var(--theme-code-foreground, var(--jp-content-font-color1, black)));\n",
       "  --sklearn-color-icon: #696969;\n",
       "\n",
       "  @media (prefers-color-scheme: dark) {\n",
       "    /* Redefinition of color scheme for dark theme */\n",
       "    --sklearn-color-text-on-default-background: var(--sg-text-color, var(--theme-code-foreground, var(--jp-content-font-color1, white)));\n",
       "    --sklearn-color-background: var(--sg-background-color, var(--theme-background, var(--jp-layout-color0, #111)));\n",
       "    --sklearn-color-border-box: var(--sg-text-color, var(--theme-code-foreground, var(--jp-content-font-color1, white)));\n",
       "    --sklearn-color-icon: #878787;\n",
       "  }\n",
       "}\n",
       "\n",
       "#sk-container-id-1 {\n",
       "  color: var(--sklearn-color-text);\n",
       "}\n",
       "\n",
       "#sk-container-id-1 pre {\n",
       "  padding: 0;\n",
       "}\n",
       "\n",
       "#sk-container-id-1 input.sk-hidden--visually {\n",
       "  border: 0;\n",
       "  clip: rect(1px 1px 1px 1px);\n",
       "  clip: rect(1px, 1px, 1px, 1px);\n",
       "  height: 1px;\n",
       "  margin: -1px;\n",
       "  overflow: hidden;\n",
       "  padding: 0;\n",
       "  position: absolute;\n",
       "  width: 1px;\n",
       "}\n",
       "\n",
       "#sk-container-id-1 div.sk-dashed-wrapped {\n",
       "  border: 1px dashed var(--sklearn-color-line);\n",
       "  margin: 0 0.4em 0.5em 0.4em;\n",
       "  box-sizing: border-box;\n",
       "  padding-bottom: 0.4em;\n",
       "  background-color: var(--sklearn-color-background);\n",
       "}\n",
       "\n",
       "#sk-container-id-1 div.sk-container {\n",
       "  /* jupyter's `normalize.less` sets `[hidden] { display: none; }`\n",
       "     but bootstrap.min.css set `[hidden] { display: none !important; }`\n",
       "     so we also need the `!important` here to be able to override the\n",
       "     default hidden behavior on the sphinx rendered scikit-learn.org.\n",
       "     See: https://github.com/scikit-learn/scikit-learn/issues/21755 */\n",
       "  display: inline-block !important;\n",
       "  position: relative;\n",
       "}\n",
       "\n",
       "#sk-container-id-1 div.sk-text-repr-fallback {\n",
       "  display: none;\n",
       "}\n",
       "\n",
       "div.sk-parallel-item,\n",
       "div.sk-serial,\n",
       "div.sk-item {\n",
       "  /* draw centered vertical line to link estimators */\n",
       "  background-image: linear-gradient(var(--sklearn-color-text-on-default-background), var(--sklearn-color-text-on-default-background));\n",
       "  background-size: 2px 100%;\n",
       "  background-repeat: no-repeat;\n",
       "  background-position: center center;\n",
       "}\n",
       "\n",
       "/* Parallel-specific style estimator block */\n",
       "\n",
       "#sk-container-id-1 div.sk-parallel-item::after {\n",
       "  content: \"\";\n",
       "  width: 100%;\n",
       "  border-bottom: 2px solid var(--sklearn-color-text-on-default-background);\n",
       "  flex-grow: 1;\n",
       "}\n",
       "\n",
       "#sk-container-id-1 div.sk-parallel {\n",
       "  display: flex;\n",
       "  align-items: stretch;\n",
       "  justify-content: center;\n",
       "  background-color: var(--sklearn-color-background);\n",
       "  position: relative;\n",
       "}\n",
       "\n",
       "#sk-container-id-1 div.sk-parallel-item {\n",
       "  display: flex;\n",
       "  flex-direction: column;\n",
       "}\n",
       "\n",
       "#sk-container-id-1 div.sk-parallel-item:first-child::after {\n",
       "  align-self: flex-end;\n",
       "  width: 50%;\n",
       "}\n",
       "\n",
       "#sk-container-id-1 div.sk-parallel-item:last-child::after {\n",
       "  align-self: flex-start;\n",
       "  width: 50%;\n",
       "}\n",
       "\n",
       "#sk-container-id-1 div.sk-parallel-item:only-child::after {\n",
       "  width: 0;\n",
       "}\n",
       "\n",
       "/* Serial-specific style estimator block */\n",
       "\n",
       "#sk-container-id-1 div.sk-serial {\n",
       "  display: flex;\n",
       "  flex-direction: column;\n",
       "  align-items: center;\n",
       "  background-color: var(--sklearn-color-background);\n",
       "  padding-right: 1em;\n",
       "  padding-left: 1em;\n",
       "}\n",
       "\n",
       "\n",
       "/* Toggleable style: style used for estimator/Pipeline/ColumnTransformer box that is\n",
       "clickable and can be expanded/collapsed.\n",
       "- Pipeline and ColumnTransformer use this feature and define the default style\n",
       "- Estimators will overwrite some part of the style using the `sk-estimator` class\n",
       "*/\n",
       "\n",
       "/* Pipeline and ColumnTransformer style (default) */\n",
       "\n",
       "#sk-container-id-1 div.sk-toggleable {\n",
       "  /* Default theme specific background. It is overwritten whether we have a\n",
       "  specific estimator or a Pipeline/ColumnTransformer */\n",
       "  background-color: var(--sklearn-color-background);\n",
       "}\n",
       "\n",
       "/* Toggleable label */\n",
       "#sk-container-id-1 label.sk-toggleable__label {\n",
       "  cursor: pointer;\n",
       "  display: block;\n",
       "  width: 100%;\n",
       "  margin-bottom: 0;\n",
       "  padding: 0.5em;\n",
       "  box-sizing: border-box;\n",
       "  text-align: center;\n",
       "}\n",
       "\n",
       "#sk-container-id-1 label.sk-toggleable__label-arrow:before {\n",
       "  /* Arrow on the left of the label */\n",
       "  content: \"▸\";\n",
       "  float: left;\n",
       "  margin-right: 0.25em;\n",
       "  color: var(--sklearn-color-icon);\n",
       "}\n",
       "\n",
       "#sk-container-id-1 label.sk-toggleable__label-arrow:hover:before {\n",
       "  color: var(--sklearn-color-text);\n",
       "}\n",
       "\n",
       "/* Toggleable content - dropdown */\n",
       "\n",
       "#sk-container-id-1 div.sk-toggleable__content {\n",
       "  max-height: 0;\n",
       "  max-width: 0;\n",
       "  overflow: hidden;\n",
       "  text-align: left;\n",
       "  /* unfitted */\n",
       "  background-color: var(--sklearn-color-unfitted-level-0);\n",
       "}\n",
       "\n",
       "#sk-container-id-1 div.sk-toggleable__content.fitted {\n",
       "  /* fitted */\n",
       "  background-color: var(--sklearn-color-fitted-level-0);\n",
       "}\n",
       "\n",
       "#sk-container-id-1 div.sk-toggleable__content pre {\n",
       "  margin: 0.2em;\n",
       "  border-radius: 0.25em;\n",
       "  color: var(--sklearn-color-text);\n",
       "  /* unfitted */\n",
       "  background-color: var(--sklearn-color-unfitted-level-0);\n",
       "}\n",
       "\n",
       "#sk-container-id-1 div.sk-toggleable__content.fitted pre {\n",
       "  /* unfitted */\n",
       "  background-color: var(--sklearn-color-fitted-level-0);\n",
       "}\n",
       "\n",
       "#sk-container-id-1 input.sk-toggleable__control:checked~div.sk-toggleable__content {\n",
       "  /* Expand drop-down */\n",
       "  max-height: 200px;\n",
       "  max-width: 100%;\n",
       "  overflow: auto;\n",
       "}\n",
       "\n",
       "#sk-container-id-1 input.sk-toggleable__control:checked~label.sk-toggleable__label-arrow:before {\n",
       "  content: \"▾\";\n",
       "}\n",
       "\n",
       "/* Pipeline/ColumnTransformer-specific style */\n",
       "\n",
       "#sk-container-id-1 div.sk-label input.sk-toggleable__control:checked~label.sk-toggleable__label {\n",
       "  color: var(--sklearn-color-text);\n",
       "  background-color: var(--sklearn-color-unfitted-level-2);\n",
       "}\n",
       "\n",
       "#sk-container-id-1 div.sk-label.fitted input.sk-toggleable__control:checked~label.sk-toggleable__label {\n",
       "  background-color: var(--sklearn-color-fitted-level-2);\n",
       "}\n",
       "\n",
       "/* Estimator-specific style */\n",
       "\n",
       "/* Colorize estimator box */\n",
       "#sk-container-id-1 div.sk-estimator input.sk-toggleable__control:checked~label.sk-toggleable__label {\n",
       "  /* unfitted */\n",
       "  background-color: var(--sklearn-color-unfitted-level-2);\n",
       "}\n",
       "\n",
       "#sk-container-id-1 div.sk-estimator.fitted input.sk-toggleable__control:checked~label.sk-toggleable__label {\n",
       "  /* fitted */\n",
       "  background-color: var(--sklearn-color-fitted-level-2);\n",
       "}\n",
       "\n",
       "#sk-container-id-1 div.sk-label label.sk-toggleable__label,\n",
       "#sk-container-id-1 div.sk-label label {\n",
       "  /* The background is the default theme color */\n",
       "  color: var(--sklearn-color-text-on-default-background);\n",
       "}\n",
       "\n",
       "/* On hover, darken the color of the background */\n",
       "#sk-container-id-1 div.sk-label:hover label.sk-toggleable__label {\n",
       "  color: var(--sklearn-color-text);\n",
       "  background-color: var(--sklearn-color-unfitted-level-2);\n",
       "}\n",
       "\n",
       "/* Label box, darken color on hover, fitted */\n",
       "#sk-container-id-1 div.sk-label.fitted:hover label.sk-toggleable__label.fitted {\n",
       "  color: var(--sklearn-color-text);\n",
       "  background-color: var(--sklearn-color-fitted-level-2);\n",
       "}\n",
       "\n",
       "/* Estimator label */\n",
       "\n",
       "#sk-container-id-1 div.sk-label label {\n",
       "  font-family: monospace;\n",
       "  font-weight: bold;\n",
       "  display: inline-block;\n",
       "  line-height: 1.2em;\n",
       "}\n",
       "\n",
       "#sk-container-id-1 div.sk-label-container {\n",
       "  text-align: center;\n",
       "}\n",
       "\n",
       "/* Estimator-specific */\n",
       "#sk-container-id-1 div.sk-estimator {\n",
       "  font-family: monospace;\n",
       "  border: 1px dotted var(--sklearn-color-border-box);\n",
       "  border-radius: 0.25em;\n",
       "  box-sizing: border-box;\n",
       "  margin-bottom: 0.5em;\n",
       "  /* unfitted */\n",
       "  background-color: var(--sklearn-color-unfitted-level-0);\n",
       "}\n",
       "\n",
       "#sk-container-id-1 div.sk-estimator.fitted {\n",
       "  /* fitted */\n",
       "  background-color: var(--sklearn-color-fitted-level-0);\n",
       "}\n",
       "\n",
       "/* on hover */\n",
       "#sk-container-id-1 div.sk-estimator:hover {\n",
       "  /* unfitted */\n",
       "  background-color: var(--sklearn-color-unfitted-level-2);\n",
       "}\n",
       "\n",
       "#sk-container-id-1 div.sk-estimator.fitted:hover {\n",
       "  /* fitted */\n",
       "  background-color: var(--sklearn-color-fitted-level-2);\n",
       "}\n",
       "\n",
       "/* Specification for estimator info (e.g. \"i\" and \"?\") */\n",
       "\n",
       "/* Common style for \"i\" and \"?\" */\n",
       "\n",
       ".sk-estimator-doc-link,\n",
       "a:link.sk-estimator-doc-link,\n",
       "a:visited.sk-estimator-doc-link {\n",
       "  float: right;\n",
       "  font-size: smaller;\n",
       "  line-height: 1em;\n",
       "  font-family: monospace;\n",
       "  background-color: var(--sklearn-color-background);\n",
       "  border-radius: 1em;\n",
       "  height: 1em;\n",
       "  width: 1em;\n",
       "  text-decoration: none !important;\n",
       "  margin-left: 1ex;\n",
       "  /* unfitted */\n",
       "  border: var(--sklearn-color-unfitted-level-1) 1pt solid;\n",
       "  color: var(--sklearn-color-unfitted-level-1);\n",
       "}\n",
       "\n",
       ".sk-estimator-doc-link.fitted,\n",
       "a:link.sk-estimator-doc-link.fitted,\n",
       "a:visited.sk-estimator-doc-link.fitted {\n",
       "  /* fitted */\n",
       "  border: var(--sklearn-color-fitted-level-1) 1pt solid;\n",
       "  color: var(--sklearn-color-fitted-level-1);\n",
       "}\n",
       "\n",
       "/* On hover */\n",
       "div.sk-estimator:hover .sk-estimator-doc-link:hover,\n",
       ".sk-estimator-doc-link:hover,\n",
       "div.sk-label-container:hover .sk-estimator-doc-link:hover,\n",
       ".sk-estimator-doc-link:hover {\n",
       "  /* unfitted */\n",
       "  background-color: var(--sklearn-color-unfitted-level-3);\n",
       "  color: var(--sklearn-color-background);\n",
       "  text-decoration: none;\n",
       "}\n",
       "\n",
       "div.sk-estimator.fitted:hover .sk-estimator-doc-link.fitted:hover,\n",
       ".sk-estimator-doc-link.fitted:hover,\n",
       "div.sk-label-container:hover .sk-estimator-doc-link.fitted:hover,\n",
       ".sk-estimator-doc-link.fitted:hover {\n",
       "  /* fitted */\n",
       "  background-color: var(--sklearn-color-fitted-level-3);\n",
       "  color: var(--sklearn-color-background);\n",
       "  text-decoration: none;\n",
       "}\n",
       "\n",
       "/* Span, style for the box shown on hovering the info icon */\n",
       ".sk-estimator-doc-link span {\n",
       "  display: none;\n",
       "  z-index: 9999;\n",
       "  position: relative;\n",
       "  font-weight: normal;\n",
       "  right: .2ex;\n",
       "  padding: .5ex;\n",
       "  margin: .5ex;\n",
       "  width: min-content;\n",
       "  min-width: 20ex;\n",
       "  max-width: 50ex;\n",
       "  color: var(--sklearn-color-text);\n",
       "  box-shadow: 2pt 2pt 4pt #999;\n",
       "  /* unfitted */\n",
       "  background: var(--sklearn-color-unfitted-level-0);\n",
       "  border: .5pt solid var(--sklearn-color-unfitted-level-3);\n",
       "}\n",
       "\n",
       ".sk-estimator-doc-link.fitted span {\n",
       "  /* fitted */\n",
       "  background: var(--sklearn-color-fitted-level-0);\n",
       "  border: var(--sklearn-color-fitted-level-3);\n",
       "}\n",
       "\n",
       ".sk-estimator-doc-link:hover span {\n",
       "  display: block;\n",
       "}\n",
       "\n",
       "/* \"?\"-specific style due to the `<a>` HTML tag */\n",
       "\n",
       "#sk-container-id-1 a.estimator_doc_link {\n",
       "  float: right;\n",
       "  font-size: 1rem;\n",
       "  line-height: 1em;\n",
       "  font-family: monospace;\n",
       "  background-color: var(--sklearn-color-background);\n",
       "  border-radius: 1rem;\n",
       "  height: 1rem;\n",
       "  width: 1rem;\n",
       "  text-decoration: none;\n",
       "  /* unfitted */\n",
       "  color: var(--sklearn-color-unfitted-level-1);\n",
       "  border: var(--sklearn-color-unfitted-level-1) 1pt solid;\n",
       "}\n",
       "\n",
       "#sk-container-id-1 a.estimator_doc_link.fitted {\n",
       "  /* fitted */\n",
       "  border: var(--sklearn-color-fitted-level-1) 1pt solid;\n",
       "  color: var(--sklearn-color-fitted-level-1);\n",
       "}\n",
       "\n",
       "/* On hover */\n",
       "#sk-container-id-1 a.estimator_doc_link:hover {\n",
       "  /* unfitted */\n",
       "  background-color: var(--sklearn-color-unfitted-level-3);\n",
       "  color: var(--sklearn-color-background);\n",
       "  text-decoration: none;\n",
       "}\n",
       "\n",
       "#sk-container-id-1 a.estimator_doc_link.fitted:hover {\n",
       "  /* fitted */\n",
       "  background-color: var(--sklearn-color-fitted-level-3);\n",
       "}\n",
       "</style><div id=\"sk-container-id-1\" class=\"sk-top-container\"><div class=\"sk-text-repr-fallback\"><pre>CountVectorizer()</pre><b>In a Jupyter environment, please rerun this cell to show the HTML representation or trust the notebook. <br />On GitHub, the HTML representation is unable to render, please try loading this page with nbviewer.org.</b></div><div class=\"sk-container\" hidden><div class=\"sk-item\"><div class=\"sk-estimator fitted sk-toggleable\"><input class=\"sk-toggleable__control sk-hidden--visually\" id=\"sk-estimator-id-1\" type=\"checkbox\" checked><label for=\"sk-estimator-id-1\" class=\"sk-toggleable__label fitted sk-toggleable__label-arrow fitted\">&nbsp;&nbsp;CountVectorizer<a class=\"sk-estimator-doc-link fitted\" rel=\"noreferrer\" target=\"_blank\" href=\"https://scikit-learn.org/1.5/modules/generated/sklearn.feature_extraction.text.CountVectorizer.html\">?<span>Documentation for CountVectorizer</span></a><span class=\"sk-estimator-doc-link fitted\">i<span>Fitted</span></span></label><div class=\"sk-toggleable__content fitted\"><pre>CountVectorizer()</pre></div> </div></div></div></div>"
      ],
      "text/plain": [
       "CountVectorizer()"
      ]
     },
     "execution_count": 26,
     "metadata": {},
     "output_type": "execute_result"
    }
   ],
   "source": [
    "c_vect=CountVectorizer()\n",
    "c_vect.fit(string)"
   ]
  },
  {
   "cell_type": "code",
   "execution_count": 27,
   "id": "757682bf-47f3-4a2b-ab0a-f4c6a2a3733f",
   "metadata": {},
   "outputs": [
    {
     "name": "stdout",
     "output_type": "stream",
     "text": [
      "Text present at [[0 0 0 2 1 0]]\n",
      "Original indexes ['an' 'bow' 'example' 'is' 'of' 'this']\n"
     ]
    }
   ],
   "source": [
    "string2=[\"lets understand is of words is\"]\n",
    "c_new_vect=c_vect.transform(string2)\n",
    "print(\"Text present at\",c_new_vect.toarray())\n",
    "#compare with indexes\n",
    "print(\"Original indexes\",vect1.get_feature_names_out())"
   ]
  },
  {
   "cell_type": "markdown",
   "id": "717726b6-16d1-496e-968d-9aa4ed9fc7a6",
   "metadata": {},
   "source": [
    "so Bag of words may be millions of words and when new text is given it checks from words of BOW and howmany words of it matches with new text words and also counts frq count of appearance of each word of BOW"
   ]
  },
  {
   "cell_type": "markdown",
   "id": "ee4e93de-6c80-4e1d-843f-5c5fee7ed8a6",
   "metadata": {},
   "source": [
    "REMOVE STOPWORDS IN BOW"
   ]
  },
  {
   "cell_type": "code",
   "execution_count": 28,
   "id": "530251d3-d740-4742-8e13-bdde90ea87f6",
   "metadata": {},
   "outputs": [
    {
     "name": "stdout",
     "output_type": "stream",
     "text": [
      "CountVectorizer(stop_words=['a', 'about', 'above', 'after', 'again', 'against',\n",
      "                            'ain', 'all', 'am', 'an', 'and', 'any', 'are',\n",
      "                            'aren', \"aren't\", 'as', 'at', 'be', 'because',\n",
      "                            'been', 'before', 'being', 'below', 'between',\n",
      "                            'both', 'but', 'by', 'can', 'couldn', \"couldn't\", ...])\n"
     ]
    }
   ],
   "source": [
    "stpwords=stopwords.words('english')\n",
    "vect1=CountVectorizer(stop_words=stpwords)\n",
    "print(vect1)"
   ]
  },
  {
   "cell_type": "code",
   "execution_count": 29,
   "id": "4660b38b-1380-4dbe-b2d5-c5a8c54e0619",
   "metadata": {},
   "outputs": [
    {
     "name": "stdout",
     "output_type": "stream",
     "text": [
      "BOW: ['bag' 'example' 'words']\n",
      "vocab: {'example': 1, 'bag': 0, 'words': 2}\n"
     ]
    }
   ],
   "source": [
    "string=[\"this is an example of bag of words!\"]\n",
    "vect1.fit_transform(string)\n",
    "print(\"BOW:\",vect1.get_feature_names_out())\n",
    "print(\"vocab:\",vect1.vocabulary_)"
   ]
  },
  {
   "cell_type": "markdown",
   "id": "93aa3aaf-78d3-436b-8eb6-f2dfdb3d8902",
   "metadata": {},
   "source": [
    "Method 2"
   ]
  },
  {
   "cell_type": "markdown",
   "id": "721f30dd-5e29-42bd-98d2-d3598cb4f76f",
   "metadata": {},
   "source": [
    "BOW WITH REMOVING STOPWORDS"
   ]
  },
  {
   "cell_type": "markdown",
   "id": "1334ac92-fd46-4133-89a3-7a3d00d6be33",
   "metadata": {},
   "source": [
    "USING FUNCTION DEFINITION"
   ]
  },
  {
   "cell_type": "markdown",
   "id": "bfdb11d5-52e9-481e-b48a-91b1d1a5536b",
   "metadata": {},
   "source": [
    "with stopwords"
   ]
  },
  {
   "cell_type": "code",
   "execution_count": 30,
   "id": "6b4967da-f9de-43a7-9c5d-a99ca443717e",
   "metadata": {},
   "outputs": [
    {
     "name": "stdout",
     "output_type": "stream",
     "text": [
      "Below metrix is BOW approach\n"
     ]
    },
    {
     "data": {
      "text/html": [
       "<div>\n",
       "<style scoped>\n",
       "    .dataframe tbody tr th:only-of-type {\n",
       "        vertical-align: middle;\n",
       "    }\n",
       "\n",
       "    .dataframe tbody tr th {\n",
       "        vertical-align: top;\n",
       "    }\n",
       "\n",
       "    .dataframe thead th {\n",
       "        text-align: right;\n",
       "    }\n",
       "</style>\n",
       "<table border=\"1\" class=\"dataframe\">\n",
       "  <thead>\n",
       "    <tr style=\"text-align: right;\">\n",
       "      <th></th>\n",
       "      <th>are</th>\n",
       "      <th>but</th>\n",
       "      <th>for</th>\n",
       "      <th>get</th>\n",
       "      <th>in</th>\n",
       "      <th>is</th>\n",
       "      <th>language</th>\n",
       "      <th>making</th>\n",
       "      <th>mantra</th>\n",
       "      <th>natural</th>\n",
       "      <th>only</th>\n",
       "      <th>practise</th>\n",
       "      <th>processingwe</th>\n",
       "      <th>progress</th>\n",
       "      <th>slowly</th>\n",
       "      <th>success</th>\n",
       "      <th>the</th>\n",
       "      <th>there</th>\n",
       "      <th>we</th>\n",
       "      <th>will</th>\n",
       "    </tr>\n",
       "  </thead>\n",
       "  <tbody>\n",
       "    <tr>\n",
       "      <th>0</th>\n",
       "      <td>1</td>\n",
       "      <td>0</td>\n",
       "      <td>0</td>\n",
       "      <td>1</td>\n",
       "      <td>1</td>\n",
       "      <td>0</td>\n",
       "      <td>1</td>\n",
       "      <td>1</td>\n",
       "      <td>0</td>\n",
       "      <td>1</td>\n",
       "      <td>0</td>\n",
       "      <td>0</td>\n",
       "      <td>1</td>\n",
       "      <td>1</td>\n",
       "      <td>1</td>\n",
       "      <td>0</td>\n",
       "      <td>0</td>\n",
       "      <td>1</td>\n",
       "      <td>1</td>\n",
       "      <td>1</td>\n",
       "    </tr>\n",
       "    <tr>\n",
       "      <th>1</th>\n",
       "      <td>0</td>\n",
       "      <td>1</td>\n",
       "      <td>1</td>\n",
       "      <td>0</td>\n",
       "      <td>0</td>\n",
       "      <td>1</td>\n",
       "      <td>0</td>\n",
       "      <td>0</td>\n",
       "      <td>1</td>\n",
       "      <td>0</td>\n",
       "      <td>1</td>\n",
       "      <td>1</td>\n",
       "      <td>0</td>\n",
       "      <td>0</td>\n",
       "      <td>0</td>\n",
       "      <td>1</td>\n",
       "      <td>1</td>\n",
       "      <td>0</td>\n",
       "      <td>0</td>\n",
       "      <td>0</td>\n",
       "    </tr>\n",
       "  </tbody>\n",
       "</table>\n",
       "</div>"
      ],
      "text/plain": [
       "   are  but  for  get  in  is  language  making  mantra  natural  only  \\\n",
       "0    1    0    0    1   1   0         1       1       0        1     0   \n",
       "1    0    1    1    0   0   1         0       0       1        0     1   \n",
       "\n",
       "   practise  processingwe  progress  slowly  success  the  there  we  will  \n",
       "0         0             1         1       1        0    0      1   1     1  \n",
       "1         1             0         0       0        1    1      0   0     0  "
      ]
     },
     "execution_count": 30,
     "metadata": {},
     "output_type": "execute_result"
    }
   ],
   "source": [
    "def text_matrix(message,countvect):\n",
    "    terms_doc=countvect.fit_transform(message)\n",
    "    return pd.DataFrame(terms_doc.toarray(),columns=countvect.get_feature_names_out())\n",
    "message=[\"We are slowly making progress in Natural Language Processing\"\"We will get there\",\"But practise is the only mantra for success\"]\n",
    "countvect=CountVectorizer()\n",
    "print(\"Below metrix is BOW approach\")\n",
    "text_matrix(message,countvect)"
   ]
  },
  {
   "cell_type": "markdown",
   "id": "c8c40913-1181-49f1-a4e9-7390f83779e4",
   "metadata": {},
   "source": [
    "BOW WITHOUT STOPWORDS"
   ]
  },
  {
   "cell_type": "code",
   "execution_count": 31,
   "id": "9c6194be-07c2-4ce2-84c6-b88c5fd8eb87",
   "metadata": {},
   "outputs": [
    {
     "name": "stdout",
     "output_type": "stream",
     "text": [
      "Below metrix is BOW approach\n"
     ]
    },
    {
     "data": {
      "text/html": [
       "<div>\n",
       "<style scoped>\n",
       "    .dataframe tbody tr th:only-of-type {\n",
       "        vertical-align: middle;\n",
       "    }\n",
       "\n",
       "    .dataframe tbody tr th {\n",
       "        vertical-align: top;\n",
       "    }\n",
       "\n",
       "    .dataframe thead th {\n",
       "        text-align: right;\n",
       "    }\n",
       "</style>\n",
       "<table border=\"1\" class=\"dataframe\">\n",
       "  <thead>\n",
       "    <tr style=\"text-align: right;\">\n",
       "      <th></th>\n",
       "      <th>get</th>\n",
       "      <th>language</th>\n",
       "      <th>making</th>\n",
       "      <th>mantra</th>\n",
       "      <th>natural</th>\n",
       "      <th>practise</th>\n",
       "      <th>processing</th>\n",
       "      <th>progress</th>\n",
       "      <th>slowly</th>\n",
       "      <th>success</th>\n",
       "    </tr>\n",
       "  </thead>\n",
       "  <tbody>\n",
       "    <tr>\n",
       "      <th>0</th>\n",
       "      <td>0</td>\n",
       "      <td>1</td>\n",
       "      <td>1</td>\n",
       "      <td>0</td>\n",
       "      <td>1</td>\n",
       "      <td>0</td>\n",
       "      <td>1</td>\n",
       "      <td>1</td>\n",
       "      <td>1</td>\n",
       "      <td>0</td>\n",
       "    </tr>\n",
       "    <tr>\n",
       "      <th>1</th>\n",
       "      <td>1</td>\n",
       "      <td>0</td>\n",
       "      <td>0</td>\n",
       "      <td>0</td>\n",
       "      <td>0</td>\n",
       "      <td>0</td>\n",
       "      <td>0</td>\n",
       "      <td>0</td>\n",
       "      <td>0</td>\n",
       "      <td>0</td>\n",
       "    </tr>\n",
       "    <tr>\n",
       "      <th>2</th>\n",
       "      <td>0</td>\n",
       "      <td>0</td>\n",
       "      <td>0</td>\n",
       "      <td>1</td>\n",
       "      <td>0</td>\n",
       "      <td>1</td>\n",
       "      <td>0</td>\n",
       "      <td>0</td>\n",
       "      <td>0</td>\n",
       "      <td>1</td>\n",
       "    </tr>\n",
       "  </tbody>\n",
       "</table>\n",
       "</div>"
      ],
      "text/plain": [
       "   get  language  making  mantra  natural  practise  processing  progress  \\\n",
       "0    0         1       1       0        1         0           1         1   \n",
       "1    1         0       0       0        0         0           0         0   \n",
       "2    0         0       0       1        0         1           0         0   \n",
       "\n",
       "   slowly  success  \n",
       "0       1        0  \n",
       "1       0        0  \n",
       "2       0        1  "
      ]
     },
     "execution_count": 31,
     "metadata": {},
     "output_type": "execute_result"
    }
   ],
   "source": [
    "stpwords=stopwords.words('english')\n",
    "def text_matrix(message,countvect):\n",
    "    terms_doc=countvect.fit_transform(message)\n",
    "    return pd.DataFrame(terms_doc.toarray(),columns=countvect.get_feature_names_out())\n",
    "message=[\"We are slowly making progress in Natural Language Processing\",\"We will get there\",\"But practise is the only mantra for success\"]\n",
    "countvect=CountVectorizer(stop_words=stpwords)\n",
    "print(\"Below metrix is BOW approach\")\n",
    "text_matrix(message,countvect)"
   ]
  },
  {
   "cell_type": "markdown",
   "id": "a24e6df1-8ed4-43de-8362-e4fb245cb63d",
   "metadata": {},
   "source": [
    "0 ,1,2 are indexes of 1st,2nd and 3rd documents"
   ]
  },
  {
   "cell_type": "markdown",
   "id": "71362ae1-db06-42a4-b988-c91e2b0fcd95",
   "metadata": {},
   "source": [
    "Using N-Gram Approach"
   ]
  },
  {
   "cell_type": "code",
   "execution_count": 32,
   "id": "5e1432be-727d-4d04-bcde-82acc8bf1768",
   "metadata": {},
   "outputs": [],
   "source": [
    "from sklearn.feature_extraction.text import CountVectorizer"
   ]
  },
  {
   "cell_type": "code",
   "execution_count": 33,
   "id": "31a9168d-4ccd-41f1-aac4-aa8bc027f277",
   "metadata": {},
   "outputs": [
    {
     "data": {
      "text/plain": [
       "<1x9 sparse matrix of type '<class 'numpy.int64'>'\n",
       "\twith 9 stored elements in Compressed Sparse Row format>"
      ]
     },
     "execution_count": 33,
     "metadata": {},
     "output_type": "execute_result"
    }
   ],
   "source": [
    "from nltk.tokenize import word_tokenize\n",
    "string=[\"This is an example of gram!\"]\n",
    "vect1=CountVectorizer(ngram_range=(1,1))\n",
    "vect1.fit_transform(string)\n",
    "vect2=CountVectorizer(ngram_range=(2,2))\n",
    "vect2.fit_transform(string)\n",
    "vect3=CountVectorizer(ngram_range=(3,3))\n",
    "vect3.fit_transform(string)\n",
    "vect4=CountVectorizer(ngram_range=(4,4))\n",
    "vect4.fit_transform(string)\n",
    "vect5=CountVectorizer(ngram_range=(2,3))\n",
    "vect5.fit_transform(string)"
   ]
  },
  {
   "cell_type": "code",
   "execution_count": 34,
   "id": "6cb74f63-1840-4d56-b0b4-b8eddf373756",
   "metadata": {},
   "outputs": [
    {
     "name": "stdout",
     "output_type": "stream",
     "text": [
      "vocab: {'this': 5, 'is': 3, 'an': 0, 'example': 1, 'of': 4, 'gram': 2}\n"
     ]
    }
   ],
   "source": [
    "print(\"vocab:\",vect1.vocabulary_)"
   ]
  },
  {
   "cell_type": "code",
   "execution_count": 35,
   "id": "78cafc7e-1cc1-462d-a036-2d557d00d5c4",
   "metadata": {},
   "outputs": [
    {
     "name": "stdout",
     "output_type": "stream",
     "text": [
      "vocab: {'this is': 4, 'is an': 2, 'an example': 0, 'example of': 1, 'of gram': 3}\n"
     ]
    }
   ],
   "source": [
    "print(\"vocab:\",vect2.vocabulary_)"
   ]
  },
  {
   "cell_type": "code",
   "execution_count": 36,
   "id": "7b8d88d7-8952-4b9c-96f1-7dd34e0067f2",
   "metadata": {},
   "outputs": [
    {
     "name": "stdout",
     "output_type": "stream",
     "text": [
      "vocab: {'this is an': 3, 'is an example': 2, 'an example of': 0, 'example of gram': 1}\n"
     ]
    }
   ],
   "source": [
    "print(\"vocab:\",vect3.vocabulary_)"
   ]
  },
  {
   "cell_type": "code",
   "execution_count": 37,
   "id": "3e5a9a9b-d930-428b-9d5a-871fe4f11964",
   "metadata": {},
   "outputs": [
    {
     "name": "stdout",
     "output_type": "stream",
     "text": [
      "vocab: {'this is an example': 2, 'is an example of': 1, 'an example of gram': 0}\n"
     ]
    }
   ],
   "source": [
    "print(\"vocab:\",vect4.vocabulary_)"
   ]
  },
  {
   "cell_type": "code",
   "execution_count": 38,
   "id": "50b36059-25cc-467f-8354-715b33680ba5",
   "metadata": {},
   "outputs": [
    {
     "name": "stdout",
     "output_type": "stream",
     "text": [
      "vocab: {'this is': 7, 'is an': 4, 'an example': 0, 'example of': 2, 'of gram': 6, 'this is an': 8, 'is an example': 5, 'an example of': 1, 'example of gram': 3}\n"
     ]
    }
   ],
   "source": [
    "print(\"vocab:\",vect5.vocabulary_)"
   ]
  },
  {
   "cell_type": "markdown",
   "id": "63899867-9475-4f1f-9021-677876e17c2a",
   "metadata": {},
   "source": [
    "3 words equal to 1 gram\n",
    "in (2,3)so bi gram then trigram"
   ]
  },
  {
   "cell_type": "markdown",
   "id": "c2bd8d2a-75aa-42d7-a16a-e0194b56359a",
   "metadata": {},
   "source": [
    "WORD EMBEDDING-TF_IDF VECTORIZATION"
   ]
  },
  {
   "cell_type": "markdown",
   "id": "26820d35-db4d-4536-8ab4-33967b7f5335",
   "metadata": {},
   "source": [
    "tf-idf=tf*idf"
   ]
  },
  {
   "cell_type": "code",
   "execution_count": 39,
   "id": "03d90144-0aca-44e4-82a3-b5b2ee345a12",
   "metadata": {},
   "outputs": [
    {
     "data": {
      "text/plain": [
       "1.584962500721156"
      ]
     },
     "execution_count": 39,
     "metadata": {},
     "output_type": "execute_result"
    }
   ],
   "source": [
    "import numpy as np\n",
    "np.log2(3)"
   ]
  },
  {
   "cell_type": "code",
   "execution_count": 40,
   "id": "edf93076-006f-480f-b827-3aef3df9a2ef",
   "metadata": {},
   "outputs": [],
   "source": [
    "from sklearn.feature_extraction.text import TfidfVectorizer\n",
    "import pandas as pd"
   ]
  },
  {
   "cell_type": "code",
   "execution_count": 41,
   "id": "436556f3-65e9-482e-92f8-a613e25e4622",
   "metadata": {},
   "outputs": [],
   "source": [
    "tfidf=TfidfVectorizer(smooth_idf=False)\n",
    "doc=[\"This is an example.\",\"we will see how it works.\",\n",
    "     \"Idf can be confusing.\"]\n",
    "doc_vector=tfidf.fit_transform(doc)"
   ]
  },
  {
   "cell_type": "markdown",
   "id": "49388cdf-0c89-492c-9d6c-3b82c288ee91",
   "metadata": {},
   "source": [
    "#smooth_idf=False is the parameter used to add a number if there is something comes up like after multiplying things like,if we end up getting zeros,we make sure we had a 1 there 0+1 in doc_vector converted values becoz our words will be huge"
   ]
  },
  {
   "cell_type": "code",
   "execution_count": 42,
   "id": "90eb2799-f789-4905-88c9-320203da4ae9",
   "metadata": {},
   "outputs": [
    {
     "name": "stdout",
     "output_type": "stream",
     "text": [
      "['an' 'be' 'can' 'confusing' 'example' 'how' 'idf' 'is' 'it' 'see' 'this'\n",
      " 'we' 'will' 'works']\n"
     ]
    }
   ],
   "source": [
    "print(tfidf.get_feature_names_out())"
   ]
  },
  {
   "cell_type": "code",
   "execution_count": 43,
   "id": "90060994-c063-48d1-a24d-7f2aeba5d0c8",
   "metadata": {},
   "outputs": [],
   "source": [
    "df=pd.DataFrame(doc_vector.todense(),columns=tfidf.get_feature_names_out())"
   ]
  },
  {
   "cell_type": "code",
   "execution_count": 44,
   "id": "c2259a74-385e-45cd-b28c-e0a7bb210805",
   "metadata": {},
   "outputs": [],
   "source": [
    "#todense()means memory will be allocated even for misssing values in df"
   ]
  },
  {
   "cell_type": "code",
   "execution_count": 45,
   "id": "73e129f5-688c-4ab9-b753-d9cebbcb08d5",
   "metadata": {},
   "outputs": [
    {
     "data": {
      "text/html": [
       "<div>\n",
       "<style scoped>\n",
       "    .dataframe tbody tr th:only-of-type {\n",
       "        vertical-align: middle;\n",
       "    }\n",
       "\n",
       "    .dataframe tbody tr th {\n",
       "        vertical-align: top;\n",
       "    }\n",
       "\n",
       "    .dataframe thead th {\n",
       "        text-align: right;\n",
       "    }\n",
       "</style>\n",
       "<table border=\"1\" class=\"dataframe\">\n",
       "  <thead>\n",
       "    <tr style=\"text-align: right;\">\n",
       "      <th></th>\n",
       "      <th>an</th>\n",
       "      <th>be</th>\n",
       "      <th>can</th>\n",
       "      <th>confusing</th>\n",
       "      <th>example</th>\n",
       "      <th>how</th>\n",
       "      <th>idf</th>\n",
       "      <th>is</th>\n",
       "      <th>it</th>\n",
       "      <th>see</th>\n",
       "      <th>this</th>\n",
       "      <th>we</th>\n",
       "      <th>will</th>\n",
       "      <th>works</th>\n",
       "    </tr>\n",
       "  </thead>\n",
       "  <tbody>\n",
       "    <tr>\n",
       "      <th>0</th>\n",
       "      <td>0.5</td>\n",
       "      <td>0.0</td>\n",
       "      <td>0.0</td>\n",
       "      <td>0.0</td>\n",
       "      <td>0.5</td>\n",
       "      <td>0.000000</td>\n",
       "      <td>0.0</td>\n",
       "      <td>0.5</td>\n",
       "      <td>0.000000</td>\n",
       "      <td>0.000000</td>\n",
       "      <td>0.5</td>\n",
       "      <td>0.000000</td>\n",
       "      <td>0.000000</td>\n",
       "      <td>0.000000</td>\n",
       "    </tr>\n",
       "    <tr>\n",
       "      <th>1</th>\n",
       "      <td>0.0</td>\n",
       "      <td>0.0</td>\n",
       "      <td>0.0</td>\n",
       "      <td>0.0</td>\n",
       "      <td>0.0</td>\n",
       "      <td>0.408248</td>\n",
       "      <td>0.0</td>\n",
       "      <td>0.0</td>\n",
       "      <td>0.408248</td>\n",
       "      <td>0.408248</td>\n",
       "      <td>0.0</td>\n",
       "      <td>0.408248</td>\n",
       "      <td>0.408248</td>\n",
       "      <td>0.408248</td>\n",
       "    </tr>\n",
       "    <tr>\n",
       "      <th>2</th>\n",
       "      <td>0.0</td>\n",
       "      <td>0.5</td>\n",
       "      <td>0.5</td>\n",
       "      <td>0.5</td>\n",
       "      <td>0.0</td>\n",
       "      <td>0.000000</td>\n",
       "      <td>0.5</td>\n",
       "      <td>0.0</td>\n",
       "      <td>0.000000</td>\n",
       "      <td>0.000000</td>\n",
       "      <td>0.0</td>\n",
       "      <td>0.000000</td>\n",
       "      <td>0.000000</td>\n",
       "      <td>0.000000</td>\n",
       "    </tr>\n",
       "  </tbody>\n",
       "</table>\n",
       "</div>"
      ],
      "text/plain": [
       "    an   be  can  confusing  example       how  idf   is        it       see  \\\n",
       "0  0.5  0.0  0.0        0.0      0.5  0.000000  0.0  0.5  0.000000  0.000000   \n",
       "1  0.0  0.0  0.0        0.0      0.0  0.408248  0.0  0.0  0.408248  0.408248   \n",
       "2  0.0  0.5  0.5        0.5      0.0  0.000000  0.5  0.0  0.000000  0.000000   \n",
       "\n",
       "   this        we      will     works  \n",
       "0   0.5  0.000000  0.000000  0.000000  \n",
       "1   0.0  0.408248  0.408248  0.408248  \n",
       "2   0.0  0.000000  0.000000  0.000000  "
      ]
     },
     "execution_count": 45,
     "metadata": {},
     "output_type": "execute_result"
    }
   ],
   "source": [
    "df"
   ]
  },
  {
   "cell_type": "code",
   "execution_count": 46,
   "id": "223d8637-8e25-42b1-a356-1ccc67975f78",
   "metadata": {},
   "outputs": [
    {
     "name": "stdout",
     "output_type": "stream",
     "text": [
      "  (0, 10)\t0.5\n",
      "  (0, 7)\t0.5\n",
      "  (0, 0)\t0.5\n",
      "  (0, 4)\t0.5\n",
      "  (1, 11)\t0.40824829046386296\n",
      "  (1, 12)\t0.40824829046386296\n",
      "  (1, 9)\t0.40824829046386296\n",
      "  (1, 5)\t0.40824829046386296\n",
      "  (1, 8)\t0.40824829046386296\n",
      "  (1, 13)\t0.40824829046386296\n",
      "  (2, 6)\t0.5\n",
      "  (2, 2)\t0.5\n",
      "  (2, 1)\t0.5\n",
      "  (2, 3)\t0.5\n"
     ]
    }
   ],
   "source": [
    "print(doc_vector) #it is the vector values of doc given.there are 3 docs"
   ]
  },
  {
   "cell_type": "markdown",
   "id": "5e7119a9-56bf-4296-935f-92ee7225533e",
   "metadata": {},
   "source": [
    "sklearn package have some modifications done to formula to avoid complete avoidance of terms as well as to counter dividing by zero"
   ]
  },
  {
   "cell_type": "markdown",
   "id": "0fa04a80-4a23-47af-a2e9-9a50f7afbe82",
   "metadata": {},
   "source": [
    "term t in doc d \n",
    "tf-idf=tf(t,d)*idf(t)\n",
    "idf(t)=log[n/df(t)]+1(if smooth_idf =False) where n is no.of docs and df(t) where df is document freq of term"
   ]
  },
  {
   "cell_type": "markdown",
   "id": "e14ed186-1b41-4dac-9f7c-fdfd38684336",
   "metadata": {},
   "source": [
    "doc frq is number of docs in doc set that contain term t.adding 1 to idf is that terms or words with 0 idf which occurs in all docs wont be entirely ignored.\n",
    "so idf(t)=log[n/df(t)+1)])\n",
    "so if smooth_idf=True (default) the constant 1 is added to numerator and denominator of idf as like if extra doc was seen containing every term in collection exactly once that prevents 0 division"
   ]
  },
  {
   "cell_type": "markdown",
   "id": "0fcef1da-db47-420d-90d7-1a854689f862",
   "metadata": {},
   "source": [
    "idf(d,t)=log[(1+n)/(1+df(d,t))]+1"
   ]
  },
  {
   "cell_type": "code",
   "execution_count": 47,
   "id": "6bd3551e-2431-483b-ae98-82a6affb8547",
   "metadata": {},
   "outputs": [],
   "source": [
    "feb_message=[\"what is that covid\",\"covid is nothing\",\"covid cases are dropping\"]"
   ]
  },
  {
   "cell_type": "code",
   "execution_count": 48,
   "id": "2c858f44-806e-4fba-8df7-44da47da58a6",
   "metadata": {},
   "outputs": [],
   "source": [
    "tf_idf=TfidfVectorizer()"
   ]
  },
  {
   "cell_type": "code",
   "execution_count": 49,
   "id": "9f7247ce-c551-4db5-aeeb-9914672243b9",
   "metadata": {},
   "outputs": [
    {
     "name": "stdout",
     "output_type": "stream",
     "text": [
      "Below metrix is tf_idf calculation approach\n"
     ]
    },
    {
     "data": {
      "text/html": [
       "<div>\n",
       "<style scoped>\n",
       "    .dataframe tbody tr th:only-of-type {\n",
       "        vertical-align: middle;\n",
       "    }\n",
       "\n",
       "    .dataframe tbody tr th {\n",
       "        vertical-align: top;\n",
       "    }\n",
       "\n",
       "    .dataframe thead th {\n",
       "        text-align: right;\n",
       "    }\n",
       "</style>\n",
       "<table border=\"1\" class=\"dataframe\">\n",
       "  <thead>\n",
       "    <tr style=\"text-align: right;\">\n",
       "      <th></th>\n",
       "      <th>are</th>\n",
       "      <th>cases</th>\n",
       "      <th>covid</th>\n",
       "      <th>dropping</th>\n",
       "      <th>is</th>\n",
       "      <th>nothing</th>\n",
       "      <th>that</th>\n",
       "      <th>what</th>\n",
       "    </tr>\n",
       "  </thead>\n",
       "  <tbody>\n",
       "    <tr>\n",
       "      <th>0</th>\n",
       "      <td>0.000000</td>\n",
       "      <td>0.000000</td>\n",
       "      <td>0.345205</td>\n",
       "      <td>0.000000</td>\n",
       "      <td>0.444514</td>\n",
       "      <td>0.000000</td>\n",
       "      <td>0.584483</td>\n",
       "      <td>0.584483</td>\n",
       "    </tr>\n",
       "    <tr>\n",
       "      <th>1</th>\n",
       "      <td>0.000000</td>\n",
       "      <td>0.000000</td>\n",
       "      <td>0.425441</td>\n",
       "      <td>0.000000</td>\n",
       "      <td>0.547832</td>\n",
       "      <td>0.720333</td>\n",
       "      <td>0.000000</td>\n",
       "      <td>0.000000</td>\n",
       "    </tr>\n",
       "    <tr>\n",
       "      <th>2</th>\n",
       "      <td>0.546454</td>\n",
       "      <td>0.546454</td>\n",
       "      <td>0.322745</td>\n",
       "      <td>0.546454</td>\n",
       "      <td>0.000000</td>\n",
       "      <td>0.000000</td>\n",
       "      <td>0.000000</td>\n",
       "      <td>0.000000</td>\n",
       "    </tr>\n",
       "  </tbody>\n",
       "</table>\n",
       "</div>"
      ],
      "text/plain": [
       "        are     cases     covid  dropping        is   nothing      that  \\\n",
       "0  0.000000  0.000000  0.345205  0.000000  0.444514  0.000000  0.584483   \n",
       "1  0.000000  0.000000  0.425441  0.000000  0.547832  0.720333  0.000000   \n",
       "2  0.546454  0.546454  0.322745  0.546454  0.000000  0.000000  0.000000   \n",
       "\n",
       "       what  \n",
       "0  0.584483  \n",
       "1  0.000000  \n",
       "2  0.000000  "
      ]
     },
     "execution_count": 49,
     "metadata": {},
     "output_type": "execute_result"
    }
   ],
   "source": [
    "def text_matrix(feb_message,tf_idf):\n",
    "    terms_doc=tf_idf.fit_transform(feb_message)\n",
    "    return pd.DataFrame(terms_doc.toarray(),columns=tf_idf.get_feature_names_out())\n",
    "print(\"Below metrix is tf_idf calculation approach\")\n",
    "text_matrix(feb_message,tf_idf)"
   ]
  },
  {
   "cell_type": "markdown",
   "id": "2b6c2a4d-aa1f-4d40-9fcf-09ad86428b01",
   "metadata": {},
   "source": [
    "in above gives high and low values depends on word appears in document"
   ]
  },
  {
   "cell_type": "markdown",
   "id": "b960ea2f-0035-4b2a-bc3d-2e398511d5bf",
   "metadata": {},
   "source": [
    "COUNTVECTORIZER AND TFIDF VECTORIZER USING N GRAMS"
   ]
  },
  {
   "cell_type": "code",
   "execution_count": 51,
   "id": "b96145fb-c567-44d4-830b-17dc9ee1a99f",
   "metadata": {},
   "outputs": [],
   "source": [
    "from sklearn.feature_extraction.text import TfidfVectorizer,CountVectorizer\n"
   ]
  },
  {
   "cell_type": "code",
   "execution_count": 52,
   "id": "dc58c0f8-f39f-47a1-b7b5-08150c2244ab",
   "metadata": {},
   "outputs": [],
   "source": [
    "arr=[\"car was cleaned by jack\",\"jack was cleaned by car\"]"
   ]
  },
  {
   "cell_type": "markdown",
   "id": "bfc27e79-fcb6-4f32-bc8e-9fe6f61679fb",
   "metadata": {},
   "source": [
    "Take below just term frequencies"
   ]
  },
  {
   "cell_type": "code",
   "execution_count": 53,
   "id": "1617d918-3c46-4c7e-88d2-6bdbfe68f995",
   "metadata": {},
   "outputs": [
    {
     "name": "stdout",
     "output_type": "stream",
     "text": [
      "feature name\n",
      " ['by car' 'by jack' 'car was' 'cleaned by' 'jack was' 'was cleaned']\n"
     ]
    }
   ],
   "source": [
    "vectorizer=CountVectorizer(ngram_range=(2,2))\n",
    "X=vectorizer.fit_transform(arr)\n",
    "#testing the n gramsgeneration\n",
    "print(\"feature name\\n\",vectorizer.get_feature_names_out())"
   ]
  },
  {
   "cell_type": "code",
   "execution_count": 54,
   "id": "102848ac-0469-46ff-ab7d-c8dc9dfb60a3",
   "metadata": {},
   "outputs": [
    {
     "name": "stdout",
     "output_type": "stream",
     "text": [
      "array\n",
      " [[0 1 1 1 0 1]\n",
      " [1 0 0 1 1 1]]\n"
     ]
    }
   ],
   "source": [
    "print(\"array\\n\",X.toarray())"
   ]
  },
  {
   "cell_type": "markdown",
   "id": "45ae8c59-717c-4b4e-8bb3-990fb257b030",
   "metadata": {},
   "source": [
    "e.g by car appears in doc 1 as 0 times and by jack appears n doc 1 as 1 time and so on"
   ]
  },
  {
   "cell_type": "markdown",
   "id": "5ff4b1ae-9380-4431-bfb7-b896d532d0f1",
   "metadata": {},
   "source": [
    "apply n grams in tf idf vectorization and with normalization"
   ]
  },
  {
   "cell_type": "code",
   "execution_count": 56,
   "id": "9aad36c4-bff1-4521-bf56-b98a1fe39782",
   "metadata": {},
   "outputs": [
    {
     "name": "stdout",
     "output_type": "stream",
     "text": [
      "feature name\n",
      " ['by car' 'by jack' 'car was' 'car was cleaned' 'cleaned by'\n",
      " 'cleaned by car' 'cleaned by jack' 'jack was' 'jack was cleaned'\n",
      " 'was cleaned' 'was cleaned by']\n"
     ]
    }
   ],
   "source": [
    "tfidf=TfidfVectorizer(ngram_range=(2,3),smooth_idf=False)\n",
    "X1=tfidf.fit_transform(arr)\n",
    "#testing the n gramsgeneration\n",
    "print(\"feature name\\n\",tfidf.get_feature_names_out())"
   ]
  },
  {
   "cell_type": "code",
   "execution_count": 57,
   "id": "23393819-6c1d-4de1-9694-14cbada42eb0",
   "metadata": {},
   "outputs": [
    {
     "name": "stdout",
     "output_type": "stream",
     "text": [
      "[[0.         0.44514923 0.44514923 0.44514923 0.26291231 0.\n",
      "  0.44514923 0.         0.         0.26291231 0.26291231]\n",
      " [0.44514923 0.         0.         0.         0.26291231 0.44514923\n",
      "  0.         0.44514923 0.44514923 0.26291231 0.26291231]]\n"
     ]
    }
   ],
   "source": [
    "print(X1.toarray())"
   ]
  },
  {
   "cell_type": "markdown",
   "id": "2e1976f1-b9d5-4084-ba15-911b8f75cbfc",
   "metadata": {},
   "source": [
    "apply n grams in tf idf vectorization and with normalization"
   ]
  },
  {
   "cell_type": "markdown",
   "id": "dab253f5-afac-49ff-a6fc-2a0f72a34858",
   "metadata": {},
   "source": [
    "it gives diff vectors equal to 1"
   ]
  },
  {
   "cell_type": "code",
   "execution_count": 58,
   "id": "8d6a3de9-eb6f-4a08-b6b2-a0680aa8eb57",
   "metadata": {},
   "outputs": [
    {
     "name": "stdout",
     "output_type": "stream",
     "text": [
      "feature name\n",
      " ['by car' 'by jack' 'car was' 'car was cleaned' 'cleaned by'\n",
      " 'cleaned by car' 'cleaned by jack' 'jack was' 'jack was cleaned'\n",
      " 'was cleaned' 'was cleaned by']\n"
     ]
    }
   ],
   "source": [
    "tfidf=TfidfVectorizer(ngram_range=(2,3),smooth_idf=False,norm=None)\n",
    "X1=tfidf.fit_transform(arr)\n",
    "#testing the n gramsgeneration\n",
    "print(\"feature name\\n\",tfidf.get_feature_names_out())"
   ]
  },
  {
   "cell_type": "code",
   "execution_count": 59,
   "id": "7f8e7637-94cf-4932-b652-53d141127fc4",
   "metadata": {},
   "outputs": [
    {
     "name": "stdout",
     "output_type": "stream",
     "text": [
      "[[0.         1.69314718 1.69314718 1.69314718 1.         0.\n",
      "  1.69314718 0.         0.         1.         1.        ]\n",
      " [1.69314718 0.         0.         0.         1.         1.69314718\n",
      "  0.         1.69314718 1.69314718 1.         1.        ]]\n"
     ]
    }
   ],
   "source": [
    "print(X1.toarray())"
   ]
  },
  {
   "cell_type": "code",
   "execution_count": null,
   "id": "2941d295-cfb6-4e26-ac1b-99b1fb6b6bee",
   "metadata": {},
   "outputs": [],
   "source": []
  }
 ],
 "metadata": {
  "kernelspec": {
   "display_name": "Python [conda env:base] *",
   "language": "python",
   "name": "conda-base-py"
  },
  "language_info": {
   "codemirror_mode": {
    "name": "ipython",
    "version": 3
   },
   "file_extension": ".py",
   "mimetype": "text/x-python",
   "name": "python",
   "nbconvert_exporter": "python",
   "pygments_lexer": "ipython3",
   "version": "3.12.7"
  }
 },
 "nbformat": 4,
 "nbformat_minor": 5
}
