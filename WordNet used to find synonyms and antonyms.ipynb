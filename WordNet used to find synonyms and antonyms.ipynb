{
 "cells": [
  {
   "cell_type": "markdown",
   "id": "7517191f-ac48-4455-8adb-cd32c448ec19",
   "metadata": {},
   "source": [
    "WordNet used to find synonyms and antonyms\n",
    "wordnet is nltk corpus reader,which is a lexical database for english"
   ]
  },
  {
   "cell_type": "code",
   "execution_count": 1,
   "id": "c1c3aab2-2561-4ffc-a86b-e0f9d234267f",
   "metadata": {},
   "outputs": [],
   "source": [
    "import nltk"
   ]
  },
  {
   "cell_type": "code",
   "execution_count": 2,
   "id": "e54501ac-0d5c-4875-8c7d-283f0fad7c38",
   "metadata": {},
   "outputs": [],
   "source": [
    "from nltk.corpus import wordnet\n",
    "synonyms=[]\n",
    "antonyms=[]"
   ]
  },
  {
   "cell_type": "code",
   "execution_count": 3,
   "id": "2b27ed54-c21a-4f23-b059-7c0549dd747e",
   "metadata": {},
   "outputs": [
    {
     "name": "stdout",
     "output_type": "stream",
     "text": [
      "synonyms=> {'participating', 'alive', 'dynamic', 'fighting', 'active_agent', 'active', 'combat-ready', 'active_voice'}\n",
      "antonyms=> {'passive_voice', 'inactive', 'dormant', 'passive', 'quiet', 'extinct', 'stative'}\n"
     ]
    }
   ],
   "source": [
    "for syn in wordnet.synsets(\"active\"):\n",
    "    for l in syn.lemmas():\n",
    "        synonyms.append(l.name())\n",
    "        if l.antonyms():\n",
    "            antonyms.append(l.antonyms()[0].name())\n",
    "print('synonyms=>',set(synonyms))\n",
    "print('antonyms=>',set(antonyms))"
   ]
  },
  {
   "cell_type": "markdown",
   "id": "67f25b30-82c0-41e0-992e-7e200935f12f",
   "metadata": {},
   "source": [
    "we passed active word and checking synonym for the word so we use wordnet.synsets()\n",
    "also append antonyms the very first one index wise and its name.\n",
    "set() ensures no duplicates"
   ]
  },
  {
   "cell_type": "code",
   "execution_count": null,
   "id": "884f3376-1bce-4b7a-ad1c-fc510691376b",
   "metadata": {},
   "outputs": [],
   "source": []
  }
 ],
 "metadata": {
  "kernelspec": {
   "display_name": "Python [conda env:base] *",
   "language": "python",
   "name": "conda-base-py"
  },
  "language_info": {
   "codemirror_mode": {
    "name": "ipython",
    "version": 3
   },
   "file_extension": ".py",
   "mimetype": "text/x-python",
   "name": "python",
   "nbconvert_exporter": "python",
   "pygments_lexer": "ipython3",
   "version": "3.12.7"
  }
 },
 "nbformat": 4,
 "nbformat_minor": 5
}
